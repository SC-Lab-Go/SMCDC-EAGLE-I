{
 "cells": [
  {
   "cell_type": "markdown",
   "metadata": {},
   "source": [
    "A pipeline to aggregate census-tract level data of social vulnerability information to the county level and re-evaluating thresholds for disadvantaged counties.\n",
    "\n",
    "Dataset: https://screeningtool.geoplatform.gov/en/methodology#3/33.47/-97.5"
   ]
  },
  {
   "cell_type": "code",
   "execution_count": 6,
   "metadata": {},
   "outputs": [],
   "source": [
    "import math\n",
    "from pathlib import Path\n",
    "import os\n",
    "\n",
    "import pandas as pd\n",
    "import numpy as numpy\n",
    "import matplotlib.pyplot as plt\n",
    "import seaborn as sns\n",
    "import numpy as np\n",
    "import pandas as pd\n",
    "import geopandas as gpd\n",
    "\n",
    "color_pal = sns.color_palette()\n",
    "sns.set_palette(\"Set2\")\n",
    "\n",
    "# HOME = Path(os.environ['HOME'])\n",
    "HOME = Path(os.environ['WORK'])\n",
    "# HOME = Path(\"/notebooks\")\n",
    "# HOME = Path(\"/mnt/c/Users/isabe\")\n",
    "# HOME = Path(\"C:/Users/isabe\")\n",
    "# PROJECT = HOME / \"Documents/repos/eagle-comp\"\n",
    "PROJECT = HOME / \"eagle-comp\"\n",
    "DATA = PROJECT / \"weather-data\"\n",
    "# EAGLE_DATA = Path(\"/datasets/eagle-comp\")\n",
    "EAGLE_DATA = HOME / \"eagle-data/eaglei_outages\""
   ]
  },
  {
   "cell_type": "code",
   "execution_count": 8,
   "metadata": {},
   "outputs": [
    {
     "name": "stderr",
     "output_type": "stream",
     "text": [
      "/tmp/ipykernel_1434553/539084251.py:1: DtypeWarning: Columns (18,26,70,72,85,131) have mixed types. Specify dtype option on import or set low_memory=False.\n",
      "  communities = pd.read_csv(DATA / \"social-vulnerability/1.0-communities.csv\", index_col=0)\n"
     ]
    }
   ],
   "source": [
    "communities = pd.read_csv(DATA / \"social-vulnerability/1.0-communities.csv\", index_col=0)"
   ]
  },
  {
   "cell_type": "code",
   "execution_count": 9,
   "metadata": {},
   "outputs": [
    {
     "data": {
      "text/plain": [
       "(74134, 132)"
      ]
     },
     "execution_count": 9,
     "metadata": {},
     "output_type": "execute_result"
    }
   ],
   "source": [
    "communities.shape"
   ]
  },
  {
   "cell_type": "code",
   "execution_count": 75,
   "metadata": {},
   "outputs": [],
   "source": [
    "def agg_to_county(df, population_col):\n",
    "    df[\"county_fips\"] = df.index // 1_000_000 \n",
    "    df.groupby(\"county_fips\")\n",
    "    # group by county_fips, take mean of numeric columns and mode of categorical columns\n",
    "    # communities.drop([\"County Name\", \"State/Territory\"], axis=1).groupby(\"county_fips\").mean()\n",
    "    # df.groupby(\"county_fips\").agg(lambda x: x.value_counts().index[0] if x.dtype == \"object\" else x.mean())\n",
    "    def agg(col):\n",
    "        # need to identify which datatypes can be summed up, and which are averaged\n",
    "        populations = df.loc[col.index, population_col]\n",
    "        col[col.isna()] = 0\n",
    "        # this should be weighted average depending either on area or population\n",
    "        return (col * populations).sum() / populations.sum()\n",
    "    return df.groupby(\"county_fips\").agg(agg)"
   ]
  },
  {
   "cell_type": "code",
   "execution_count": 11,
   "metadata": {},
   "outputs": [],
   "source": [
    "climate_change = [\n",
    "    \"Expected agricultural loss rate (Natural Hazards Risk Index)\",\n",
    "    \"Expected building loss rate (Natural Hazards Risk Index)\",\n",
    "    \"Expected population loss rate (Natural Hazards Risk Index)\",\n",
    "    \"Share of properties at risk of flood in 30 years\",\n",
    "    \"Share of properties at risk of fire in 30 years\"]\n",
    "\n",
    "energy = [\n",
    "    \"Energy burden\",\n",
    "    \"PM2.5 in the air\"\n",
    "]\n",
    "\n",
    "health = [\n",
    "    \"Current asthma among adults aged greater than or equal to 18 years\",\n",
    "    \"Diagnosed diabetes among adults aged greater than or equal to 18 years\",\n",
    "    \"Coronary heart disease among adults aged greater than or equal to 18 years\",\n",
    "    \"Low life expectancy (percentile)\",\n",
    "]\n",
    "\n",
    "housing = [\n",
    "    \"Tract experienced historic underinvestment\",\n",
    "    # \"Housing burden (percent)\",\n",
    "    \"Median value ($) of owner-occupied housing units\",\n",
    "    \"Share of the tract\\'s land area that is covered by impervious surface or cropland as a percent\",\n",
    "    # \"Greater than or equal to the 90th percentile for share of the tract\\'s land area that is covered by impervious surface or cropland as a percent and is low income?\",\n",
    "    \"Share of homes with no kitchen or indoor plumbing (percent)\",\n",
    "    \"Percent pre-1960s housing (lead paint indicator)\"\n",
    "]\n",
    "\n",
    "legacy_pollution = [\n",
    "    \"Is there at least one abandoned mine in this census tract, where missing data is treated as False?\",\n",
    "    \"Is there at least one Formerly Used Defense Site (FUDS) in the tract, where missing data is treated as False?\",\n",
    "    \"Proximity to hazardous waste sites\",\n",
    "    \"Proximity to NPL (Superfund) sites\",\n",
    "    \"Proximity to Risk Management Plan (RMP) facilities\",\n",
    "]\n",
    "\n",
    "transportation = [\n",
    "    \"Diesel particulate matter exposure\",\n",
    "    \"DOT Travel Barriers Score (percentile)\",\n",
    "    \"Traffic proximity and volume\"\n",
    "] \n",
    "\n",
    "water_and_wastewater = [\n",
    "    \"Leaky underground storage tanks\",\n",
    "    \"Wastewater discharge\",\n",
    "]\n",
    "\n",
    "workforce_development = [\n",
    "    \"Linguistic isolation (percent)\",\n",
    "    \"Median household income as a percent of area median income\",\n",
    "    # \"Low median household income as a percent of area median income\",\n",
    "    \"Percent of individuals < 100% Federal Poverty Line\",\n",
    "    \"Unemployment (percent)\"\n",
    "]\n",
    "\n",
    "low_income = [\n",
    "    \"Percent of individuals below 200% Federal Poverty Line\",\n",
    "]\n",
    "\n",
    "high_school_education = [\n",
    "    \"Percent individuals age 25 or over with less than high school degree\"\n",
    "]\n",
    "\n",
    "total_population = [\n",
    "    \"Total population\"\n",
    "]\n",
    "\n",
    "features = climate_change + energy + health + housing + legacy_pollution \\\n",
    "    + transportation + water_and_wastewater + workforce_development \\\n",
    "    + low_income + high_school_education + total_population"
   ]
  },
  {
   "cell_type": "code",
   "execution_count": 76,
   "metadata": {},
   "outputs": [
    {
     "name": "stderr",
     "output_type": "stream",
     "text": [
      "/tmp/ipykernel_1434553/3002585502.py:12: RuntimeWarning: invalid value encountered in scalar divide\n",
      "  return (col * populations).sum() / populations.sum()\n"
     ]
    }
   ],
   "source": [
    "filtered = communities.loc[:, features]\n",
    "filtered.loc[filtered[\"Tract experienced historic underinvestment\"].isna(), \"Tract experienced historic underinvestment\"] = False\n",
    "filtered.loc[:, \"Tract experienced historic underinvestment\"] = filtered[\"Tract experienced historic underinvestment\"].astype(bool)\n",
    "filtered[\"DOT Travel Barriers Score (percentile)\"] = filtered[\"DOT Travel Barriers Score (percentile)\"] > 90\n",
    "bool_columns = filtered.columns[filtered.dtypes == bool]\n",
    "filtered[bool_columns] = filtered[bool_columns].astype(int)\n",
    "socio_counties = agg_to_county(filtered, \"Total population\")"
   ]
  },
  {
   "cell_type": "code",
   "execution_count": null,
   "metadata": {},
   "outputs": [],
   "source": [
    "from scipy.stats import percentileofscore\n",
    "# get percentile values for each county\n",
    "percentile_county_housing = socio_counties[housing].apply(lambda x: x.apply(lambda y: percentileofscore(x, y)))\n",
    "percentile_low_income = socio_counties[low_income].apply(lambda x: x.apply(lambda y: percentileofscore(x, y)))\n",
    "disadvantaged_housing = ((percentile_county_housing > 90).any(axis=1) & (percentile_low_income >= 65).T).T \\\n",
    "    .where(lambda x: x == True).dropna().index.tolist()\n",
    "\n",
    "percentile_county_transportation = socio_counties[transportation].apply(lambda x: x.apply(lambda y: percentileofscore(x, y)))\n",
    "disadvantaged_transportation = ((percentile_county_transportation > 90).any(axis=1) & (percentile_low_income >= 65).T).T \\\n",
    "    .where(lambda x: x == True).dropna().index.tolist()\n",
    "\n",
    "percentile_workforce_development = socio_counties[workforce_development].apply(lambda x: x.apply(lambda y: percentileofscore(x, y)))\n",
    "high_school_attainment = socio_counties[high_school_education]\n",
    "disadvantaged_workforce_development = ((percentile_workforce_development > 90).any(axis=1) & (high_school_attainment < 10).T).T \\\n",
    "    .where(lambda x: x == True).dropna().index.tolist()\n",
    "\n",
    "percentile_energy = socio_counties[energy].apply(lambda x: x.apply(lambda y: percentileofscore(x, y)))\n",
    "disadvantaged_energy = ((percentile_energy > 90).any(axis=1) & (percentile_low_income >= 65).T) \\\n",
    "    .where(lambda x: x == True).dropna().index.tolist()"
   ]
  },
  {
   "cell_type": "code",
   "execution_count": 122,
   "metadata": {},
   "outputs": [],
   "source": [
    "from scipy.stats import percentileofscore\n",
    "percentile_climate_change = socio_counties[climate_change].apply(lambda x: x.apply(lambda y: percentileofscore(x, y, nan_policy='omit')))\n",
    "percentile_low_income = socio_counties[low_income].apply(lambda x: x.apply(lambda y: percentileofscore(x, y, nan_policy='omit')))\n",
    "disadvantaged_climate_change = ((percentile_low_income >= 65).iloc[:, 0] & (percentile_climate_change >= 90).any(axis=1)) \\\n",
    "    .where(lambda x: x==True).dropna().index.tolist()"
   ]
  },
  {
   "cell_type": "code",
   "execution_count": 123,
   "metadata": {},
   "outputs": [],
   "source": [
    "percentile_energy = socio_counties[energy].apply(lambda x: x.apply(lambda y: percentileofscore(x, y, nan_policy='omit')))\n",
    "disadvantaged_energy = ((percentile_low_income >= 65).iloc[:, 0] & (percentile_energy >= 90).any(axis=1)) \\\n",
    "    .where(lambda x: x==True).dropna().index.tolist()"
   ]
  },
  {
   "cell_type": "code",
   "execution_count": 129,
   "metadata": {},
   "outputs": [],
   "source": [
    "percentile_health = socio_counties[health].apply(lambda x: x.apply(lambda y: percentileofscore(x, y, nan_policy='omit')))\n",
    "disadvantaged_health = ((percentile_low_income >= 65).iloc[:, 0] & (percentile_health >= 90).any(axis=1)) \\\n",
    "    .where(lambda x: x==True).dropna().index.tolist()"
   ]
  },
  {
   "cell_type": "code",
   "execution_count": 131,
   "metadata": {},
   "outputs": [],
   "source": [
    "# get percentile values for each county\n",
    "percentile_housing = socio_counties[housing].apply(lambda x: x.apply(lambda y: percentileofscore(x, y, nan_policy='omit')))\n",
    "# disadvantaged_housing = ((percentile_county_housing > 90).any(axis=1) & (percentile_low_income > 65).T).T \\\n",
    "#     .where(lambda x: x == True).dropna().index.tolist()\n",
    "disadvantaged_housing = ((percentile_low_income >= 65).iloc[:, 0] & (percentile_housing >= 90).any(axis=1)) \\\n",
    "    .where(lambda x: x==True).dropna().index.tolist()"
   ]
  },
  {
   "cell_type": "code",
   "execution_count": 133,
   "metadata": {},
   "outputs": [],
   "source": [
    "percentile_legacy_pollution = socio_counties[legacy_pollution].apply(lambda x: x.apply(lambda y: percentileofscore(x, y, nan_policy='omit')))\n",
    "disadvantaged_legacy_pollution = ((percentile_low_income >= 65).iloc[:, 0] & (percentile_legacy_pollution >= 90).any(axis=1)) \\\n",
    "    .where(lambda x: x==True).dropna().index.tolist()"
   ]
  },
  {
   "cell_type": "code",
   "execution_count": 135,
   "metadata": {},
   "outputs": [],
   "source": [
    "percentile_transportation = socio_counties[transportation].apply(lambda x: x.apply(lambda y: percentileofscore(x, y, nan_policy='omit')))\n",
    "# disadvantaged_transportation = ((percentile_county_transportation > 90).any(axis=1) & (percentile_low_income > 65).T).T.where(lambda x: x == True).dropna().index.tolist()\n",
    "disadvantaged_transportation = ((percentile_low_income >= 65).iloc[:, 0] & (percentile_transportation >= 90).any(axis=1)) \\\n",
    "    .where(lambda x: x==True).dropna().index.tolist()"
   ]
  },
  {
   "cell_type": "code",
   "execution_count": 137,
   "metadata": {},
   "outputs": [],
   "source": [
    "percentile_waste_wastewater = socio_counties[water_and_wastewater].apply(lambda x: x.apply(lambda y: percentileofscore(x, y, nan_policy='omit')))\n",
    "disadvantaged_waste_wastewater = ((percentile_low_income >= 65).iloc[:, 0] & (percentile_waste_wastewater >= 90).any(axis=1)) \\\n",
    "    .where(lambda x: x==True).dropna().index.tolist()"
   ]
  },
  {
   "cell_type": "code",
   "execution_count": 139,
   "metadata": {},
   "outputs": [],
   "source": [
    "percentile_workforce_development = socio_counties[workforce_development].apply(lambda x: x.apply(lambda y: percentileofscore(x, y, nan_policy='omit')))\n",
    "high_school_attainment = socio_counties[high_school_education]\n",
    "# disadvantaged_workforce_development = ((percentile_workforce_development >= 90).any(axis=1) & (high_school_attainment < 10).T).T \\\n",
    "#     .where(lambda x: x == True).dropna().index.tolist()\n",
    "disadvantaged_workface_development = ((high_school_attainment < 10).iloc[:, 0] & (percentile_workforce_development >= 90).any(axis=1)) \\\n",
    "    .where(lambda x: x == True).dropna().index.tolist()"
   ]
  },
  {
   "cell_type": "code",
   "execution_count": 23,
   "metadata": {},
   "outputs": [],
   "source": [
    "outages_2022 = pd.read_csv(PROJECT / 'outages_duration_2022.csv', parse_dates=True)"
   ]
  },
  {
   "cell_type": "code",
   "execution_count": 34,
   "metadata": {},
   "outputs": [],
   "source": [
    "outages_2022.drop(columns=[\"trend\", \"threshold\"], inplace=True)"
   ]
  },
  {
   "cell_type": "code",
   "execution_count": null,
   "metadata": {},
   "outputs": [],
   "source": [
    "outages_2022 = outages_2022.set_index(['fips_code', 'run_start_time']).sort_index()"
   ]
  },
  {
   "cell_type": "code",
   "execution_count": 141,
   "metadata": {},
   "outputs": [],
   "source": [
    "disadvantaged_categories = [disadvantaged_climate_change, disadvantaged_energy, \n",
    "    disadvantaged_health, disadvantaged_housing, \n",
    "    disadvantaged_legacy_pollution, disadvantaged_transportation, \n",
    "    disadvantaged_waste_wastewater, disadvantaged_workface_development]\n",
    "county_union = set(n for l in disadvantaged_categories for n in l)"
   ]
  },
  {
   "cell_type": "code",
   "execution_count": 142,
   "metadata": {},
   "outputs": [],
   "source": [
    "def agg_outage_events(df):\n",
    "    return df.groupby(['fips_code', 'outage_id']).agg({\"sum\": \"max\", \"duration\": \"first\"}).where(lambda x: x['sum'] > 0).dropna(how='all')\n",
    "def filter_fips(df, l, negate=False):\n",
    "    return df[df.index.get_level_values('fips_code').isin(l)] if not negate else df[~df.index.get_level_values('fips_code').isin(l)]"
   ]
  },
  {
   "cell_type": "code",
   "execution_count": 143,
   "metadata": {},
   "outputs": [],
   "source": [
    "# convert outages_2022['duration']] to timedelta\n",
    "outages_2022['duration'] = pd.to_timedelta(outages_2022['duration'], unit='m')"
   ]
  },
  {
   "cell_type": "code",
   "execution_count": 144,
   "metadata": {},
   "outputs": [],
   "source": [
    "# convert outages_2022['duration'] (timedelta) to number of minutes\n",
    "outages_2022['duration'] = outages_2022['duration'].dt.total_seconds()//60"
   ]
  },
  {
   "cell_type": "code",
   "execution_count": 163,
   "metadata": {},
   "outputs": [],
   "source": [
    "# all_disadvantaged = agg_outage_events(outages_2022[outages_2022.index.get_level_values(\"fips_code\").isin(county_union)])\n",
    "all_disadvantaged = agg_outage_events(filter_fips(outages_2022, county_union, negate=False))\n",
    "    # .groupby(['fips_code', 'outage_id']).agg({\"sum\": \"max\", \"duration\": \"first\"})\n",
    "# non_disadvantaged = agg_outage_events(outages_2022[~outages_2022.index.get_level_values(\"fips_code\").isin(county_union)])\n",
    "non_disadvantaged = agg_outage_events(filter_fips(outages_2022, county_union, negate=True))\n",
    "    # .groupby(['fips_code', 'outage_id']).agg({\"sum\": \"max\", \"duration\": \"first\"})\n",
    "# fips = non_disadvantaged.index.get_level_values(\"fips_code\").tolist()\n",
    "# np.random.seed(0)\n",
    "# sample_fips = np.random.choice(fips, size=len(county_union), replace=False)\n",
    "# non_disadvantaged = non_disadvantaged.loc[sample_fips]"
   ]
  },
  {
   "cell_type": "code",
   "execution_count": 19,
   "metadata": {},
   "outputs": [
    {
     "data": {
      "text/plain": [
       "(Disadvantaged counties    825.0\n",
       " All other counties        795.0\n",
       " Name: duration, dtype: float64,\n",
       " Disadvantaged counties    366.0\n",
       " All other counties        431.0\n",
       " Name: sum, dtype: float64)"
      ]
     },
     "execution_count": 19,
     "metadata": {},
     "output_type": "execute_result"
    }
   ],
   "source": [
    "df = pd.DataFrame({'Disadvantaged counties': all_disadvantaged.quantile(0.9), 'All other counties':non_disadvantaged.quantile(0.9)})\n",
    "df.T['duration'], df.T['sum']"
   ]
  },
  {
   "cell_type": "code",
   "execution_count": 20,
   "metadata": {},
   "outputs": [
    {
     "data": {
      "text/plain": [
       "(All disadvantaged counties    485.601367\n",
       " All other counties            470.807800\n",
       " Name: duration, dtype: float64,\n",
       " All disadvantaged counties    207.009799\n",
       " All other counties            227.484552\n",
       " Name: sum, dtype: float64)"
      ]
     },
     "execution_count": 20,
     "metadata": {},
     "output_type": "execute_result"
    }
   ],
   "source": [
    "df = pd.DataFrame({'All disadvantaged counties': all_disadvantaged.mean(), 'All other counties':non_disadvantaged.mean()})\n",
    "df.T['duration'], df.T['sum']"
   ]
  },
  {
   "cell_type": "code",
   "execution_count": 23,
   "metadata": {},
   "outputs": [],
   "source": [
    "# non_disadvantaged = agg_outage_events(filter_fips(outages_2022, county_union, negate=True))\n",
    "# fips = non_disadvantaged.index.get_level_values(\"fips_code\").tolist()\n",
    "# np.random.seed(0)\n",
    "# sample_size = int(np.mean([len(l) for l in disadvantaged_categories]))\n",
    "# sample_fips = np.random.choice(fips, size=sample_size, replace=False)\n",
    "# non_disadvantaged = non_disadvantaged.loc[sample_fips]"
   ]
  },
  {
   "cell_type": "code",
   "execution_count": 164,
   "metadata": {},
   "outputs": [],
   "source": [
    "bar_chart_vals = pd.DataFrame({\n",
    "    'Not disadvantaged counties': agg_outage_events(non_disadvantaged).mean(),\n",
    "    'All disadvantaged counties': agg_outage_events(all_disadvantaged).mean(),\n",
    "    'Climate Change': agg_outage_events(filter_fips(outages_2022, disadvantaged_climate_change)).mean(),\n",
    "    'Energy': agg_outage_events(filter_fips(outages_2022, disadvantaged_energy)).mean(),\n",
    "    'Health': agg_outage_events(filter_fips(outages_2022, disadvantaged_health)).mean(),\n",
    "    'Housing': agg_outage_events(filter_fips(outages_2022, disadvantaged_housing)).mean(),\n",
    "    'Legacy Pollution': agg_outage_events(filter_fips(outages_2022, disadvantaged_legacy_pollution)).mean(),\n",
    "    'Transportation': agg_outage_events(filter_fips(outages_2022, disadvantaged_transportation)).mean(),\n",
    "    'Waste Water': agg_outage_events(filter_fips(outages_2022, disadvantaged_waste_wastewater)).mean(),\n",
    "    'Workforce development': agg_outage_events(filter_fips(outages_2022, disadvantaged_workface_development)).mean(),\n",
    "})"
   ]
  },
  {
   "cell_type": "code",
   "execution_count": 151,
   "metadata": {},
   "outputs": [
    {
     "data": {
      "text/html": [
       "<div>\n",
       "<style scoped>\n",
       "    .dataframe tbody tr th:only-of-type {\n",
       "        vertical-align: middle;\n",
       "    }\n",
       "\n",
       "    .dataframe tbody tr th {\n",
       "        vertical-align: top;\n",
       "    }\n",
       "\n",
       "    .dataframe thead th {\n",
       "        text-align: right;\n",
       "    }\n",
       "</style>\n",
       "<table border=\"1\" class=\"dataframe\">\n",
       "  <thead>\n",
       "    <tr style=\"text-align: right;\">\n",
       "      <th></th>\n",
       "      <th>All other counties</th>\n",
       "      <th>All disadvantaged counties</th>\n",
       "      <th>Climate Change</th>\n",
       "      <th>Energy</th>\n",
       "      <th>Health</th>\n",
       "      <th>Housing</th>\n",
       "      <th>Legacy Pollution</th>\n",
       "      <th>Transportation</th>\n",
       "      <th>Waste Water</th>\n",
       "      <th>Workforce development</th>\n",
       "    </tr>\n",
       "  </thead>\n",
       "  <tbody>\n",
       "    <tr>\n",
       "      <th>sum</th>\n",
       "      <td>226.376153</td>\n",
       "      <td>208.788050</td>\n",
       "      <td>142.259364</td>\n",
       "      <td>143.947554</td>\n",
       "      <td>100.772549</td>\n",
       "      <td>337.276635</td>\n",
       "      <td>310.704218</td>\n",
       "      <td>326.902462</td>\n",
       "      <td>315.990679</td>\n",
       "      <td>312.150980</td>\n",
       "    </tr>\n",
       "    <tr>\n",
       "      <th>duration</th>\n",
       "      <td>471.053166</td>\n",
       "      <td>485.145843</td>\n",
       "      <td>506.683175</td>\n",
       "      <td>507.206133</td>\n",
       "      <td>522.767270</td>\n",
       "      <td>520.095360</td>\n",
       "      <td>533.088688</td>\n",
       "      <td>481.395747</td>\n",
       "      <td>476.749159</td>\n",
       "      <td>427.693611</td>\n",
       "    </tr>\n",
       "  </tbody>\n",
       "</table>\n",
       "</div>"
      ],
      "text/plain": [
       "          All other counties  All disadvantaged counties  Climate Change  \\\n",
       "sum               226.376153                  208.788050      142.259364   \n",
       "duration          471.053166                  485.145843      506.683175   \n",
       "\n",
       "              Energy      Health     Housing  Legacy Pollution  \\\n",
       "sum       143.947554  100.772549  337.276635        310.704218   \n",
       "duration  507.206133  522.767270  520.095360        533.088688   \n",
       "\n",
       "          Transportation  Waste Water  Workforce development  \n",
       "sum           326.902462   315.990679             312.150980  \n",
       "duration      481.395747   476.749159             427.693611  "
      ]
     },
     "execution_count": 151,
     "metadata": {},
     "output_type": "execute_result"
    }
   ],
   "source": [
    "bar_chart_vals"
   ]
  },
  {
   "cell_type": "code",
   "execution_count": 109,
   "metadata": {},
   "outputs": [],
   "source": [
    "# bar_chart_vals = pd.DataFrame({\n",
    "#     'All other counties': agg_outage_events(non_disadvantaged).quantile(0.9),\n",
    "#     'All disadvantaged counties': agg_outage_events(all_disadvantaged).quantile(0.9),\n",
    "#     'Climate Change': agg_outage_events(filter_fips(outages_2022, disadvantaged_climate_change)).quantile(0.9),\n",
    "#     'Energy': agg_outage_events(filter_fips(outages_2022, disadvantaged_energy)).quantile(0.9),\n",
    "#     'Health': agg_outage_events(filter_fips(outages_2022, disadvantaged_health)).quantile(0.9),\n",
    "#     'Housing': agg_outage_events(filter_fips(outages_2022, disadvantaged_housing)).quantile(0.9),\n",
    "#     'Legacy Pollution': agg_outage_events(filter_fips(outages_2022, disadvantaged_legacy_pollution)).quantile(0.9),\n",
    "#     'Transportation': agg_outage_events(filter_fips(outages_2022, disadvantaged_transportation)).quantile(0.9),\n",
    "#     'Waste Water': agg_outage_events(filter_fips(outages_2022, disadvantaged_waste_wastewater)).quantile(0.9),\n",
    "#     'Workforce development': agg_outage_events(filter_fips(outages_2022, disadvantaged_workface_development)).quantile(0.9)\n",
    "# })"
   ]
  },
  {
   "cell_type": "code",
   "execution_count": 167,
   "metadata": {},
   "outputs": [],
   "source": [
    "other = bar_chart_vals['Not disadvantaged counties']\n",
    "all_disadvantaged = bar_chart_vals['All disadvantaged counties']\n",
    "bar_chart_vals = bar_chart_vals.iloc[:, 2:].T.sort_values(by=['duration'], ascending=False)\n",
    "bar_chart_vals = pd.concat([bar_chart_vals.T, all_disadvantaged, other], axis=1)"
   ]
  },
  {
   "cell_type": "code",
   "execution_count": 168,
   "metadata": {},
   "outputs": [
    {
     "data": {
      "text/plain": [
       "Legacy Pollution              533.088688\n",
       "Health                        522.767270\n",
       "Housing                       520.095360\n",
       "Energy                        507.206133\n",
       "Climate Change                506.683175\n",
       "Transportation                481.395747\n",
       "Waste Water                   476.749159\n",
       "Workforce development         427.693611\n",
       "All disadvantaged counties    485.145843\n",
       "Not disadvantaged counties    471.053166\n",
       "Name: duration, dtype: float64"
      ]
     },
     "execution_count": 168,
     "metadata": {},
     "output_type": "execute_result"
    }
   ],
   "source": [
    "bar_chart_vals.T['duration']"
   ]
  },
  {
   "cell_type": "code",
   "execution_count": 183,
   "metadata": {},
   "outputs": [
    {
     "data": {
      "image/png": "[encoded data removed]",
      "text/plain": [
       "<Figure size 336x240 with 1 Axes>"
      ]
     },
     "metadata": {
      "needs_background": "light"
     },
     "output_type": "display_data"
    }
   ],
   "source": [
    "from matplotlib.lines import Line2D\n",
    "%matplotlib inline\n",
    "# make first bar first color and all othe other bars the second color\n",
    "barlist = bar_chart_vals.T['duration'].plot.barh(figsize=(7/3*2, 5/3*2))\n",
    "barlist.patches[-1].set_color(color_pal[0])\n",
    "# plt.title('Mean duration of significant outages by disadvantaged category')\n",
    "[p.set_color(color_pal[1]) for p in barlist.patches[:-1]]\n",
    "# add number labels to right of bars\n",
    "for i, p in enumerate(barlist.patches):\n",
    "    width = p.get_width()\n",
    "    plt.text(0.96*p.get_width(), p.get_y()+0.55*p.get_height(),\n",
    "             '{:1.0f}'.format(width),\n",
    "             ha='center', va='center', color='white' if i == 9 else 'black')\n",
    "\n",
    "# change fontsize of ytick labels\n",
    "plt.yticks(fontsize=10)\n",
    "# plt.axvline(x=bar_chart_vals.loc['duration', 'All other counties'], \n",
    "plt.axvline(x=bar_chart_vals.loc['duration', 'Not disadvantaged counties'], \n",
    "    color='black', linestyle='--', \n",
    "    alpha=0.5, label = 'Mean outage duration in non-disadvantaged counties')\n",
    "plt.legend(handles=[Line2D([0], [0], color=color_pal[0], lw=4, label='Not disadvantaged'),\n",
    "                    Line2D([0], [0], color=color_pal[1], lw=4, label='Disadvantaged category'),\n",
    "                    Line2D([0], [0], color='black', lw=4, linestyle='--', label='Mean outage duration in \\nnon-disadvantaged counties')\n",
    "                     ],\n",
    "                    loc='lower left')\n",
    "plt.xlabel('Mean outage duration (Minutes)')\n",
    "fig = plt.gcf()\n",
    "# plt.hline(y = bar_chart_vals.loc['duration', 'All other counties'])\n",
    "# draw dotted horizontal line\n",
    "# plt.xlim(350, 550)"
   ]
  },
  {
   "cell_type": "code",
   "execution_count": 184,
   "metadata": {},
   "outputs": [],
   "source": [
    "fig.savefig(PROJECT / 'mean-social-vulnerability-duration.pdf', bbox_inches='tight')"
   ]
  },
  {
   "cell_type": "code",
   "execution_count": 46,
   "metadata": {},
   "outputs": [
    {
     "ename": "TypeError",
     "evalue": "unsupported operand type(s) for +: 'numpy.int64' and 'Timedelta'",
     "output_type": "error",
     "traceback": [
      "\u001b[0;31m---------------------------------------------------------------------------\u001b[0m",
      "\u001b[0;31mTypeError\u001b[0m                                 Traceback (most recent call last)",
      "Cell \u001b[0;32mIn[46], line 3\u001b[0m\n\u001b[1;32m      1\u001b[0m \u001b[39mfrom\u001b[39;00m \u001b[39mmatplotlib\u001b[39;00m\u001b[39m.\u001b[39;00m\u001b[39mlines\u001b[39;00m \u001b[39mimport\u001b[39;00m Line2D\n\u001b[1;32m      2\u001b[0m \u001b[39m# make first bar first color and all othe other bars the second color\u001b[39;00m\n\u001b[0;32m----> 3\u001b[0m barlist \u001b[39m=\u001b[39m bar_chart_vals\u001b[39m.\u001b[39mT[\u001b[39m'\u001b[39m\u001b[39mduration\u001b[39m\u001b[39m'\u001b[39m]\u001b[39m.\u001b[39mplot\u001b[39m.\u001b[39mbarh()\n\u001b[1;32m      4\u001b[0m barlist\u001b[39m.\u001b[39mpatches[\u001b[39m-\u001b[39m\u001b[39m1\u001b[39m]\u001b[39m.\u001b[39mset_color(color_pal[\u001b[39m0\u001b[39m])\n\u001b[1;32m      5\u001b[0m plt\u001b[39m.\u001b[39mtitle(\u001b[39m'\u001b[39m\u001b[39mMean duration of significant outages by disadvantaged category\u001b[39m\u001b[39m'\u001b[39m)\n",
      "File \u001b[0;32m/work/09475/iwagenvoord/ls6/eagle-comp/eagle-env/lib/python3.11/site-packages/pandas/plotting/_core.py:1222\u001b[0m, in \u001b[0;36mPlotAccessor.barh\u001b[0;34m(self, x, y, **kwargs)\u001b[0m\n\u001b[1;32m   1138\u001b[0m \u001b[39m@Appender\u001b[39m(\n\u001b[1;32m   1139\u001b[0m     \u001b[39m\"\"\"\u001b[39;00m\n\u001b[1;32m   1140\u001b[0m \u001b[39m    See Also\u001b[39;00m\n\u001b[0;32m   (...)\u001b[0m\n\u001b[1;32m   1211\u001b[0m \u001b[39m@Appender\u001b[39m(_bar_or_line_doc)\n\u001b[1;32m   1212\u001b[0m \u001b[39mdef\u001b[39;00m \u001b[39mbarh\u001b[39m(\u001b[39mself\u001b[39m, x\u001b[39m=\u001b[39m\u001b[39mNone\u001b[39;00m, y\u001b[39m=\u001b[39m\u001b[39mNone\u001b[39;00m, \u001b[39m*\u001b[39m\u001b[39m*\u001b[39mkwargs) \u001b[39m-\u001b[39m\u001b[39m>\u001b[39m PlotAccessor:\n\u001b[1;32m   1213\u001b[0m     \u001b[39m\"\"\"\u001b[39;00m\n\u001b[1;32m   1214\u001b[0m \u001b[39m    Make a horizontal bar plot.\u001b[39;00m\n\u001b[1;32m   1215\u001b[0m \n\u001b[0;32m   (...)\u001b[0m\n\u001b[1;32m   1220\u001b[0m \u001b[39m    other axis represents a measured value.\u001b[39;00m\n\u001b[1;32m   1221\u001b[0m \u001b[39m    \"\"\"\u001b[39;00m\n\u001b[0;32m-> 1222\u001b[0m     \u001b[39mreturn\u001b[39;00m \u001b[39mself\u001b[39m(kind\u001b[39m=\u001b[39m\u001b[39m\"\u001b[39m\u001b[39mbarh\u001b[39m\u001b[39m\"\u001b[39m, x\u001b[39m=\u001b[39mx, y\u001b[39m=\u001b[39my, \u001b[39m*\u001b[39m\u001b[39m*\u001b[39mkwargs)\n",
      "File \u001b[0;32m/work/09475/iwagenvoord/ls6/eagle-comp/eagle-env/lib/python3.11/site-packages/pandas/plotting/_core.py:975\u001b[0m, in \u001b[0;36mPlotAccessor.__call__\u001b[0;34m(self, *args, **kwargs)\u001b[0m\n\u001b[1;32m    972\u001b[0m             label_name \u001b[39m=\u001b[39m label_kw \u001b[39mor\u001b[39;00m data\u001b[39m.\u001b[39mcolumns\n\u001b[1;32m    973\u001b[0m             data\u001b[39m.\u001b[39mcolumns \u001b[39m=\u001b[39m label_name\n\u001b[0;32m--> 975\u001b[0m \u001b[39mreturn\u001b[39;00m plot_backend\u001b[39m.\u001b[39mplot(data, kind\u001b[39m=\u001b[39mkind, \u001b[39m*\u001b[39m\u001b[39m*\u001b[39mkwargs)\n",
      "File \u001b[0;32m/work/09475/iwagenvoord/ls6/eagle-comp/eagle-env/lib/python3.11/site-packages/pandas/plotting/_matplotlib/__init__.py:71\u001b[0m, in \u001b[0;36mplot\u001b[0;34m(data, kind, **kwargs)\u001b[0m\n\u001b[1;32m     69\u001b[0m         kwargs[\u001b[39m\"\u001b[39m\u001b[39max\u001b[39m\u001b[39m\"\u001b[39m] \u001b[39m=\u001b[39m \u001b[39mgetattr\u001b[39m(ax, \u001b[39m\"\u001b[39m\u001b[39mleft_ax\u001b[39m\u001b[39m\"\u001b[39m, ax)\n\u001b[1;32m     70\u001b[0m plot_obj \u001b[39m=\u001b[39m PLOT_CLASSES[kind](data, \u001b[39m*\u001b[39m\u001b[39m*\u001b[39mkwargs)\n\u001b[0;32m---> 71\u001b[0m plot_obj\u001b[39m.\u001b[39mgenerate()\n\u001b[1;32m     72\u001b[0m plot_obj\u001b[39m.\u001b[39mdraw()\n\u001b[1;32m     73\u001b[0m \u001b[39mreturn\u001b[39;00m plot_obj\u001b[39m.\u001b[39mresult\n",
      "File \u001b[0;32m/work/09475/iwagenvoord/ls6/eagle-comp/eagle-env/lib/python3.11/site-packages/pandas/plotting/_matplotlib/core.py:448\u001b[0m, in \u001b[0;36mMPLPlot.generate\u001b[0;34m(self)\u001b[0m\n\u001b[1;32m    446\u001b[0m \u001b[39mself\u001b[39m\u001b[39m.\u001b[39m_compute_plot_data()\n\u001b[1;32m    447\u001b[0m \u001b[39mself\u001b[39m\u001b[39m.\u001b[39m_setup_subplots()\n\u001b[0;32m--> 448\u001b[0m \u001b[39mself\u001b[39m\u001b[39m.\u001b[39m_make_plot()\n\u001b[1;32m    449\u001b[0m \u001b[39mself\u001b[39m\u001b[39m.\u001b[39m_add_table()\n\u001b[1;32m    450\u001b[0m \u001b[39mself\u001b[39m\u001b[39m.\u001b[39m_make_legend()\n",
      "File \u001b[0;32m/work/09475/iwagenvoord/ls6/eagle-comp/eagle-env/lib/python3.11/site-packages/pandas/plotting/_matplotlib/core.py:1730\u001b[0m, in \u001b[0;36mBarPlot._make_plot\u001b[0;34m(self)\u001b[0m\n\u001b[1;32m   1728\u001b[0m \u001b[39melse\u001b[39;00m:\n\u001b[1;32m   1729\u001b[0m     w \u001b[39m=\u001b[39m \u001b[39mself\u001b[39m\u001b[39m.\u001b[39mbar_width \u001b[39m/\u001b[39m K\n\u001b[0;32m-> 1730\u001b[0m     rect \u001b[39m=\u001b[39m \u001b[39mself\u001b[39m\u001b[39m.\u001b[39m_plot(\n\u001b[1;32m   1731\u001b[0m         ax,\n\u001b[1;32m   1732\u001b[0m         \u001b[39mself\u001b[39m\u001b[39m.\u001b[39max_pos \u001b[39m+\u001b[39m (i \u001b[39m+\u001b[39m \u001b[39m0.5\u001b[39m) \u001b[39m*\u001b[39m w,\n\u001b[1;32m   1733\u001b[0m         y,\n\u001b[1;32m   1734\u001b[0m         w,\n\u001b[1;32m   1735\u001b[0m         start\u001b[39m=\u001b[39mstart,\n\u001b[1;32m   1736\u001b[0m         label\u001b[39m=\u001b[39mlabel,\n\u001b[1;32m   1737\u001b[0m         log\u001b[39m=\u001b[39m\u001b[39mself\u001b[39m\u001b[39m.\u001b[39mlog,\n\u001b[1;32m   1738\u001b[0m         \u001b[39m*\u001b[39m\u001b[39m*\u001b[39mkwds,\n\u001b[1;32m   1739\u001b[0m     )\n\u001b[1;32m   1740\u001b[0m \u001b[39mself\u001b[39m\u001b[39m.\u001b[39m_append_legend_handles_labels(rect, label)\n",
      "File \u001b[0;32m/work/09475/iwagenvoord/ls6/eagle-comp/eagle-env/lib/python3.11/site-packages/pandas/plotting/_matplotlib/core.py:1793\u001b[0m, in \u001b[0;36mBarhPlot._plot\u001b[0;34m(cls, ax, x, y, w, start, log, **kwds)\u001b[0m\n\u001b[1;32m   1782\u001b[0m \u001b[39m@classmethod\u001b[39m\n\u001b[1;32m   1783\u001b[0m \u001b[39mdef\u001b[39;00m \u001b[39m_plot\u001b[39m(  \u001b[39m# type: ignore[override]\u001b[39;00m\n\u001b[1;32m   1784\u001b[0m     \u001b[39mcls\u001b[39m,\n\u001b[0;32m   (...)\u001b[0m\n\u001b[1;32m   1791\u001b[0m     \u001b[39m*\u001b[39m\u001b[39m*\u001b[39mkwds,\n\u001b[1;32m   1792\u001b[0m ):\n\u001b[0;32m-> 1793\u001b[0m     \u001b[39mreturn\u001b[39;00m ax\u001b[39m.\u001b[39mbarh(x, y, w, left\u001b[39m=\u001b[39mstart, log\u001b[39m=\u001b[39mlog, \u001b[39m*\u001b[39m\u001b[39m*\u001b[39mkwds)\n",
      "File \u001b[0;32m/work/09475/iwagenvoord/ls6/eagle-comp/eagle-env/lib/python3.11/site-packages/matplotlib/axes/_axes.py:2649\u001b[0m, in \u001b[0;36mAxes.barh\u001b[0;34m(self, y, width, height, left, align, data, **kwargs)\u001b[0m\n\u001b[1;32m   2539\u001b[0m \u001b[39mr\u001b[39m\u001b[39m\"\"\"\u001b[39;00m\n\u001b[1;32m   2540\u001b[0m \u001b[39mMake a horizontal bar plot.\u001b[39;00m\n\u001b[1;32m   2541\u001b[0m \n\u001b[0;32m   (...)\u001b[0m\n\u001b[1;32m   2646\u001b[0m \u001b[39m:doc:`/gallery/lines_bars_and_markers/horizontal_barchart_distribution`.\u001b[39;00m\n\u001b[1;32m   2647\u001b[0m \u001b[39m\"\"\"\u001b[39;00m\n\u001b[1;32m   2648\u001b[0m kwargs\u001b[39m.\u001b[39msetdefault(\u001b[39m'\u001b[39m\u001b[39morientation\u001b[39m\u001b[39m'\u001b[39m, \u001b[39m'\u001b[39m\u001b[39mhorizontal\u001b[39m\u001b[39m'\u001b[39m)\n\u001b[0;32m-> 2649\u001b[0m patches \u001b[39m=\u001b[39m \u001b[39mself\u001b[39m\u001b[39m.\u001b[39mbar(x\u001b[39m=\u001b[39mleft, height\u001b[39m=\u001b[39mheight, width\u001b[39m=\u001b[39mwidth, bottom\u001b[39m=\u001b[39my,\n\u001b[1;32m   2650\u001b[0m                    align\u001b[39m=\u001b[39malign, data\u001b[39m=\u001b[39mdata, \u001b[39m*\u001b[39m\u001b[39m*\u001b[39mkwargs)\n\u001b[1;32m   2651\u001b[0m \u001b[39mreturn\u001b[39;00m patches\n",
      "File \u001b[0;32m/work/09475/iwagenvoord/ls6/eagle-comp/eagle-env/lib/python3.11/site-packages/matplotlib/__init__.py:1442\u001b[0m, in \u001b[0;36m_preprocess_data.<locals>.inner\u001b[0;34m(ax, data, *args, **kwargs)\u001b[0m\n\u001b[1;32m   1439\u001b[0m \u001b[39m@functools\u001b[39m\u001b[39m.\u001b[39mwraps(func)\n\u001b[1;32m   1440\u001b[0m \u001b[39mdef\u001b[39;00m \u001b[39minner\u001b[39m(ax, \u001b[39m*\u001b[39margs, data\u001b[39m=\u001b[39m\u001b[39mNone\u001b[39;00m, \u001b[39m*\u001b[39m\u001b[39m*\u001b[39mkwargs):\n\u001b[1;32m   1441\u001b[0m     \u001b[39mif\u001b[39;00m data \u001b[39mis\u001b[39;00m \u001b[39mNone\u001b[39;00m:\n\u001b[0;32m-> 1442\u001b[0m         \u001b[39mreturn\u001b[39;00m func(ax, \u001b[39m*\u001b[39m\u001b[39mmap\u001b[39m(sanitize_sequence, args), \u001b[39m*\u001b[39m\u001b[39m*\u001b[39mkwargs)\n\u001b[1;32m   1444\u001b[0m     bound \u001b[39m=\u001b[39m new_sig\u001b[39m.\u001b[39mbind(ax, \u001b[39m*\u001b[39margs, \u001b[39m*\u001b[39m\u001b[39m*\u001b[39mkwargs)\n\u001b[1;32m   1445\u001b[0m     auto_label \u001b[39m=\u001b[39m (bound\u001b[39m.\u001b[39marguments\u001b[39m.\u001b[39mget(label_namer)\n\u001b[1;32m   1446\u001b[0m                   \u001b[39mor\u001b[39;00m bound\u001b[39m.\u001b[39mkwargs\u001b[39m.\u001b[39mget(label_namer))\n",
      "File \u001b[0;32m/work/09475/iwagenvoord/ls6/eagle-comp/eagle-env/lib/python3.11/site-packages/matplotlib/axes/_axes.py:2480\u001b[0m, in \u001b[0;36mAxes.bar\u001b[0;34m(self, x, height, width, bottom, align, **kwargs)\u001b[0m\n\u001b[1;32m   2477\u001b[0m args \u001b[39m=\u001b[39m \u001b[39mzip\u001b[39m(left, bottom, width, height, color, edgecolor, linewidth,\n\u001b[1;32m   2478\u001b[0m            hatch, patch_labels)\n\u001b[1;32m   2479\u001b[0m \u001b[39mfor\u001b[39;00m l, b, w, h, c, e, lw, htch, lbl \u001b[39min\u001b[39;00m args:\n\u001b[0;32m-> 2480\u001b[0m     r \u001b[39m=\u001b[39m mpatches\u001b[39m.\u001b[39mRectangle(\n\u001b[1;32m   2481\u001b[0m         xy\u001b[39m=\u001b[39m(l, b), width\u001b[39m=\u001b[39mw, height\u001b[39m=\u001b[39mh,\n\u001b[1;32m   2482\u001b[0m         facecolor\u001b[39m=\u001b[39mc,\n\u001b[1;32m   2483\u001b[0m         edgecolor\u001b[39m=\u001b[39me,\n\u001b[1;32m   2484\u001b[0m         linewidth\u001b[39m=\u001b[39mlw,\n\u001b[1;32m   2485\u001b[0m         label\u001b[39m=\u001b[39mlbl,\n\u001b[1;32m   2486\u001b[0m         hatch\u001b[39m=\u001b[39mhtch,\n\u001b[1;32m   2487\u001b[0m         )\n\u001b[1;32m   2488\u001b[0m     r\u001b[39m.\u001b[39m_internal_update(kwargs)\n\u001b[1;32m   2489\u001b[0m     r\u001b[39m.\u001b[39mget_path()\u001b[39m.\u001b[39m_interpolation_steps \u001b[39m=\u001b[39m \u001b[39m100\u001b[39m\n",
      "File \u001b[0;32m/work/09475/iwagenvoord/ls6/eagle-comp/eagle-env/lib/python3.11/site-packages/matplotlib/_api/deprecation.py:454\u001b[0m, in \u001b[0;36mmake_keyword_only.<locals>.wrapper\u001b[0;34m(*args, **kwargs)\u001b[0m\n\u001b[1;32m    448\u001b[0m \u001b[39mif\u001b[39;00m \u001b[39mlen\u001b[39m(args) \u001b[39m>\u001b[39m name_idx:\n\u001b[1;32m    449\u001b[0m     warn_deprecated(\n\u001b[1;32m    450\u001b[0m         since, message\u001b[39m=\u001b[39m\u001b[39m\"\u001b[39m\u001b[39mPassing the \u001b[39m\u001b[39m%(name)s\u001b[39;00m\u001b[39m \u001b[39m\u001b[39m%(obj_type)s\u001b[39;00m\u001b[39m \u001b[39m\u001b[39m\"\u001b[39m\n\u001b[1;32m    451\u001b[0m         \u001b[39m\"\u001b[39m\u001b[39mpositionally is deprecated since Matplotlib \u001b[39m\u001b[39m%(since)s\u001b[39;00m\u001b[39m; the \u001b[39m\u001b[39m\"\u001b[39m\n\u001b[1;32m    452\u001b[0m         \u001b[39m\"\u001b[39m\u001b[39mparameter will become keyword-only \u001b[39m\u001b[39m%(removal)s\u001b[39;00m\u001b[39m.\u001b[39m\u001b[39m\"\u001b[39m,\n\u001b[1;32m    453\u001b[0m         name\u001b[39m=\u001b[39mname, obj_type\u001b[39m=\u001b[39m\u001b[39mf\u001b[39m\u001b[39m\"\u001b[39m\u001b[39mparameter of \u001b[39m\u001b[39m{\u001b[39;00mfunc\u001b[39m.\u001b[39m\u001b[39m__name__\u001b[39m\u001b[39m}\u001b[39;00m\u001b[39m()\u001b[39m\u001b[39m\"\u001b[39m)\n\u001b[0;32m--> 454\u001b[0m \u001b[39mreturn\u001b[39;00m func(\u001b[39m*\u001b[39margs, \u001b[39m*\u001b[39m\u001b[39m*\u001b[39mkwargs)\n",
      "File \u001b[0;32m/work/09475/iwagenvoord/ls6/eagle-comp/eagle-env/lib/python3.11/site-packages/matplotlib/patches.py:728\u001b[0m, in \u001b[0;36mRectangle.__init__\u001b[0;34m(self, xy, width, height, angle, rotation_point, **kwargs)\u001b[0m\n\u001b[1;32m    721\u001b[0m \u001b[39m# Required for RectangleSelector with axes aspect ratio != 1\u001b[39;00m\n\u001b[1;32m    722\u001b[0m \u001b[39m# The patch is defined in data coordinates and when changing the\u001b[39;00m\n\u001b[1;32m    723\u001b[0m \u001b[39m# selector with square modifier and not in data coordinates, we need\u001b[39;00m\n\u001b[1;32m    724\u001b[0m \u001b[39m# to correct for the aspect ratio difference between the data and\u001b[39;00m\n\u001b[1;32m    725\u001b[0m \u001b[39m# display coordinate systems. Its value is typically provide by\u001b[39;00m\n\u001b[1;32m    726\u001b[0m \u001b[39m# Axes._get_aspect_ratio()\u001b[39;00m\n\u001b[1;32m    727\u001b[0m \u001b[39mself\u001b[39m\u001b[39m.\u001b[39m_aspect_ratio_correction \u001b[39m=\u001b[39m \u001b[39m1.0\u001b[39m\n\u001b[0;32m--> 728\u001b[0m \u001b[39mself\u001b[39m\u001b[39m.\u001b[39m_convert_units()\n",
      "File \u001b[0;32m/work/09475/iwagenvoord/ls6/eagle-comp/eagle-env/lib/python3.11/site-packages/matplotlib/patches.py:738\u001b[0m, in \u001b[0;36mRectangle._convert_units\u001b[0;34m(self)\u001b[0m\n\u001b[1;32m    736\u001b[0m x0 \u001b[39m=\u001b[39m \u001b[39mself\u001b[39m\u001b[39m.\u001b[39mconvert_xunits(\u001b[39mself\u001b[39m\u001b[39m.\u001b[39m_x0)\n\u001b[1;32m    737\u001b[0m y0 \u001b[39m=\u001b[39m \u001b[39mself\u001b[39m\u001b[39m.\u001b[39mconvert_yunits(\u001b[39mself\u001b[39m\u001b[39m.\u001b[39m_y0)\n\u001b[0;32m--> 738\u001b[0m x1 \u001b[39m=\u001b[39m \u001b[39mself\u001b[39m\u001b[39m.\u001b[39mconvert_xunits(\u001b[39mself\u001b[39m\u001b[39m.\u001b[39m_x0 \u001b[39m+\u001b[39m \u001b[39mself\u001b[39m\u001b[39m.\u001b[39m_width)\n\u001b[1;32m    739\u001b[0m y1 \u001b[39m=\u001b[39m \u001b[39mself\u001b[39m\u001b[39m.\u001b[39mconvert_yunits(\u001b[39mself\u001b[39m\u001b[39m.\u001b[39m_y0 \u001b[39m+\u001b[39m \u001b[39mself\u001b[39m\u001b[39m.\u001b[39m_height)\n\u001b[1;32m    740\u001b[0m \u001b[39mreturn\u001b[39;00m x0, y0, x1, y1\n",
      "\u001b[0;31mTypeError\u001b[0m: unsupported operand type(s) for +: 'numpy.int64' and 'Timedelta'"
     ]
    }
   ],
   "source": [
    "from matplotlib.lines import Line2D\n",
    "# make first bar first color and all othe other bars the second color\n",
    "barlist = bar_chart_vals.T['duration'].plot.barh()\n",
    "barlist.patches[-1].set_color(color_pal[0])\n",
    "plt.title('Mean duration of significant outages by disadvantaged category')\n",
    "[p.set_color(color_pal[1]) for p in barlist.patches[:-1]]\n",
    "# add number labels to right of bars\n",
    "for i, p in enumerate(barlist.patches):\n",
    "    width = p.get_width()\n",
    "    plt.text(0.96*p.get_width(), p.get_y()+0.55*p.get_height(),\n",
    "             '{:1.0f}'.format(width),\n",
    "             ha='center', va='center', color='white' if i == 9 else 'black')\n",
    "plt.axvline(x=bar_chart_vals.loc['duration', 'All other counties'], \n",
    "    color='black', linestyle='--', \n",
    "    alpha=0.5, label = 'Mean outage duration in all other counties')\n",
    "plt.legend(handles=[Line2D([0], [0], color=color_pal[0], lw=4, label='Not disadvantaged'),\n",
    "                    Line2D([0], [0], color=color_pal[1], lw=4, label='Disadvantaged category'),\n",
    "                    Line2D([0], [0], color='black', lw=4, linestyle='--', label='Mean outage duration in all other counties')\n",
    "                     ],\n",
    "                    loc='lower left')\n",
    "plt.xlabel('Mean outage duration (Minutes)')\n",
    "# plt.hline(y = bar_chart_vals.loc['duration', 'All other counties'])\n",
    "# draw dotted horizontal line\n",
    "# plt.xlim(350, 550)"
   ]
  },
  {
   "cell_type": "code",
   "execution_count": 97,
   "metadata": {},
   "outputs": [],
   "source": [
    "other = bar_chart_vals['All other counties']\n",
    "all_disadvantaged = bar_chart_vals['All disadvantaged counties']\n",
    "bar_chart_vals = bar_chart_vals.iloc[:, 2:].T.sort_values(by=['sum'], ascending=False)\n",
    "bar_chart_vals = pd.concat([bar_chart_vals.T, all_disadvantaged, other], axis=1)"
   ]
  },
  {
   "cell_type": "code",
   "execution_count": 99,
   "metadata": {},
   "outputs": [
    {
     "data": {
      "text/plain": [
       "Housing                       333.484757\n",
       "Transportation                322.438833\n",
       "Legacy Pollution              311.288795\n",
       "Workforce development         310.433210\n",
       "Waste Water                   307.163313\n",
       "Climate Change                143.072689\n",
       "Energy                        137.743223\n",
       "Health                        100.580869\n",
       "All disadvantaged counties    207.009799\n",
       "All other counties            227.484552\n",
       "Name: sum, dtype: float64"
      ]
     },
     "execution_count": 99,
     "metadata": {},
     "output_type": "execute_result"
    }
   ],
   "source": [
    "bar_chart_vals.loc['sum']"
   ]
  },
  {
   "cell_type": "code",
   "execution_count": 100,
   "metadata": {},
   "outputs": [
    {
     "data": {
      "text/plain": [
       "<matplotlib.legend.Legend at 0x7f656e160070>"
      ]
     },
     "execution_count": 100,
     "metadata": {},
     "output_type": "execute_result"
    },
    {
     "data": {
      "image/png": "[encoded data removed]",
      "text/plain": [
       "<Figure size 640x480 with 1 Axes>"
      ]
     },
     "metadata": {},
     "output_type": "display_data"
    }
   ],
   "source": [
    "from matplotlib.lines import Line2D\n",
    "# make first bar first color and all othe other bars the second color\n",
    "barlist = bar_chart_vals.T['sum'].plot.barh()\n",
    "barlist.patches[-1].set_color(color_pal[0])\n",
    "plt.title('Mean duration of significant outages by disadvantaged category')\n",
    "[p.set_color(color_pal[1]) for p in barlist.patches[:-1]]\n",
    "# add number labels to right of bars\n",
    "for i, p in enumerate(barlist.patches):\n",
    "    width = p.get_width()\n",
    "    plt.text(0.96*p.get_width(), p.get_y()+0.55*p.get_height(),\n",
    "             '{:1.0f}'.format(width),\n",
    "             ha='center', va='center', color='white' if i == 9 else 'black')\n",
    "plt.axvline(x=bar_chart_vals.loc['sum', 'All other counties'], \n",
    "    color='black', linestyle='--', \n",
    "    alpha=0.5, label = 'Mean outage duration in all other counties')\n",
    "plt.legend(handles=[Line2D([0], [0], color=color_pal[0], lw=4, label='Not disadvantaged'),\n",
    "                    Line2D([0], [0], color=color_pal[1], lw=4, label='Disadvantaged category'),\n",
    "                    Line2D([0], [0], color='black', lw=4, linestyle='--', label='Mean outage duration in all other counties')\n",
    "                     ],\n",
    "                    loc='lower left')\n",
    "# plt.hline(y = bar_chart_vals.loc['duration', 'All other counties'])\n",
    "# draw dotted horizontal line\n",
    "# plt.xlim(350, 550)"
   ]
  },
  {
   "cell_type": "code",
   "execution_count": 27,
   "metadata": {},
   "outputs": [
    {
     "data": {
      "text/plain": [
       "(300.0, 550.0)"
      ]
     },
     "execution_count": 27,
     "metadata": {},
     "output_type": "execute_result"
    },
    {
     "data": {
      "image/png": "[encoded data removed]",
      "text/plain": [
       "<Figure size 640x480 with 1 Axes>"
      ]
     },
     "metadata": {},
     "output_type": "display_data"
    }
   ],
   "source": [
    "from matplotlib.lines import Line2D\n",
    "# make first bar first color and all othe other bars the second color\n",
    "barlist = bar_chart_vals.T['duration'].plot.bar()\n",
    "barlist.patches[0].set_color(color_pal[0])\n",
    "plt.title('Mean duration of significant outages by disadvantaged category')\n",
    "[p.set_color(color_pal[1]) for p in barlist.patches[1:]]\n",
    "plt.legend(handles=[Line2D([0], [0], color=color_pal[0], lw=4, label='Not disadvantaged'),\n",
    "                    Line2D([0], [0], color=color_pal[1], lw=4, label='Disadvantaged category')],\n",
    "                    loc='lower right')\n",
    "plt.ylim(300, 550)"
   ]
  },
  {
   "cell_type": "code",
   "execution_count": 164,
   "metadata": {},
   "outputs": [
    {
     "data": {
      "text/plain": [
       "sum         227.484552\n",
       "duration    470.807800\n",
       "dtype: float64"
      ]
     },
     "execution_count": 164,
     "metadata": {},
     "output_type": "execute_result"
    }
   ],
   "source": [
    "agg_outage_events(non_disadvantaged).mean()"
   ]
  },
  {
   "cell_type": "code",
   "execution_count": 166,
   "metadata": {},
   "outputs": [
    {
     "data": {
      "text/plain": [
       "sum         143.072689\n",
       "duration    506.467500\n",
       "dtype: float64"
      ]
     },
     "execution_count": 166,
     "metadata": {},
     "output_type": "execute_result"
    }
   ],
   "source": [
    "agg_outage_events(filter_fips(outages_2022, disadvantaged_climate_change)).mean()"
   ]
  },
  {
   "cell_type": "code",
   "execution_count": 92,
   "metadata": {},
   "outputs": [
    {
     "data": {
      "text/plain": [
       "sum          36.006092\n",
       "duration    158.277833\n",
       "dtype: float64"
      ]
     },
     "execution_count": 92,
     "metadata": {},
     "output_type": "execute_result"
    }
   ],
   "source": [
    "agg_outage_events(filter_fips(outages_2022, disadvantaged_energy)).mean()"
   ]
  },
  {
   "cell_type": "code",
   "execution_count": 167,
   "metadata": {},
   "outputs": [
    {
     "data": {
      "text/plain": [
       "sum         100.580869\n",
       "duration    521.262875\n",
       "dtype: float64"
      ]
     },
     "execution_count": 167,
     "metadata": {},
     "output_type": "execute_result"
    }
   ],
   "source": [
    "agg_outage_events(filter_fips(outages_2022, disadvantaged_health)).mean()"
   ]
  },
  {
   "cell_type": "code",
   "execution_count": 168,
   "metadata": {},
   "outputs": [
    {
     "data": {
      "text/plain": [
       "sum         333.484757\n",
       "duration    523.143162\n",
       "dtype: float64"
      ]
     },
     "execution_count": 168,
     "metadata": {},
     "output_type": "execute_result"
    }
   ],
   "source": [
    "agg_outage_events(filter_fips(outages_2022, disadvantaged_housing)).mean()"
   ]
  },
  {
   "cell_type": "code",
   "execution_count": 169,
   "metadata": {},
   "outputs": [
    {
     "data": {
      "text/plain": [
       "sum         311.288795\n",
       "duration    536.324218\n",
       "dtype: float64"
      ]
     },
     "execution_count": 169,
     "metadata": {},
     "output_type": "execute_result"
    }
   ],
   "source": [
    "agg_outage_events(filter_fips(outages_2022, disadvantaged_legacy_pollution)).mean()"
   ]
  },
  {
   "cell_type": "code",
   "execution_count": 171,
   "metadata": {},
   "outputs": [
    {
     "data": {
      "text/plain": [
       "sum         322.438833\n",
       "duration    481.357619\n",
       "dtype: float64"
      ]
     },
     "execution_count": 171,
     "metadata": {},
     "output_type": "execute_result"
    }
   ],
   "source": [
    "agg_outage_events(filter_fips(outages_2022, disadvantaged_transportation)).mean()"
   ]
  },
  {
   "cell_type": "code",
   "execution_count": 172,
   "metadata": {},
   "outputs": [
    {
     "data": {
      "text/plain": [
       "sum         307.163313\n",
       "duration    478.297865\n",
       "dtype: float64"
      ]
     },
     "execution_count": 172,
     "metadata": {},
     "output_type": "execute_result"
    }
   ],
   "source": [
    "agg_outage_events(filter_fips(outages_2022, disadvantaged_waste_wastewater)).mean()"
   ]
  },
  {
   "cell_type": "code",
   "execution_count": 173,
   "metadata": {},
   "outputs": [
    {
     "data": {
      "text/plain": [
       "sum         310.433210\n",
       "duration    429.741403\n",
       "dtype: float64"
      ]
     },
     "execution_count": 173,
     "metadata": {},
     "output_type": "execute_result"
    }
   ],
   "source": [
    "agg_outage_events(filter_fips(outages_2022, disadvantaged_workface_development)).mean()"
   ]
  }
 ],
 "metadata": {
  "kernelspec": {
   "display_name": "eagle-env",
   "language": "python",
   "name": "eagle-env"
  },
  "orig_nbformat": 4
 },
 "nbformat": 4,
 "nbformat_minor": 2
}
