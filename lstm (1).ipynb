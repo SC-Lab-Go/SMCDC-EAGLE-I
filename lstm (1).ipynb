{
 "cells": [
  {
   "cell_type": "code",
   "execution_count": 1,
   "id": "4937fcc9",
   "metadata": {},
   "outputs": [],
   "source": [
    "import pandas as pd\n",
    "import numpy as np\n",
    "import matplotlib.pyplot as plt\n",
    "\n",
    "import torch\n",
    "import torch.nn as nn"
   ]
  },
  {
   "cell_type": "code",
   "execution_count": 2,
   "id": "00582408",
   "metadata": {},
   "outputs": [],
   "source": [
    "import numpy as np\n",
    "import pandas as pd\n",
    "import seaborn as sns\n",
    "import matplotlib\n",
    "import matplotlib.pyplot as plt\n",
    "import datetime\n",
    "from statsmodels.tsa.seasonal import seasonal_decompose\n",
    "from statsmodels.graphics.tsaplots import plot_acf, plot_pacf\n",
    "from sklearn.metrics import mean_absolute_error\n",
    "\n",
    "\n",
    "from prophet import Prophet\n",
    "from xgboost import XGBRegressor"
   ]
  },
  {
   "cell_type": "code",
   "execution_count": 3,
   "id": "4ab51dad",
   "metadata": {},
   "outputs": [],
   "source": [
    "df1=pd.read_csv('C:/eaglei_outages/eaglei_outages/eaglei_outages_2014.csv')"
   ]
  },
  {
   "cell_type": "code",
   "execution_count": 4,
   "id": "fa1f286a",
   "metadata": {},
   "outputs": [],
   "source": [
    "df2 = pd.read_csv('C:/eaglei_outages/eaglei_outages/eaglei_outages_2015.csv')"
   ]
  },
  {
   "cell_type": "code",
   "execution_count": 5,
   "id": "5c074e95",
   "metadata": {},
   "outputs": [],
   "source": [
    "df3 = pd.read_csv('C:/eaglei_outages/eaglei_outages/eaglei_outages_2016.csv')"
   ]
  },
  {
   "cell_type": "code",
   "execution_count": 6,
   "id": "2913cfd3",
   "metadata": {},
   "outputs": [],
   "source": [
    "df4 = pd.read_csv('C:/eaglei_outages/eaglei_outages/eaglei_outages_2017.csv')"
   ]
  },
  {
   "cell_type": "code",
   "execution_count": 7,
   "id": "d59b7b5a",
   "metadata": {},
   "outputs": [],
   "source": [
    "df5 =  pd.read_csv('C:/eaglei_outages/eaglei_outages/eaglei_outages_2018.csv')"
   ]
  },
  {
   "cell_type": "code",
   "execution_count": 8,
   "id": "6af693ce",
   "metadata": {},
   "outputs": [],
   "source": [
    "df6 = pd.read_csv('C:/eaglei_outages/eaglei_outages/eaglei_outages_2019.csv')"
   ]
  },
  {
   "cell_type": "code",
   "execution_count": 9,
   "id": "3e0375d0",
   "metadata": {},
   "outputs": [],
   "source": [
    "df7 = pd.read_csv('C:/eaglei_outages/eaglei_outages/eaglei_outages_2020.csv')"
   ]
  },
  {
   "cell_type": "code",
   "execution_count": 10,
   "id": "f52e10b7",
   "metadata": {},
   "outputs": [],
   "source": [
    "df8 =pd.read_csv('C:/eaglei_outages/eaglei_outages/eaglei_outages_2021.csv')"
   ]
  },
  {
   "cell_type": "code",
   "execution_count": 11,
   "id": "328c9eac",
   "metadata": {},
   "outputs": [],
   "source": [
    "df9 = pd.read_csv('C:/eaglei_outages/eaglei_outages/eaglei_outages_2022.csv')"
   ]
  },
  {
   "cell_type": "code",
   "execution_count": 12,
   "id": "0a0589fa",
   "metadata": {},
   "outputs": [],
   "source": [
    "sandiego_df1 = df1[(df1['fips_code'] == 6073) & (df1['county'] == 'San Diego')]"
   ]
  },
  {
   "cell_type": "code",
   "execution_count": 13,
   "id": "0a1f8e9d",
   "metadata": {},
   "outputs": [
    {
     "name": "stderr",
     "output_type": "stream",
     "text": [
      "C:\\Users\\halee\\AppData\\Local\\Temp\\ipykernel_27864\\1902342349.py:2: SettingWithCopyWarning: \n",
      "A value is trying to be set on a copy of a slice from a DataFrame.\n",
      "Try using .loc[row_indexer,col_indexer] = value instead\n",
      "\n",
      "See the caveats in the documentation: https://pandas.pydata.org/pandas-docs/stable/user_guide/indexing.html#returning-a-view-versus-a-copy\n",
      "  sandiego_df1['run_start_time'] = pd.to_datetime(sandiego_df1['run_start_time'])\n"
     ]
    }
   ],
   "source": [
    "# Convert run_start_time to datetime format\n",
    "sandiego_df1['run_start_time'] = pd.to_datetime(sandiego_df1['run_start_time'])\n",
    "\n",
    "# Set the run_start_time column as the DataFrame index\n",
    "sandiego_df1.set_index('run_start_time', inplace=True)"
   ]
  },
  {
   "cell_type": "code",
   "execution_count": 14,
   "id": "2a6f7b7e",
   "metadata": {},
   "outputs": [],
   "source": [
    "# Group by county FIPS code and run start time, and apply hourly sum\n",
    "hourly_sum_df1 = sandiego_df1.groupby(['county', pd.Grouper(freq='H')]).sum(numeric_only=True)\n",
    "\n",
    "# Reset index to get county FIPS code and run start time as columns\n",
    "hourly_sum_df1 = hourly_sum_df1.reset_index()\n",
    "\n",
    "# Rename the sum column to 'hourly_sum'\n",
    "hourly_sum_df1 = hourly_sum_df1.rename(columns={'sum': 'hourly_sum'})"
   ]
  },
  {
   "cell_type": "code",
   "execution_count": 15,
   "id": "6f0bae4a",
   "metadata": {},
   "outputs": [],
   "source": [
    "hourly_sum_df1.drop(columns=['county','fips_code'], inplace=True)"
   ]
  },
  {
   "cell_type": "code",
   "execution_count": 16,
   "id": "afff8e72",
   "metadata": {},
   "outputs": [
    {
     "data": {
      "text/html": [
       "<div>\n",
       "<style scoped>\n",
       "    .dataframe tbody tr th:only-of-type {\n",
       "        vertical-align: middle;\n",
       "    }\n",
       "\n",
       "    .dataframe tbody tr th {\n",
       "        vertical-align: top;\n",
       "    }\n",
       "\n",
       "    .dataframe thead th {\n",
       "        text-align: right;\n",
       "    }\n",
       "</style>\n",
       "<table border=\"1\" class=\"dataframe\">\n",
       "  <thead>\n",
       "    <tr style=\"text-align: right;\">\n",
       "      <th></th>\n",
       "      <th>run_start_time</th>\n",
       "      <th>hourly_sum</th>\n",
       "    </tr>\n",
       "  </thead>\n",
       "  <tbody>\n",
       "    <tr>\n",
       "      <th>0</th>\n",
       "      <td>2014-11-01 06:00:00</td>\n",
       "      <td>377</td>\n",
       "    </tr>\n",
       "    <tr>\n",
       "      <th>1</th>\n",
       "      <td>2014-11-01 11:00:00</td>\n",
       "      <td>6512</td>\n",
       "    </tr>\n",
       "    <tr>\n",
       "      <th>2</th>\n",
       "      <td>2014-11-01 12:00:00</td>\n",
       "      <td>11202</td>\n",
       "    </tr>\n",
       "    <tr>\n",
       "      <th>3</th>\n",
       "      <td>2014-11-01 13:00:00</td>\n",
       "      <td>7719</td>\n",
       "    </tr>\n",
       "    <tr>\n",
       "      <th>4</th>\n",
       "      <td>2014-11-01 14:00:00</td>\n",
       "      <td>3458</td>\n",
       "    </tr>\n",
       "    <tr>\n",
       "      <th>...</th>\n",
       "      <td>...</td>\n",
       "      <td>...</td>\n",
       "    </tr>\n",
       "    <tr>\n",
       "      <th>1218</th>\n",
       "      <td>2014-12-30 20:00:00</td>\n",
       "      <td>717</td>\n",
       "    </tr>\n",
       "    <tr>\n",
       "      <th>1219</th>\n",
       "      <td>2014-12-30 21:00:00</td>\n",
       "      <td>622</td>\n",
       "    </tr>\n",
       "    <tr>\n",
       "      <th>1220</th>\n",
       "      <td>2014-12-30 22:00:00</td>\n",
       "      <td>536</td>\n",
       "    </tr>\n",
       "    <tr>\n",
       "      <th>1221</th>\n",
       "      <td>2014-12-30 23:00:00</td>\n",
       "      <td>4913</td>\n",
       "    </tr>\n",
       "    <tr>\n",
       "      <th>1222</th>\n",
       "      <td>2014-12-31 00:00:00</td>\n",
       "      <td>1593</td>\n",
       "    </tr>\n",
       "  </tbody>\n",
       "</table>\n",
       "<p>1223 rows × 2 columns</p>\n",
       "</div>"
      ],
      "text/plain": [
       "          run_start_time  hourly_sum\n",
       "0    2014-11-01 06:00:00         377\n",
       "1    2014-11-01 11:00:00        6512\n",
       "2    2014-11-01 12:00:00       11202\n",
       "3    2014-11-01 13:00:00        7719\n",
       "4    2014-11-01 14:00:00        3458\n",
       "...                  ...         ...\n",
       "1218 2014-12-30 20:00:00         717\n",
       "1219 2014-12-30 21:00:00         622\n",
       "1220 2014-12-30 22:00:00         536\n",
       "1221 2014-12-30 23:00:00        4913\n",
       "1222 2014-12-31 00:00:00        1593\n",
       "\n",
       "[1223 rows x 2 columns]"
      ]
     },
     "execution_count": 16,
     "metadata": {},
     "output_type": "execute_result"
    }
   ],
   "source": [
    "hourly_sum_df1"
   ]
  },
  {
   "cell_type": "code",
   "execution_count": 17,
   "id": "ae5d39fc",
   "metadata": {},
   "outputs": [],
   "source": [
    "sandiego_df2 = df2[(df2['fips_code'] == 6073) & (df2['county'] == 'San Diego')]"
   ]
  },
  {
   "cell_type": "code",
   "execution_count": 18,
   "id": "f6241550",
   "metadata": {},
   "outputs": [
    {
     "name": "stderr",
     "output_type": "stream",
     "text": [
      "C:\\Users\\halee\\AppData\\Local\\Temp\\ipykernel_27864\\4224898449.py:2: SettingWithCopyWarning: \n",
      "A value is trying to be set on a copy of a slice from a DataFrame.\n",
      "Try using .loc[row_indexer,col_indexer] = value instead\n",
      "\n",
      "See the caveats in the documentation: https://pandas.pydata.org/pandas-docs/stable/user_guide/indexing.html#returning-a-view-versus-a-copy\n",
      "  sandiego_df2['run_start_time'] = pd.to_datetime(sandiego_df2['run_start_time'])\n"
     ]
    }
   ],
   "source": [
    "# Convert run_start_time to datetime format\n",
    "sandiego_df2['run_start_time'] = pd.to_datetime(sandiego_df2['run_start_time'])\n",
    "\n",
    "# Set the run_start_time column as the DataFrame index\n",
    "sandiego_df2.set_index('run_start_time', inplace=True)"
   ]
  },
  {
   "cell_type": "code",
   "execution_count": 19,
   "id": "0e850ab2",
   "metadata": {},
   "outputs": [],
   "source": [
    "# Group by county FIPS code and run start time, and apply hourly sum\n",
    "hourly_sum_df2 = sandiego_df2.groupby(['county', pd.Grouper(freq='H')]).sum(numeric_only=True)\n",
    "\n",
    "# Reset index to get county FIPS code and run start time as columns\n",
    "hourly_sum_df2 = hourly_sum_df2.reset_index()\n",
    "\n",
    "# Rename the sum column to 'hourly_sum'\n",
    "hourly_sum_df2 = hourly_sum_df2.rename(columns={'sum': 'hourly_sum'})"
   ]
  },
  {
   "cell_type": "code",
   "execution_count": 20,
   "id": "8fa22dc0",
   "metadata": {},
   "outputs": [],
   "source": [
    "hourly_sum_df2.drop(columns=['county','fips_code'], inplace=True)"
   ]
  },
  {
   "cell_type": "code",
   "execution_count": 21,
   "id": "5a1853f3",
   "metadata": {},
   "outputs": [],
   "source": [
    "sandiego_df3 = df3[(df3['fips_code'] == 6073) & (df3['county'] == 'San Diego')]"
   ]
  },
  {
   "cell_type": "code",
   "execution_count": 22,
   "id": "12d55546",
   "metadata": {},
   "outputs": [
    {
     "name": "stderr",
     "output_type": "stream",
     "text": [
      "C:\\Users\\halee\\AppData\\Local\\Temp\\ipykernel_27864\\3611938441.py:2: SettingWithCopyWarning: \n",
      "A value is trying to be set on a copy of a slice from a DataFrame.\n",
      "Try using .loc[row_indexer,col_indexer] = value instead\n",
      "\n",
      "See the caveats in the documentation: https://pandas.pydata.org/pandas-docs/stable/user_guide/indexing.html#returning-a-view-versus-a-copy\n",
      "  sandiego_df3['run_start_time'] = pd.to_datetime(sandiego_df3['run_start_time'])\n"
     ]
    }
   ],
   "source": [
    "# Convert run_start_time to datetime format\n",
    "sandiego_df3['run_start_time'] = pd.to_datetime(sandiego_df3['run_start_time'])\n",
    "\n",
    "# Set the run_start_time column as the DataFrame index\n",
    "sandiego_df3.set_index('run_start_time', inplace=True)"
   ]
  },
  {
   "cell_type": "code",
   "execution_count": 23,
   "id": "a0e69a03",
   "metadata": {},
   "outputs": [],
   "source": [
    "# Group by county FIPS code and run start time, and apply hourly sum\n",
    "hourly_sum_df3 = sandiego_df3.groupby(['county', pd.Grouper(freq='H')]).sum(numeric_only=True)\n",
    "\n",
    "# Reset index to get county FIPS code and run start time as columns\n",
    "hourly_sum_df3 = hourly_sum_df3.reset_index()\n",
    "\n",
    "# Rename the sum column to 'hourly_sum'\n",
    "hourly_sum_df3 = hourly_sum_df3.rename(columns={'sum': 'hourly_sum'})"
   ]
  },
  {
   "cell_type": "code",
   "execution_count": 24,
   "id": "ed407ec0",
   "metadata": {},
   "outputs": [],
   "source": [
    "hourly_sum_df3.drop(columns=['county','fips_code'], inplace=True)"
   ]
  },
  {
   "cell_type": "code",
   "execution_count": 25,
   "id": "b346c11b",
   "metadata": {},
   "outputs": [
    {
     "data": {
      "text/html": [
       "<div>\n",
       "<style scoped>\n",
       "    .dataframe tbody tr th:only-of-type {\n",
       "        vertical-align: middle;\n",
       "    }\n",
       "\n",
       "    .dataframe tbody tr th {\n",
       "        vertical-align: top;\n",
       "    }\n",
       "\n",
       "    .dataframe thead th {\n",
       "        text-align: right;\n",
       "    }\n",
       "</style>\n",
       "<table border=\"1\" class=\"dataframe\">\n",
       "  <thead>\n",
       "    <tr style=\"text-align: right;\">\n",
       "      <th></th>\n",
       "      <th>run_start_time</th>\n",
       "      <th>hourly_sum</th>\n",
       "    </tr>\n",
       "  </thead>\n",
       "  <tbody>\n",
       "    <tr>\n",
       "      <th>0</th>\n",
       "      <td>2016-01-01 18:00:00</td>\n",
       "      <td>3</td>\n",
       "    </tr>\n",
       "    <tr>\n",
       "      <th>1</th>\n",
       "      <td>2016-01-01 19:00:00</td>\n",
       "      <td>4</td>\n",
       "    </tr>\n",
       "    <tr>\n",
       "      <th>2</th>\n",
       "      <td>2016-01-01 20:00:00</td>\n",
       "      <td>4</td>\n",
       "    </tr>\n",
       "    <tr>\n",
       "      <th>3</th>\n",
       "      <td>2016-01-01 21:00:00</td>\n",
       "      <td>4</td>\n",
       "    </tr>\n",
       "    <tr>\n",
       "      <th>4</th>\n",
       "      <td>2016-01-01 22:00:00</td>\n",
       "      <td>5688</td>\n",
       "    </tr>\n",
       "    <tr>\n",
       "      <th>...</th>\n",
       "      <td>...</td>\n",
       "      <td>...</td>\n",
       "    </tr>\n",
       "    <tr>\n",
       "      <th>8008</th>\n",
       "      <td>2016-12-30 17:00:00</td>\n",
       "      <td>1637</td>\n",
       "    </tr>\n",
       "    <tr>\n",
       "      <th>8009</th>\n",
       "      <td>2016-12-30 18:00:00</td>\n",
       "      <td>2602</td>\n",
       "    </tr>\n",
       "    <tr>\n",
       "      <th>8010</th>\n",
       "      <td>2016-12-30 19:00:00</td>\n",
       "      <td>126</td>\n",
       "    </tr>\n",
       "    <tr>\n",
       "      <th>8011</th>\n",
       "      <td>2016-12-30 20:00:00</td>\n",
       "      <td>80</td>\n",
       "    </tr>\n",
       "    <tr>\n",
       "      <th>8012</th>\n",
       "      <td>2016-12-30 21:00:00</td>\n",
       "      <td>40</td>\n",
       "    </tr>\n",
       "  </tbody>\n",
       "</table>\n",
       "<p>8013 rows × 2 columns</p>\n",
       "</div>"
      ],
      "text/plain": [
       "          run_start_time  hourly_sum\n",
       "0    2016-01-01 18:00:00           3\n",
       "1    2016-01-01 19:00:00           4\n",
       "2    2016-01-01 20:00:00           4\n",
       "3    2016-01-01 21:00:00           4\n",
       "4    2016-01-01 22:00:00        5688\n",
       "...                  ...         ...\n",
       "8008 2016-12-30 17:00:00        1637\n",
       "8009 2016-12-30 18:00:00        2602\n",
       "8010 2016-12-30 19:00:00         126\n",
       "8011 2016-12-30 20:00:00          80\n",
       "8012 2016-12-30 21:00:00          40\n",
       "\n",
       "[8013 rows x 2 columns]"
      ]
     },
     "execution_count": 25,
     "metadata": {},
     "output_type": "execute_result"
    }
   ],
   "source": [
    "hourly_sum_df3"
   ]
  },
  {
   "cell_type": "code",
   "execution_count": 26,
   "id": "c1cfebd0",
   "metadata": {},
   "outputs": [],
   "source": [
    "sandiego_df4 = df4[(df4['fips_code'] == 6073) & (df4['county'] == 'San Diego')]"
   ]
  },
  {
   "cell_type": "code",
   "execution_count": 27,
   "id": "f9e8a829",
   "metadata": {},
   "outputs": [
    {
     "name": "stderr",
     "output_type": "stream",
     "text": [
      "C:\\Users\\halee\\AppData\\Local\\Temp\\ipykernel_27864\\3543013722.py:2: SettingWithCopyWarning: \n",
      "A value is trying to be set on a copy of a slice from a DataFrame.\n",
      "Try using .loc[row_indexer,col_indexer] = value instead\n",
      "\n",
      "See the caveats in the documentation: https://pandas.pydata.org/pandas-docs/stable/user_guide/indexing.html#returning-a-view-versus-a-copy\n",
      "  sandiego_df4['run_start_time'] = pd.to_datetime(sandiego_df4['run_start_time'])\n"
     ]
    }
   ],
   "source": [
    "# Convert run_start_time to datetime format\n",
    "sandiego_df4['run_start_time'] = pd.to_datetime(sandiego_df4['run_start_time'])\n",
    "\n",
    "# Set the run_start_time column as the DataFrame index\n",
    "sandiego_df4.set_index('run_start_time', inplace=True)"
   ]
  },
  {
   "cell_type": "code",
   "execution_count": 28,
   "id": "8559a12e",
   "metadata": {},
   "outputs": [],
   "source": [
    "# Group by county FIPS code and run start time, and apply hourly sum\n",
    "hourly_sum_df4 = sandiego_df4.groupby(['county', pd.Grouper(freq='H')]).sum(numeric_only=True)\n",
    "\n",
    "# Reset index to get county FIPS code and run start time as columns\n",
    "hourly_sum_df4 = hourly_sum_df4.reset_index()\n",
    "\n",
    "# Rename the sum column to 'hourly_sum'\n",
    "hourly_sum_df4 = hourly_sum_df4.rename(columns={'sum': 'hourly_sum'})"
   ]
  },
  {
   "cell_type": "code",
   "execution_count": 29,
   "id": "69596996",
   "metadata": {},
   "outputs": [],
   "source": [
    "hourly_sum_df4.drop(columns=['county','fips_code'], inplace=True)"
   ]
  },
  {
   "cell_type": "code",
   "execution_count": 30,
   "id": "0734b286",
   "metadata": {},
   "outputs": [
    {
     "data": {
      "text/html": [
       "<div>\n",
       "<style scoped>\n",
       "    .dataframe tbody tr th:only-of-type {\n",
       "        vertical-align: middle;\n",
       "    }\n",
       "\n",
       "    .dataframe tbody tr th {\n",
       "        vertical-align: top;\n",
       "    }\n",
       "\n",
       "    .dataframe thead th {\n",
       "        text-align: right;\n",
       "    }\n",
       "</style>\n",
       "<table border=\"1\" class=\"dataframe\">\n",
       "  <thead>\n",
       "    <tr style=\"text-align: right;\">\n",
       "      <th></th>\n",
       "      <th>run_start_time</th>\n",
       "      <th>hourly_sum</th>\n",
       "    </tr>\n",
       "  </thead>\n",
       "  <tbody>\n",
       "    <tr>\n",
       "      <th>0</th>\n",
       "      <td>2017-01-01 00:00:00</td>\n",
       "      <td>865.0</td>\n",
       "    </tr>\n",
       "    <tr>\n",
       "      <th>1</th>\n",
       "      <td>2017-01-01 01:00:00</td>\n",
       "      <td>8089.0</td>\n",
       "    </tr>\n",
       "    <tr>\n",
       "      <th>2</th>\n",
       "      <td>2017-01-01 02:00:00</td>\n",
       "      <td>5282.0</td>\n",
       "    </tr>\n",
       "    <tr>\n",
       "      <th>3</th>\n",
       "      <td>2017-01-01 03:00:00</td>\n",
       "      <td>4014.0</td>\n",
       "    </tr>\n",
       "    <tr>\n",
       "      <th>4</th>\n",
       "      <td>2017-01-01 04:00:00</td>\n",
       "      <td>852.0</td>\n",
       "    </tr>\n",
       "    <tr>\n",
       "      <th>...</th>\n",
       "      <td>...</td>\n",
       "      <td>...</td>\n",
       "    </tr>\n",
       "    <tr>\n",
       "      <th>7412</th>\n",
       "      <td>2017-12-30 20:00:00</td>\n",
       "      <td>21.0</td>\n",
       "    </tr>\n",
       "    <tr>\n",
       "      <th>7413</th>\n",
       "      <td>2017-12-30 21:00:00</td>\n",
       "      <td>28.0</td>\n",
       "    </tr>\n",
       "    <tr>\n",
       "      <th>7414</th>\n",
       "      <td>2017-12-30 22:00:00</td>\n",
       "      <td>4.0</td>\n",
       "    </tr>\n",
       "    <tr>\n",
       "      <th>7415</th>\n",
       "      <td>2017-12-30 23:00:00</td>\n",
       "      <td>4.0</td>\n",
       "    </tr>\n",
       "    <tr>\n",
       "      <th>7416</th>\n",
       "      <td>2017-12-31 00:00:00</td>\n",
       "      <td>1.0</td>\n",
       "    </tr>\n",
       "  </tbody>\n",
       "</table>\n",
       "<p>7417 rows × 2 columns</p>\n",
       "</div>"
      ],
      "text/plain": [
       "          run_start_time  hourly_sum\n",
       "0    2017-01-01 00:00:00       865.0\n",
       "1    2017-01-01 01:00:00      8089.0\n",
       "2    2017-01-01 02:00:00      5282.0\n",
       "3    2017-01-01 03:00:00      4014.0\n",
       "4    2017-01-01 04:00:00       852.0\n",
       "...                  ...         ...\n",
       "7412 2017-12-30 20:00:00        21.0\n",
       "7413 2017-12-30 21:00:00        28.0\n",
       "7414 2017-12-30 22:00:00         4.0\n",
       "7415 2017-12-30 23:00:00         4.0\n",
       "7416 2017-12-31 00:00:00         1.0\n",
       "\n",
       "[7417 rows x 2 columns]"
      ]
     },
     "execution_count": 30,
     "metadata": {},
     "output_type": "execute_result"
    }
   ],
   "source": [
    "hourly_sum_df4"
   ]
  },
  {
   "cell_type": "code",
   "execution_count": 31,
   "id": "7f6cb20d",
   "metadata": {},
   "outputs": [],
   "source": [
    "sandiego_df5 = df5[(df5['fips_code'] == 6073) & (df5['county'] == 'San Diego')]"
   ]
  },
  {
   "cell_type": "code",
   "execution_count": 32,
   "id": "ddc07c4f",
   "metadata": {},
   "outputs": [
    {
     "name": "stderr",
     "output_type": "stream",
     "text": [
      "C:\\Users\\halee\\AppData\\Local\\Temp\\ipykernel_27864\\4223640805.py:2: SettingWithCopyWarning: \n",
      "A value is trying to be set on a copy of a slice from a DataFrame.\n",
      "Try using .loc[row_indexer,col_indexer] = value instead\n",
      "\n",
      "See the caveats in the documentation: https://pandas.pydata.org/pandas-docs/stable/user_guide/indexing.html#returning-a-view-versus-a-copy\n",
      "  sandiego_df5['run_start_time'] = pd.to_datetime(sandiego_df5['run_start_time'])\n"
     ]
    }
   ],
   "source": [
    "# Convert run_start_time to datetime format\n",
    "sandiego_df5['run_start_time'] = pd.to_datetime(sandiego_df5['run_start_time'])\n",
    "\n",
    "# Set the run_start_time column as the DataFrame index\n",
    "sandiego_df5.set_index('run_start_time', inplace=True)"
   ]
  },
  {
   "cell_type": "code",
   "execution_count": 33,
   "id": "962ad781",
   "metadata": {},
   "outputs": [],
   "source": [
    "# Group by county FIPS code and run start time, and apply hourly sum\n",
    "hourly_sum_df5 = sandiego_df5.groupby(['county', pd.Grouper(freq='H')]).sum(numeric_only=True)\n",
    "\n",
    "# Reset index to get county FIPS code and run start time as columns\n",
    "hourly_sum_df5 = hourly_sum_df5.reset_index()\n",
    "\n",
    "# Rename the sum column to 'hourly_sum'\n",
    "hourly_sum_df5 = hourly_sum_df5.rename(columns={'sum': 'hourly_sum'})"
   ]
  },
  {
   "cell_type": "code",
   "execution_count": 34,
   "id": "9668c7c8",
   "metadata": {},
   "outputs": [],
   "source": [
    "hourly_sum_df5.drop(columns=['county','fips_code'], inplace=True)"
   ]
  },
  {
   "cell_type": "code",
   "execution_count": 35,
   "id": "552d1c67",
   "metadata": {},
   "outputs": [
    {
     "data": {
      "text/html": [
       "<div>\n",
       "<style scoped>\n",
       "    .dataframe tbody tr th:only-of-type {\n",
       "        vertical-align: middle;\n",
       "    }\n",
       "\n",
       "    .dataframe tbody tr th {\n",
       "        vertical-align: top;\n",
       "    }\n",
       "\n",
       "    .dataframe thead th {\n",
       "        text-align: right;\n",
       "    }\n",
       "</style>\n",
       "<table border=\"1\" class=\"dataframe\">\n",
       "  <thead>\n",
       "    <tr style=\"text-align: right;\">\n",
       "      <th></th>\n",
       "      <th>run_start_time</th>\n",
       "      <th>hourly_sum</th>\n",
       "    </tr>\n",
       "  </thead>\n",
       "  <tbody>\n",
       "    <tr>\n",
       "      <th>0</th>\n",
       "      <td>2018-01-01 05:00:00</td>\n",
       "      <td>3447.0</td>\n",
       "    </tr>\n",
       "    <tr>\n",
       "      <th>1</th>\n",
       "      <td>2018-01-01 06:00:00</td>\n",
       "      <td>4596.0</td>\n",
       "    </tr>\n",
       "    <tr>\n",
       "      <th>2</th>\n",
       "      <td>2018-01-01 07:00:00</td>\n",
       "      <td>4596.0</td>\n",
       "    </tr>\n",
       "    <tr>\n",
       "      <th>3</th>\n",
       "      <td>2018-01-01 08:00:00</td>\n",
       "      <td>1149.0</td>\n",
       "    </tr>\n",
       "    <tr>\n",
       "      <th>4</th>\n",
       "      <td>2018-01-01 09:00:00</td>\n",
       "      <td>1596.0</td>\n",
       "    </tr>\n",
       "    <tr>\n",
       "      <th>...</th>\n",
       "      <td>...</td>\n",
       "      <td>...</td>\n",
       "    </tr>\n",
       "    <tr>\n",
       "      <th>8033</th>\n",
       "      <td>2018-12-30 20:00:00</td>\n",
       "      <td>24.0</td>\n",
       "    </tr>\n",
       "    <tr>\n",
       "      <th>8034</th>\n",
       "      <td>2018-12-30 21:00:00</td>\n",
       "      <td>24.0</td>\n",
       "    </tr>\n",
       "    <tr>\n",
       "      <th>8035</th>\n",
       "      <td>2018-12-30 22:00:00</td>\n",
       "      <td>24.0</td>\n",
       "    </tr>\n",
       "    <tr>\n",
       "      <th>8036</th>\n",
       "      <td>2018-12-30 23:00:00</td>\n",
       "      <td>24.0</td>\n",
       "    </tr>\n",
       "    <tr>\n",
       "      <th>8037</th>\n",
       "      <td>2018-12-31 00:00:00</td>\n",
       "      <td>6.0</td>\n",
       "    </tr>\n",
       "  </tbody>\n",
       "</table>\n",
       "<p>8038 rows × 2 columns</p>\n",
       "</div>"
      ],
      "text/plain": [
       "          run_start_time  hourly_sum\n",
       "0    2018-01-01 05:00:00      3447.0\n",
       "1    2018-01-01 06:00:00      4596.0\n",
       "2    2018-01-01 07:00:00      4596.0\n",
       "3    2018-01-01 08:00:00      1149.0\n",
       "4    2018-01-01 09:00:00      1596.0\n",
       "...                  ...         ...\n",
       "8033 2018-12-30 20:00:00        24.0\n",
       "8034 2018-12-30 21:00:00        24.0\n",
       "8035 2018-12-30 22:00:00        24.0\n",
       "8036 2018-12-30 23:00:00        24.0\n",
       "8037 2018-12-31 00:00:00         6.0\n",
       "\n",
       "[8038 rows x 2 columns]"
      ]
     },
     "execution_count": 35,
     "metadata": {},
     "output_type": "execute_result"
    }
   ],
   "source": [
    "hourly_sum_df5"
   ]
  },
  {
   "cell_type": "code",
   "execution_count": 36,
   "id": "2a7b1cde",
   "metadata": {},
   "outputs": [],
   "source": [
    "sandiego_df6 = df6[(df6['fips_code'] == 6073) & (df6['county'] == 'San Diego')]"
   ]
  },
  {
   "cell_type": "code",
   "execution_count": 37,
   "id": "785e74b2",
   "metadata": {},
   "outputs": [
    {
     "name": "stderr",
     "output_type": "stream",
     "text": [
      "C:\\Users\\halee\\AppData\\Local\\Temp\\ipykernel_27864\\2072086472.py:2: SettingWithCopyWarning: \n",
      "A value is trying to be set on a copy of a slice from a DataFrame.\n",
      "Try using .loc[row_indexer,col_indexer] = value instead\n",
      "\n",
      "See the caveats in the documentation: https://pandas.pydata.org/pandas-docs/stable/user_guide/indexing.html#returning-a-view-versus-a-copy\n",
      "  sandiego_df6['run_start_time'] = pd.to_datetime(sandiego_df6['run_start_time'])\n"
     ]
    }
   ],
   "source": [
    "# Convert run_start_time to datetime format\n",
    "sandiego_df6['run_start_time'] = pd.to_datetime(sandiego_df6['run_start_time'])\n",
    "\n",
    "# Set the run_start_time column as the DataFrame index\n",
    "sandiego_df6.set_index('run_start_time', inplace=True)"
   ]
  },
  {
   "cell_type": "code",
   "execution_count": 38,
   "id": "fae72159",
   "metadata": {},
   "outputs": [],
   "source": [
    "# Group by county FIPS code and run start time, and apply hourly sum\n",
    "hourly_sum_df6 = sandiego_df6.groupby(['county', pd.Grouper(freq='H')]).sum(numeric_only=True)\n",
    "\n",
    "# Reset index to get county FIPS code and run start time as columns\n",
    "hourly_sum_df6 = hourly_sum_df6.reset_index()\n",
    "\n",
    "# Rename the sum column to 'hourly_sum'\n",
    "hourly_sum_df6 = hourly_sum_df6.rename(columns={'sum': 'hourly_sum'})"
   ]
  },
  {
   "cell_type": "code",
   "execution_count": 39,
   "id": "10a192df",
   "metadata": {},
   "outputs": [],
   "source": [
    "hourly_sum_df6.drop(columns=['county','fips_code'], inplace=True)"
   ]
  },
  {
   "cell_type": "code",
   "execution_count": 40,
   "id": "5dd884c9",
   "metadata": {},
   "outputs": [
    {
     "data": {
      "text/html": [
       "<div>\n",
       "<style scoped>\n",
       "    .dataframe tbody tr th:only-of-type {\n",
       "        vertical-align: middle;\n",
       "    }\n",
       "\n",
       "    .dataframe tbody tr th {\n",
       "        vertical-align: top;\n",
       "    }\n",
       "\n",
       "    .dataframe thead th {\n",
       "        text-align: right;\n",
       "    }\n",
       "</style>\n",
       "<table border=\"1\" class=\"dataframe\">\n",
       "  <thead>\n",
       "    <tr style=\"text-align: right;\">\n",
       "      <th></th>\n",
       "      <th>run_start_time</th>\n",
       "      <th>hourly_sum</th>\n",
       "    </tr>\n",
       "  </thead>\n",
       "  <tbody>\n",
       "    <tr>\n",
       "      <th>0</th>\n",
       "      <td>2019-01-01 06:00:00</td>\n",
       "      <td>532.0</td>\n",
       "    </tr>\n",
       "    <tr>\n",
       "      <th>1</th>\n",
       "      <td>2019-01-01 19:00:00</td>\n",
       "      <td>248.0</td>\n",
       "    </tr>\n",
       "    <tr>\n",
       "      <th>2</th>\n",
       "      <td>2019-01-01 20:00:00</td>\n",
       "      <td>540.0</td>\n",
       "    </tr>\n",
       "    <tr>\n",
       "      <th>3</th>\n",
       "      <td>2019-01-01 21:00:00</td>\n",
       "      <td>44.0</td>\n",
       "    </tr>\n",
       "    <tr>\n",
       "      <th>4</th>\n",
       "      <td>2019-01-01 22:00:00</td>\n",
       "      <td>44.0</td>\n",
       "    </tr>\n",
       "    <tr>\n",
       "      <th>...</th>\n",
       "      <td>...</td>\n",
       "      <td>...</td>\n",
       "    </tr>\n",
       "    <tr>\n",
       "      <th>8109</th>\n",
       "      <td>2019-12-30 17:00:00</td>\n",
       "      <td>570.0</td>\n",
       "    </tr>\n",
       "    <tr>\n",
       "      <th>8110</th>\n",
       "      <td>2019-12-30 18:00:00</td>\n",
       "      <td>906.0</td>\n",
       "    </tr>\n",
       "    <tr>\n",
       "      <th>8111</th>\n",
       "      <td>2019-12-30 19:00:00</td>\n",
       "      <td>155.0</td>\n",
       "    </tr>\n",
       "    <tr>\n",
       "      <th>8112</th>\n",
       "      <td>2019-12-30 20:00:00</td>\n",
       "      <td>52.0</td>\n",
       "    </tr>\n",
       "    <tr>\n",
       "      <th>8113</th>\n",
       "      <td>2019-12-30 21:00:00</td>\n",
       "      <td>21.0</td>\n",
       "    </tr>\n",
       "  </tbody>\n",
       "</table>\n",
       "<p>8114 rows × 2 columns</p>\n",
       "</div>"
      ],
      "text/plain": [
       "          run_start_time  hourly_sum\n",
       "0    2019-01-01 06:00:00       532.0\n",
       "1    2019-01-01 19:00:00       248.0\n",
       "2    2019-01-01 20:00:00       540.0\n",
       "3    2019-01-01 21:00:00        44.0\n",
       "4    2019-01-01 22:00:00        44.0\n",
       "...                  ...         ...\n",
       "8109 2019-12-30 17:00:00       570.0\n",
       "8110 2019-12-30 18:00:00       906.0\n",
       "8111 2019-12-30 19:00:00       155.0\n",
       "8112 2019-12-30 20:00:00        52.0\n",
       "8113 2019-12-30 21:00:00        21.0\n",
       "\n",
       "[8114 rows x 2 columns]"
      ]
     },
     "execution_count": 40,
     "metadata": {},
     "output_type": "execute_result"
    }
   ],
   "source": [
    "hourly_sum_df6"
   ]
  },
  {
   "cell_type": "code",
   "execution_count": 41,
   "id": "6970ff69",
   "metadata": {},
   "outputs": [],
   "source": [
    "sandiego_df7 = df7[(df7['fips_code'] == 6073) & (df7['county'] == 'San Diego')]"
   ]
  },
  {
   "cell_type": "code",
   "execution_count": 42,
   "id": "fa423ddd",
   "metadata": {},
   "outputs": [
    {
     "name": "stderr",
     "output_type": "stream",
     "text": [
      "C:\\Users\\halee\\AppData\\Local\\Temp\\ipykernel_27864\\1624955678.py:2: SettingWithCopyWarning: \n",
      "A value is trying to be set on a copy of a slice from a DataFrame.\n",
      "Try using .loc[row_indexer,col_indexer] = value instead\n",
      "\n",
      "See the caveats in the documentation: https://pandas.pydata.org/pandas-docs/stable/user_guide/indexing.html#returning-a-view-versus-a-copy\n",
      "  sandiego_df7['run_start_time'] = pd.to_datetime(sandiego_df7['run_start_time'])\n"
     ]
    }
   ],
   "source": [
    "# Convert run_start_time to datetime format\n",
    "sandiego_df7['run_start_time'] = pd.to_datetime(sandiego_df7['run_start_time'])\n",
    "\n",
    "# Set the run_start_time column as the DataFrame index\n",
    "sandiego_df7.set_index('run_start_time', inplace=True)"
   ]
  },
  {
   "cell_type": "code",
   "execution_count": 43,
   "id": "deed84c1",
   "metadata": {},
   "outputs": [],
   "source": [
    "# Group by county FIPS code and run start time, and apply hourly sum\n",
    "hourly_sum_df7 = sandiego_df7.groupby(['county', pd.Grouper(freq='H')]).sum(numeric_only=True)\n",
    "\n",
    "# Reset index to get county FIPS code and run start time as columns\n",
    "hourly_sum_df7 = hourly_sum_df7.reset_index()\n",
    "\n",
    "# Rename the sum column to 'hourly_sum'\n",
    "hourly_sum_df7 = hourly_sum_df7.rename(columns={'sum': 'hourly_sum'})"
   ]
  },
  {
   "cell_type": "code",
   "execution_count": 44,
   "id": "f836c24c",
   "metadata": {},
   "outputs": [],
   "source": [
    "hourly_sum_df7.drop(columns=['county','fips_code'], inplace=True)"
   ]
  },
  {
   "cell_type": "code",
   "execution_count": 45,
   "id": "ad754483",
   "metadata": {},
   "outputs": [
    {
     "data": {
      "text/html": [
       "<div>\n",
       "<style scoped>\n",
       "    .dataframe tbody tr th:only-of-type {\n",
       "        vertical-align: middle;\n",
       "    }\n",
       "\n",
       "    .dataframe tbody tr th {\n",
       "        vertical-align: top;\n",
       "    }\n",
       "\n",
       "    .dataframe thead th {\n",
       "        text-align: right;\n",
       "    }\n",
       "</style>\n",
       "<table border=\"1\" class=\"dataframe\">\n",
       "  <thead>\n",
       "    <tr style=\"text-align: right;\">\n",
       "      <th></th>\n",
       "      <th>run_start_time</th>\n",
       "      <th>hourly_sum</th>\n",
       "    </tr>\n",
       "  </thead>\n",
       "  <tbody>\n",
       "    <tr>\n",
       "      <th>0</th>\n",
       "      <td>2020-01-01 00:00:00</td>\n",
       "      <td>2424.0</td>\n",
       "    </tr>\n",
       "    <tr>\n",
       "      <th>1</th>\n",
       "      <td>2020-01-01 01:00:00</td>\n",
       "      <td>2424.0</td>\n",
       "    </tr>\n",
       "    <tr>\n",
       "      <th>2</th>\n",
       "      <td>2020-01-01 02:00:00</td>\n",
       "      <td>3322.0</td>\n",
       "    </tr>\n",
       "    <tr>\n",
       "      <th>3</th>\n",
       "      <td>2020-01-01 03:00:00</td>\n",
       "      <td>2424.0</td>\n",
       "    </tr>\n",
       "    <tr>\n",
       "      <th>4</th>\n",
       "      <td>2020-01-01 04:00:00</td>\n",
       "      <td>2424.0</td>\n",
       "    </tr>\n",
       "    <tr>\n",
       "      <th>...</th>\n",
       "      <td>...</td>\n",
       "      <td>...</td>\n",
       "    </tr>\n",
       "    <tr>\n",
       "      <th>8189</th>\n",
       "      <td>2020-12-30 20:00:00</td>\n",
       "      <td>184.0</td>\n",
       "    </tr>\n",
       "    <tr>\n",
       "      <th>8190</th>\n",
       "      <td>2020-12-30 21:00:00</td>\n",
       "      <td>151.0</td>\n",
       "    </tr>\n",
       "    <tr>\n",
       "      <th>8191</th>\n",
       "      <td>2020-12-30 22:00:00</td>\n",
       "      <td>77.0</td>\n",
       "    </tr>\n",
       "    <tr>\n",
       "      <th>8192</th>\n",
       "      <td>2020-12-30 23:00:00</td>\n",
       "      <td>24.0</td>\n",
       "    </tr>\n",
       "    <tr>\n",
       "      <th>8193</th>\n",
       "      <td>2020-12-31 00:00:00</td>\n",
       "      <td>6.0</td>\n",
       "    </tr>\n",
       "  </tbody>\n",
       "</table>\n",
       "<p>8194 rows × 2 columns</p>\n",
       "</div>"
      ],
      "text/plain": [
       "          run_start_time  hourly_sum\n",
       "0    2020-01-01 00:00:00      2424.0\n",
       "1    2020-01-01 01:00:00      2424.0\n",
       "2    2020-01-01 02:00:00      3322.0\n",
       "3    2020-01-01 03:00:00      2424.0\n",
       "4    2020-01-01 04:00:00      2424.0\n",
       "...                  ...         ...\n",
       "8189 2020-12-30 20:00:00       184.0\n",
       "8190 2020-12-30 21:00:00       151.0\n",
       "8191 2020-12-30 22:00:00        77.0\n",
       "8192 2020-12-30 23:00:00        24.0\n",
       "8193 2020-12-31 00:00:00         6.0\n",
       "\n",
       "[8194 rows x 2 columns]"
      ]
     },
     "execution_count": 45,
     "metadata": {},
     "output_type": "execute_result"
    }
   ],
   "source": [
    "hourly_sum_df7"
   ]
  },
  {
   "cell_type": "code",
   "execution_count": 46,
   "id": "003aef2e",
   "metadata": {},
   "outputs": [],
   "source": [
    "sandiego_df8 = df8[(df8['fips_code'] == 6073) & (df8['county'] == 'San Diego')]"
   ]
  },
  {
   "cell_type": "code",
   "execution_count": 47,
   "id": "4a7be08d",
   "metadata": {},
   "outputs": [
    {
     "name": "stderr",
     "output_type": "stream",
     "text": [
      "C:\\Users\\halee\\AppData\\Local\\Temp\\ipykernel_27864\\809091036.py:2: SettingWithCopyWarning: \n",
      "A value is trying to be set on a copy of a slice from a DataFrame.\n",
      "Try using .loc[row_indexer,col_indexer] = value instead\n",
      "\n",
      "See the caveats in the documentation: https://pandas.pydata.org/pandas-docs/stable/user_guide/indexing.html#returning-a-view-versus-a-copy\n",
      "  sandiego_df8['run_start_time'] = pd.to_datetime(sandiego_df8['run_start_time'])\n"
     ]
    }
   ],
   "source": [
    "# Convert run_start_time to datetime format\n",
    "sandiego_df8['run_start_time'] = pd.to_datetime(sandiego_df8['run_start_time'])\n",
    "\n",
    "# Set the run_start_time column as the DataFrame index\n",
    "sandiego_df8.set_index('run_start_time', inplace=True)"
   ]
  },
  {
   "cell_type": "code",
   "execution_count": 48,
   "id": "2cbc52e7",
   "metadata": {},
   "outputs": [],
   "source": [
    "# Group by county FIPS code and run start time, and apply hourly sum\n",
    "hourly_sum_df8 = sandiego_df8.groupby(['county', pd.Grouper(freq='H')]).sum(numeric_only=True)\n",
    "\n",
    "# Reset index to get county FIPS code and run start time as columns\n",
    "hourly_sum_df8 = hourly_sum_df8.reset_index()\n",
    "\n",
    "# Rename the sum column to 'hourly_sum'\n",
    "hourly_sum_df8 = hourly_sum_df8.rename(columns={'sum': 'hourly_sum'})"
   ]
  },
  {
   "cell_type": "code",
   "execution_count": 49,
   "id": "659a97a5",
   "metadata": {},
   "outputs": [],
   "source": [
    "hourly_sum_df8.drop(columns=['county','fips_code'], inplace=True)"
   ]
  },
  {
   "cell_type": "code",
   "execution_count": 50,
   "id": "a86b8abc",
   "metadata": {},
   "outputs": [
    {
     "data": {
      "text/html": [
       "<div>\n",
       "<style scoped>\n",
       "    .dataframe tbody tr th:only-of-type {\n",
       "        vertical-align: middle;\n",
       "    }\n",
       "\n",
       "    .dataframe tbody tr th {\n",
       "        vertical-align: top;\n",
       "    }\n",
       "\n",
       "    .dataframe thead th {\n",
       "        text-align: right;\n",
       "    }\n",
       "</style>\n",
       "<table border=\"1\" class=\"dataframe\">\n",
       "  <thead>\n",
       "    <tr style=\"text-align: right;\">\n",
       "      <th></th>\n",
       "      <th>run_start_time</th>\n",
       "      <th>hourly_sum</th>\n",
       "    </tr>\n",
       "  </thead>\n",
       "  <tbody>\n",
       "    <tr>\n",
       "      <th>0</th>\n",
       "      <td>2021-01-01 00:00:00</td>\n",
       "      <td>1392.0</td>\n",
       "    </tr>\n",
       "    <tr>\n",
       "      <th>1</th>\n",
       "      <td>2021-01-01 01:00:00</td>\n",
       "      <td>362.0</td>\n",
       "    </tr>\n",
       "    <tr>\n",
       "      <th>2</th>\n",
       "      <td>2021-01-01 02:00:00</td>\n",
       "      <td>4.0</td>\n",
       "    </tr>\n",
       "    <tr>\n",
       "      <th>3</th>\n",
       "      <td>2021-01-01 03:00:00</td>\n",
       "      <td>4.0</td>\n",
       "    </tr>\n",
       "    <tr>\n",
       "      <th>4</th>\n",
       "      <td>2021-01-01 04:00:00</td>\n",
       "      <td>4.0</td>\n",
       "    </tr>\n",
       "    <tr>\n",
       "      <th>...</th>\n",
       "      <td>...</td>\n",
       "      <td>...</td>\n",
       "    </tr>\n",
       "    <tr>\n",
       "      <th>8190</th>\n",
       "      <td>2021-12-30 20:00:00</td>\n",
       "      <td>129.0</td>\n",
       "    </tr>\n",
       "    <tr>\n",
       "      <th>8191</th>\n",
       "      <td>2021-12-30 21:00:00</td>\n",
       "      <td>27.0</td>\n",
       "    </tr>\n",
       "    <tr>\n",
       "      <th>8192</th>\n",
       "      <td>2021-12-30 22:00:00</td>\n",
       "      <td>4.0</td>\n",
       "    </tr>\n",
       "    <tr>\n",
       "      <th>8193</th>\n",
       "      <td>2021-12-30 23:00:00</td>\n",
       "      <td>20.0</td>\n",
       "    </tr>\n",
       "    <tr>\n",
       "      <th>8194</th>\n",
       "      <td>2021-12-31 00:00:00</td>\n",
       "      <td>5.0</td>\n",
       "    </tr>\n",
       "  </tbody>\n",
       "</table>\n",
       "<p>8195 rows × 2 columns</p>\n",
       "</div>"
      ],
      "text/plain": [
       "          run_start_time  hourly_sum\n",
       "0    2021-01-01 00:00:00      1392.0\n",
       "1    2021-01-01 01:00:00       362.0\n",
       "2    2021-01-01 02:00:00         4.0\n",
       "3    2021-01-01 03:00:00         4.0\n",
       "4    2021-01-01 04:00:00         4.0\n",
       "...                  ...         ...\n",
       "8190 2021-12-30 20:00:00       129.0\n",
       "8191 2021-12-30 21:00:00        27.0\n",
       "8192 2021-12-30 22:00:00         4.0\n",
       "8193 2021-12-30 23:00:00        20.0\n",
       "8194 2021-12-31 00:00:00         5.0\n",
       "\n",
       "[8195 rows x 2 columns]"
      ]
     },
     "execution_count": 50,
     "metadata": {},
     "output_type": "execute_result"
    }
   ],
   "source": [
    "hourly_sum_df8"
   ]
  },
  {
   "cell_type": "code",
   "execution_count": 51,
   "id": "889f84ed",
   "metadata": {},
   "outputs": [],
   "source": [
    "sandiego_df9 = df9[(df9['fips_code'] == 6073) & (df9['county'] == 'San Diego')]"
   ]
  },
  {
   "cell_type": "code",
   "execution_count": 52,
   "id": "a73804d9",
   "metadata": {},
   "outputs": [
    {
     "name": "stderr",
     "output_type": "stream",
     "text": [
      "C:\\Users\\halee\\AppData\\Local\\Temp\\ipykernel_27864\\758513731.py:2: SettingWithCopyWarning: \n",
      "A value is trying to be set on a copy of a slice from a DataFrame.\n",
      "Try using .loc[row_indexer,col_indexer] = value instead\n",
      "\n",
      "See the caveats in the documentation: https://pandas.pydata.org/pandas-docs/stable/user_guide/indexing.html#returning-a-view-versus-a-copy\n",
      "  sandiego_df9['run_start_time'] = pd.to_datetime(sandiego_df9['run_start_time'])\n"
     ]
    }
   ],
   "source": [
    "# Convert run_start_time to datetime format\n",
    "sandiego_df9['run_start_time'] = pd.to_datetime(sandiego_df9['run_start_time'])\n",
    "\n",
    "# Set the run_start_time column as the DataFrame index\n",
    "sandiego_df9.set_index('run_start_time', inplace=True)"
   ]
  },
  {
   "cell_type": "code",
   "execution_count": 53,
   "id": "dbede1e2",
   "metadata": {},
   "outputs": [],
   "source": [
    "# Group by county FIPS code and run start time, and apply hourly sum\n",
    "hourly_sum_df9 = sandiego_df9.groupby(['county', pd.Grouper(freq='H')]).sum(numeric_only=True)\n",
    "\n",
    "# Reset index to get county FIPS code and run start time as columns\n",
    "hourly_sum_df9 = hourly_sum_df9.reset_index()\n",
    "\n",
    "# Rename the sum column to 'hourly_sum'\n",
    "hourly_sum_df9 = hourly_sum_df9.rename(columns={'sum': 'hourly_sum'})"
   ]
  },
  {
   "cell_type": "code",
   "execution_count": 54,
   "id": "8bc87595",
   "metadata": {},
   "outputs": [],
   "source": [
    "hourly_sum_df9.drop(columns=['county','fips_code'], inplace=True)"
   ]
  },
  {
   "cell_type": "code",
   "execution_count": 55,
   "id": "0bafe138",
   "metadata": {},
   "outputs": [
    {
     "data": {
      "text/html": [
       "<div>\n",
       "<style scoped>\n",
       "    .dataframe tbody tr th:only-of-type {\n",
       "        vertical-align: middle;\n",
       "    }\n",
       "\n",
       "    .dataframe tbody tr th {\n",
       "        vertical-align: top;\n",
       "    }\n",
       "\n",
       "    .dataframe thead th {\n",
       "        text-align: right;\n",
       "    }\n",
       "</style>\n",
       "<table border=\"1\" class=\"dataframe\">\n",
       "  <thead>\n",
       "    <tr style=\"text-align: right;\">\n",
       "      <th></th>\n",
       "      <th>run_start_time</th>\n",
       "      <th>hourly_sum</th>\n",
       "    </tr>\n",
       "  </thead>\n",
       "  <tbody>\n",
       "    <tr>\n",
       "      <th>0</th>\n",
       "      <td>2022-01-01 00:00:00</td>\n",
       "      <td>208.0</td>\n",
       "    </tr>\n",
       "    <tr>\n",
       "      <th>1</th>\n",
       "      <td>2022-01-01 01:00:00</td>\n",
       "      <td>142.0</td>\n",
       "    </tr>\n",
       "    <tr>\n",
       "      <th>2</th>\n",
       "      <td>2022-01-01 02:00:00</td>\n",
       "      <td>76.0</td>\n",
       "    </tr>\n",
       "    <tr>\n",
       "      <th>3</th>\n",
       "      <td>2022-01-01 03:00:00</td>\n",
       "      <td>76.0</td>\n",
       "    </tr>\n",
       "    <tr>\n",
       "      <th>4</th>\n",
       "      <td>2022-01-01 04:00:00</td>\n",
       "      <td>1454.0</td>\n",
       "    </tr>\n",
       "    <tr>\n",
       "      <th>...</th>\n",
       "      <td>...</td>\n",
       "      <td>...</td>\n",
       "    </tr>\n",
       "    <tr>\n",
       "      <th>7111</th>\n",
       "      <td>2022-11-12 09:00:00</td>\n",
       "      <td>24.0</td>\n",
       "    </tr>\n",
       "    <tr>\n",
       "      <th>7112</th>\n",
       "      <td>2022-11-12 15:00:00</td>\n",
       "      <td>88.0</td>\n",
       "    </tr>\n",
       "    <tr>\n",
       "      <th>7113</th>\n",
       "      <td>2022-11-12 16:00:00</td>\n",
       "      <td>100.0</td>\n",
       "    </tr>\n",
       "    <tr>\n",
       "      <th>7114</th>\n",
       "      <td>2022-11-12 17:00:00</td>\n",
       "      <td>100.0</td>\n",
       "    </tr>\n",
       "    <tr>\n",
       "      <th>7115</th>\n",
       "      <td>2022-11-12 18:00:00</td>\n",
       "      <td>75.0</td>\n",
       "    </tr>\n",
       "  </tbody>\n",
       "</table>\n",
       "<p>7116 rows × 2 columns</p>\n",
       "</div>"
      ],
      "text/plain": [
       "          run_start_time  hourly_sum\n",
       "0    2022-01-01 00:00:00       208.0\n",
       "1    2022-01-01 01:00:00       142.0\n",
       "2    2022-01-01 02:00:00        76.0\n",
       "3    2022-01-01 03:00:00        76.0\n",
       "4    2022-01-01 04:00:00      1454.0\n",
       "...                  ...         ...\n",
       "7111 2022-11-12 09:00:00        24.0\n",
       "7112 2022-11-12 15:00:00        88.0\n",
       "7113 2022-11-12 16:00:00       100.0\n",
       "7114 2022-11-12 17:00:00       100.0\n",
       "7115 2022-11-12 18:00:00        75.0\n",
       "\n",
       "[7116 rows x 2 columns]"
      ]
     },
     "execution_count": 55,
     "metadata": {},
     "output_type": "execute_result"
    }
   ],
   "source": [
    "hourly_sum_df9"
   ]
  },
  {
   "cell_type": "code",
   "execution_count": 56,
   "id": "2b80ddf9",
   "metadata": {},
   "outputs": [],
   "source": [
    "df_final = pd.concat([hourly_sum_df1,hourly_sum_df2, hourly_sum_df3, hourly_sum_df4, hourly_sum_df5, hourly_sum_df6, hourly_sum_df7, hourly_sum_df8, hourly_sum_df9])"
   ]
  },
  {
   "cell_type": "code",
   "execution_count": 134,
   "id": "6aceab94",
   "metadata": {},
   "outputs": [
    {
     "data": {
      "text/html": [
       "<div>\n",
       "<style scoped>\n",
       "    .dataframe tbody tr th:only-of-type {\n",
       "        vertical-align: middle;\n",
       "    }\n",
       "\n",
       "    .dataframe tbody tr th {\n",
       "        vertical-align: top;\n",
       "    }\n",
       "\n",
       "    .dataframe thead th {\n",
       "        text-align: right;\n",
       "    }\n",
       "</style>\n",
       "<table border=\"1\" class=\"dataframe\">\n",
       "  <thead>\n",
       "    <tr style=\"text-align: right;\">\n",
       "      <th></th>\n",
       "      <th>run_start_time</th>\n",
       "      <th>hourly_sum</th>\n",
       "      <th>date</th>\n",
       "    </tr>\n",
       "  </thead>\n",
       "  <tbody>\n",
       "    <tr>\n",
       "      <th>0</th>\n",
       "      <td>2014-11-01 06:00:00</td>\n",
       "      <td>377.0</td>\n",
       "      <td>2014-11-01</td>\n",
       "    </tr>\n",
       "    <tr>\n",
       "      <th>1</th>\n",
       "      <td>2014-11-01 11:00:00</td>\n",
       "      <td>6512.0</td>\n",
       "      <td>2014-11-01</td>\n",
       "    </tr>\n",
       "    <tr>\n",
       "      <th>2</th>\n",
       "      <td>2014-11-01 12:00:00</td>\n",
       "      <td>11202.0</td>\n",
       "      <td>2014-11-01</td>\n",
       "    </tr>\n",
       "    <tr>\n",
       "      <th>3</th>\n",
       "      <td>2014-11-01 13:00:00</td>\n",
       "      <td>7719.0</td>\n",
       "      <td>2014-11-01</td>\n",
       "    </tr>\n",
       "    <tr>\n",
       "      <th>4</th>\n",
       "      <td>2014-11-01 14:00:00</td>\n",
       "      <td>3458.0</td>\n",
       "      <td>2014-11-01</td>\n",
       "    </tr>\n",
       "    <tr>\n",
       "      <th>...</th>\n",
       "      <td>...</td>\n",
       "      <td>...</td>\n",
       "      <td>...</td>\n",
       "    </tr>\n",
       "    <tr>\n",
       "      <th>7111</th>\n",
       "      <td>2022-11-12 09:00:00</td>\n",
       "      <td>24.0</td>\n",
       "      <td>2022-11-12</td>\n",
       "    </tr>\n",
       "    <tr>\n",
       "      <th>7112</th>\n",
       "      <td>2022-11-12 15:00:00</td>\n",
       "      <td>88.0</td>\n",
       "      <td>2022-11-12</td>\n",
       "    </tr>\n",
       "    <tr>\n",
       "      <th>7113</th>\n",
       "      <td>2022-11-12 16:00:00</td>\n",
       "      <td>100.0</td>\n",
       "      <td>2022-11-12</td>\n",
       "    </tr>\n",
       "    <tr>\n",
       "      <th>7114</th>\n",
       "      <td>2022-11-12 17:00:00</td>\n",
       "      <td>100.0</td>\n",
       "      <td>2022-11-12</td>\n",
       "    </tr>\n",
       "    <tr>\n",
       "      <th>7115</th>\n",
       "      <td>2022-11-12 18:00:00</td>\n",
       "      <td>75.0</td>\n",
       "      <td>2022-11-12</td>\n",
       "    </tr>\n",
       "  </tbody>\n",
       "</table>\n",
       "<p>64071 rows × 3 columns</p>\n",
       "</div>"
      ],
      "text/plain": [
       "          run_start_time  hourly_sum        date\n",
       "0    2014-11-01 06:00:00       377.0  2014-11-01\n",
       "1    2014-11-01 11:00:00      6512.0  2014-11-01\n",
       "2    2014-11-01 12:00:00     11202.0  2014-11-01\n",
       "3    2014-11-01 13:00:00      7719.0  2014-11-01\n",
       "4    2014-11-01 14:00:00      3458.0  2014-11-01\n",
       "...                  ...         ...         ...\n",
       "7111 2022-11-12 09:00:00        24.0  2022-11-12\n",
       "7112 2022-11-12 15:00:00        88.0  2022-11-12\n",
       "7113 2022-11-12 16:00:00       100.0  2022-11-12\n",
       "7114 2022-11-12 17:00:00       100.0  2022-11-12\n",
       "7115 2022-11-12 18:00:00        75.0  2022-11-12\n",
       "\n",
       "[64071 rows x 3 columns]"
      ]
     },
     "execution_count": 134,
     "metadata": {},
     "output_type": "execute_result"
    }
   ],
   "source": [
    "df_final"
   ]
  },
  {
   "cell_type": "code",
   "execution_count": 135,
   "id": "ddf94588",
   "metadata": {},
   "outputs": [],
   "source": [
    "df3=df_final"
   ]
  },
  {
   "cell_type": "code",
   "execution_count": 141,
   "id": "d952a9e4",
   "metadata": {},
   "outputs": [],
   "source": [
    "df3=df3.drop(['date'], axis=1)\n"
   ]
  },
  {
   "cell_type": "markdown",
   "id": "c2cdfe80",
   "metadata": {},
   "source": [
    "### "
   ]
  },
  {
   "cell_type": "code",
   "execution_count": 142,
   "id": "c58c9284",
   "metadata": {},
   "outputs": [
    {
     "data": {
      "text/html": [
       "<div>\n",
       "<style scoped>\n",
       "    .dataframe tbody tr th:only-of-type {\n",
       "        vertical-align: middle;\n",
       "    }\n",
       "\n",
       "    .dataframe tbody tr th {\n",
       "        vertical-align: top;\n",
       "    }\n",
       "\n",
       "    .dataframe thead th {\n",
       "        text-align: right;\n",
       "    }\n",
       "</style>\n",
       "<table border=\"1\" class=\"dataframe\">\n",
       "  <thead>\n",
       "    <tr style=\"text-align: right;\">\n",
       "      <th></th>\n",
       "      <th>run_start_time</th>\n",
       "      <th>hourly_sum</th>\n",
       "    </tr>\n",
       "  </thead>\n",
       "  <tbody>\n",
       "    <tr>\n",
       "      <th>0</th>\n",
       "      <td>2014-11-01 06:00:00</td>\n",
       "      <td>377.0</td>\n",
       "    </tr>\n",
       "    <tr>\n",
       "      <th>1</th>\n",
       "      <td>2014-11-01 11:00:00</td>\n",
       "      <td>6512.0</td>\n",
       "    </tr>\n",
       "    <tr>\n",
       "      <th>2</th>\n",
       "      <td>2014-11-01 12:00:00</td>\n",
       "      <td>11202.0</td>\n",
       "    </tr>\n",
       "    <tr>\n",
       "      <th>3</th>\n",
       "      <td>2014-11-01 13:00:00</td>\n",
       "      <td>7719.0</td>\n",
       "    </tr>\n",
       "    <tr>\n",
       "      <th>4</th>\n",
       "      <td>2014-11-01 14:00:00</td>\n",
       "      <td>3458.0</td>\n",
       "    </tr>\n",
       "    <tr>\n",
       "      <th>...</th>\n",
       "      <td>...</td>\n",
       "      <td>...</td>\n",
       "    </tr>\n",
       "    <tr>\n",
       "      <th>7111</th>\n",
       "      <td>2022-11-12 09:00:00</td>\n",
       "      <td>24.0</td>\n",
       "    </tr>\n",
       "    <tr>\n",
       "      <th>7112</th>\n",
       "      <td>2022-11-12 15:00:00</td>\n",
       "      <td>88.0</td>\n",
       "    </tr>\n",
       "    <tr>\n",
       "      <th>7113</th>\n",
       "      <td>2022-11-12 16:00:00</td>\n",
       "      <td>100.0</td>\n",
       "    </tr>\n",
       "    <tr>\n",
       "      <th>7114</th>\n",
       "      <td>2022-11-12 17:00:00</td>\n",
       "      <td>100.0</td>\n",
       "    </tr>\n",
       "    <tr>\n",
       "      <th>7115</th>\n",
       "      <td>2022-11-12 18:00:00</td>\n",
       "      <td>75.0</td>\n",
       "    </tr>\n",
       "  </tbody>\n",
       "</table>\n",
       "<p>64071 rows × 2 columns</p>\n",
       "</div>"
      ],
      "text/plain": [
       "          run_start_time  hourly_sum\n",
       "0    2014-11-01 06:00:00       377.0\n",
       "1    2014-11-01 11:00:00      6512.0\n",
       "2    2014-11-01 12:00:00     11202.0\n",
       "3    2014-11-01 13:00:00      7719.0\n",
       "4    2014-11-01 14:00:00      3458.0\n",
       "...                  ...         ...\n",
       "7111 2022-11-12 09:00:00        24.0\n",
       "7112 2022-11-12 15:00:00        88.0\n",
       "7113 2022-11-12 16:00:00       100.0\n",
       "7114 2022-11-12 17:00:00       100.0\n",
       "7115 2022-11-12 18:00:00        75.0\n",
       "\n",
       "[64071 rows x 2 columns]"
      ]
     },
     "execution_count": 142,
     "metadata": {},
     "output_type": "execute_result"
    }
   ],
   "source": [
    "df3"
   ]
  },
  {
   "cell_type": "code",
   "execution_count": 146,
   "id": "c1b51340",
   "metadata": {},
   "outputs": [],
   "source": [
    "# Convert run_start_time to datetime format\n",
    "df3['run_start_time'] = pd.to_datetime(df3['run_start_time'])\n",
    "\n",
    "# Set the run_start_time column as the DataFrame index\n",
    "df3.set_index('run_start_time', inplace=True)"
   ]
  },
  {
   "cell_type": "markdown",
   "id": "00c361d1",
   "metadata": {},
   "source": [
    "### "
   ]
  },
  {
   "cell_type": "code",
   "execution_count": 147,
   "id": "70cd49fb",
   "metadata": {},
   "outputs": [
    {
     "data": {
      "text/html": [
       "<div>\n",
       "<style scoped>\n",
       "    .dataframe tbody tr th:only-of-type {\n",
       "        vertical-align: middle;\n",
       "    }\n",
       "\n",
       "    .dataframe tbody tr th {\n",
       "        vertical-align: top;\n",
       "    }\n",
       "\n",
       "    .dataframe thead th {\n",
       "        text-align: right;\n",
       "    }\n",
       "</style>\n",
       "<table border=\"1\" class=\"dataframe\">\n",
       "  <thead>\n",
       "    <tr style=\"text-align: right;\">\n",
       "      <th></th>\n",
       "      <th>hourly_sum</th>\n",
       "    </tr>\n",
       "    <tr>\n",
       "      <th>run_start_time</th>\n",
       "      <th></th>\n",
       "    </tr>\n",
       "  </thead>\n",
       "  <tbody>\n",
       "    <tr>\n",
       "      <th>2014-11-01 06:00:00</th>\n",
       "      <td>377.0</td>\n",
       "    </tr>\n",
       "    <tr>\n",
       "      <th>2014-11-01 11:00:00</th>\n",
       "      <td>6512.0</td>\n",
       "    </tr>\n",
       "    <tr>\n",
       "      <th>2014-11-01 12:00:00</th>\n",
       "      <td>11202.0</td>\n",
       "    </tr>\n",
       "    <tr>\n",
       "      <th>2014-11-01 13:00:00</th>\n",
       "      <td>7719.0</td>\n",
       "    </tr>\n",
       "    <tr>\n",
       "      <th>2014-11-01 14:00:00</th>\n",
       "      <td>3458.0</td>\n",
       "    </tr>\n",
       "    <tr>\n",
       "      <th>...</th>\n",
       "      <td>...</td>\n",
       "    </tr>\n",
       "    <tr>\n",
       "      <th>2022-11-12 09:00:00</th>\n",
       "      <td>24.0</td>\n",
       "    </tr>\n",
       "    <tr>\n",
       "      <th>2022-11-12 15:00:00</th>\n",
       "      <td>88.0</td>\n",
       "    </tr>\n",
       "    <tr>\n",
       "      <th>2022-11-12 16:00:00</th>\n",
       "      <td>100.0</td>\n",
       "    </tr>\n",
       "    <tr>\n",
       "      <th>2022-11-12 17:00:00</th>\n",
       "      <td>100.0</td>\n",
       "    </tr>\n",
       "    <tr>\n",
       "      <th>2022-11-12 18:00:00</th>\n",
       "      <td>75.0</td>\n",
       "    </tr>\n",
       "  </tbody>\n",
       "</table>\n",
       "<p>64071 rows × 1 columns</p>\n",
       "</div>"
      ],
      "text/plain": [
       "                     hourly_sum\n",
       "run_start_time                 \n",
       "2014-11-01 06:00:00       377.0\n",
       "2014-11-01 11:00:00      6512.0\n",
       "2014-11-01 12:00:00     11202.0\n",
       "2014-11-01 13:00:00      7719.0\n",
       "2014-11-01 14:00:00      3458.0\n",
       "...                         ...\n",
       "2022-11-12 09:00:00        24.0\n",
       "2022-11-12 15:00:00        88.0\n",
       "2022-11-12 16:00:00       100.0\n",
       "2022-11-12 17:00:00       100.0\n",
       "2022-11-12 18:00:00        75.0\n",
       "\n",
       "[64071 rows x 1 columns]"
      ]
     },
     "execution_count": 147,
     "metadata": {},
     "output_type": "execute_result"
    }
   ],
   "source": [
    "df3"
   ]
  },
  {
   "cell_type": "code",
   "execution_count": 61,
   "id": "99b96d58",
   "metadata": {},
   "outputs": [],
   "source": [
    "df=df_final"
   ]
  },
  {
   "cell_type": "code",
   "execution_count": 62,
   "id": "1761672d",
   "metadata": {},
   "outputs": [],
   "source": [
    "# Convert the \"run_start_time\" column to a datetime type\n",
    "df['run_start_time'] = pd.to_datetime(df['run_start_time'])\n",
    "\n",
    "# Create a new column 'date' containing only the date part of 'run_start_time'\n",
    "df['date'] = df['run_start_time'].dt.date"
   ]
  },
  {
   "cell_type": "code",
   "execution_count": 63,
   "id": "34db7f5b",
   "metadata": {},
   "outputs": [],
   "source": [
    "# Create a new column 'date' containing only the date part of 'run_start_time'\n",
    "df['date'] = df['run_start_time'].dt.date"
   ]
  },
  {
   "cell_type": "code",
   "execution_count": 64,
   "id": "820ab8d6",
   "metadata": {},
   "outputs": [
    {
     "data": {
      "text/html": [
       "<div>\n",
       "<style scoped>\n",
       "    .dataframe tbody tr th:only-of-type {\n",
       "        vertical-align: middle;\n",
       "    }\n",
       "\n",
       "    .dataframe tbody tr th {\n",
       "        vertical-align: top;\n",
       "    }\n",
       "\n",
       "    .dataframe thead th {\n",
       "        text-align: right;\n",
       "    }\n",
       "</style>\n",
       "<table border=\"1\" class=\"dataframe\">\n",
       "  <thead>\n",
       "    <tr style=\"text-align: right;\">\n",
       "      <th></th>\n",
       "      <th>run_start_time</th>\n",
       "      <th>hourly_sum</th>\n",
       "      <th>date</th>\n",
       "    </tr>\n",
       "  </thead>\n",
       "  <tbody>\n",
       "    <tr>\n",
       "      <th>0</th>\n",
       "      <td>2014-11-01 06:00:00</td>\n",
       "      <td>377.0</td>\n",
       "      <td>2014-11-01</td>\n",
       "    </tr>\n",
       "    <tr>\n",
       "      <th>1</th>\n",
       "      <td>2014-11-01 11:00:00</td>\n",
       "      <td>6512.0</td>\n",
       "      <td>2014-11-01</td>\n",
       "    </tr>\n",
       "    <tr>\n",
       "      <th>2</th>\n",
       "      <td>2014-11-01 12:00:00</td>\n",
       "      <td>11202.0</td>\n",
       "      <td>2014-11-01</td>\n",
       "    </tr>\n",
       "    <tr>\n",
       "      <th>3</th>\n",
       "      <td>2014-11-01 13:00:00</td>\n",
       "      <td>7719.0</td>\n",
       "      <td>2014-11-01</td>\n",
       "    </tr>\n",
       "    <tr>\n",
       "      <th>4</th>\n",
       "      <td>2014-11-01 14:00:00</td>\n",
       "      <td>3458.0</td>\n",
       "      <td>2014-11-01</td>\n",
       "    </tr>\n",
       "    <tr>\n",
       "      <th>...</th>\n",
       "      <td>...</td>\n",
       "      <td>...</td>\n",
       "      <td>...</td>\n",
       "    </tr>\n",
       "    <tr>\n",
       "      <th>7111</th>\n",
       "      <td>2022-11-12 09:00:00</td>\n",
       "      <td>24.0</td>\n",
       "      <td>2022-11-12</td>\n",
       "    </tr>\n",
       "    <tr>\n",
       "      <th>7112</th>\n",
       "      <td>2022-11-12 15:00:00</td>\n",
       "      <td>88.0</td>\n",
       "      <td>2022-11-12</td>\n",
       "    </tr>\n",
       "    <tr>\n",
       "      <th>7113</th>\n",
       "      <td>2022-11-12 16:00:00</td>\n",
       "      <td>100.0</td>\n",
       "      <td>2022-11-12</td>\n",
       "    </tr>\n",
       "    <tr>\n",
       "      <th>7114</th>\n",
       "      <td>2022-11-12 17:00:00</td>\n",
       "      <td>100.0</td>\n",
       "      <td>2022-11-12</td>\n",
       "    </tr>\n",
       "    <tr>\n",
       "      <th>7115</th>\n",
       "      <td>2022-11-12 18:00:00</td>\n",
       "      <td>75.0</td>\n",
       "      <td>2022-11-12</td>\n",
       "    </tr>\n",
       "  </tbody>\n",
       "</table>\n",
       "<p>64071 rows × 3 columns</p>\n",
       "</div>"
      ],
      "text/plain": [
       "          run_start_time  hourly_sum        date\n",
       "0    2014-11-01 06:00:00       377.0  2014-11-01\n",
       "1    2014-11-01 11:00:00      6512.0  2014-11-01\n",
       "2    2014-11-01 12:00:00     11202.0  2014-11-01\n",
       "3    2014-11-01 13:00:00      7719.0  2014-11-01\n",
       "4    2014-11-01 14:00:00      3458.0  2014-11-01\n",
       "...                  ...         ...         ...\n",
       "7111 2022-11-12 09:00:00        24.0  2022-11-12\n",
       "7112 2022-11-12 15:00:00        88.0  2022-11-12\n",
       "7113 2022-11-12 16:00:00       100.0  2022-11-12\n",
       "7114 2022-11-12 17:00:00       100.0  2022-11-12\n",
       "7115 2022-11-12 18:00:00        75.0  2022-11-12\n",
       "\n",
       "[64071 rows x 3 columns]"
      ]
     },
     "execution_count": 64,
     "metadata": {},
     "output_type": "execute_result"
    }
   ],
   "source": [
    "df"
   ]
  },
  {
   "cell_type": "code",
   "execution_count": 65,
   "id": "407941d7",
   "metadata": {},
   "outputs": [
    {
     "name": "stderr",
     "output_type": "stream",
     "text": [
      "C:\\Users\\halee\\AppData\\Local\\Temp\\ipykernel_27864\\1521914013.py:2: FutureWarning: The default value of numeric_only in DataFrameGroupBy.sum is deprecated. In a future version, numeric_only will default to False. Either specify numeric_only or select only columns which should be valid for the function.\n",
      "  df_grouped = df.groupby('date').sum()\n"
     ]
    }
   ],
   "source": [
    "# Group the 'hourly_sum' data by date and sum the values for each date\n",
    "df_grouped = df.groupby('date').sum()"
   ]
  },
  {
   "cell_type": "code",
   "execution_count": 66,
   "id": "87f9de02",
   "metadata": {},
   "outputs": [],
   "source": [
    "df1=df_grouped"
   ]
  },
  {
   "cell_type": "markdown",
   "id": "b6385962",
   "metadata": {},
   "source": [
    "# "
   ]
  },
  {
   "cell_type": "markdown",
   "id": "edf3fed1",
   "metadata": {},
   "source": [
    "df1"
   ]
  },
  {
   "cell_type": "code",
   "execution_count": 69,
   "id": "49de28a7",
   "metadata": {},
   "outputs": [],
   "source": [
    "df1=df1.reset_index()"
   ]
  },
  {
   "cell_type": "code",
   "execution_count": 70,
   "id": "301de6fc",
   "metadata": {},
   "outputs": [
    {
     "data": {
      "text/plain": [
       "[<matplotlib.lines.Line2D at 0x2b7800377d0>]"
      ]
     },
     "execution_count": 70,
     "metadata": {},
     "output_type": "execute_result"
    },
    {
     "data": {
      "image/png": "[encoded data removed]",
      "text/plain": [
       "<Figure size 640x480 with 1 Axes>"
      ]
     },
     "metadata": {},
     "output_type": "display_data"
    }
   ],
   "source": [
    "df1['date'] = pd.to_datetime(df1['date'])\n",
    "plt.plot(df1['date'], df1['hourly_sum'])"
   ]
  },
  {
   "cell_type": "code",
   "execution_count": 75,
   "id": "670e480c",
   "metadata": {},
   "outputs": [
    {
     "data": {
      "text/html": [
       "<div>\n",
       "<style scoped>\n",
       "    .dataframe tbody tr th:only-of-type {\n",
       "        vertical-align: middle;\n",
       "    }\n",
       "\n",
       "    .dataframe tbody tr th {\n",
       "        vertical-align: top;\n",
       "    }\n",
       "\n",
       "    .dataframe thead th {\n",
       "        text-align: right;\n",
       "    }\n",
       "</style>\n",
       "<table border=\"1\" class=\"dataframe\">\n",
       "  <thead>\n",
       "    <tr style=\"text-align: right;\">\n",
       "      <th></th>\n",
       "      <th>hourly_sum</th>\n",
       "      <th>hourly_sum(t-1)</th>\n",
       "      <th>hourly_sum(t-2)</th>\n",
       "      <th>hourly_sum(t-3)</th>\n",
       "      <th>hourly_sum(t-4)</th>\n",
       "      <th>hourly_sum(t-5)</th>\n",
       "      <th>hourly_sum(t-6)</th>\n",
       "      <th>hourly_sum(t-7)</th>\n",
       "    </tr>\n",
       "    <tr>\n",
       "      <th>date</th>\n",
       "      <th></th>\n",
       "      <th></th>\n",
       "      <th></th>\n",
       "      <th></th>\n",
       "      <th></th>\n",
       "      <th></th>\n",
       "      <th></th>\n",
       "      <th></th>\n",
       "    </tr>\n",
       "  </thead>\n",
       "  <tbody>\n",
       "    <tr>\n",
       "      <th>2014-11-08</th>\n",
       "      <td>16203.0</td>\n",
       "      <td>10383.0</td>\n",
       "      <td>14965.0</td>\n",
       "      <td>8799.0</td>\n",
       "      <td>7409.0</td>\n",
       "      <td>5513.0</td>\n",
       "      <td>5471.0</td>\n",
       "      <td>65732.0</td>\n",
       "    </tr>\n",
       "    <tr>\n",
       "      <th>2014-11-09</th>\n",
       "      <td>648.0</td>\n",
       "      <td>16203.0</td>\n",
       "      <td>10383.0</td>\n",
       "      <td>14965.0</td>\n",
       "      <td>8799.0</td>\n",
       "      <td>7409.0</td>\n",
       "      <td>5513.0</td>\n",
       "      <td>5471.0</td>\n",
       "    </tr>\n",
       "    <tr>\n",
       "      <th>2014-11-10</th>\n",
       "      <td>34740.0</td>\n",
       "      <td>648.0</td>\n",
       "      <td>16203.0</td>\n",
       "      <td>10383.0</td>\n",
       "      <td>14965.0</td>\n",
       "      <td>8799.0</td>\n",
       "      <td>7409.0</td>\n",
       "      <td>5513.0</td>\n",
       "    </tr>\n",
       "    <tr>\n",
       "      <th>2014-11-11</th>\n",
       "      <td>4249.0</td>\n",
       "      <td>34740.0</td>\n",
       "      <td>648.0</td>\n",
       "      <td>16203.0</td>\n",
       "      <td>10383.0</td>\n",
       "      <td>14965.0</td>\n",
       "      <td>8799.0</td>\n",
       "      <td>7409.0</td>\n",
       "    </tr>\n",
       "    <tr>\n",
       "      <th>2014-11-12</th>\n",
       "      <td>11275.0</td>\n",
       "      <td>4249.0</td>\n",
       "      <td>34740.0</td>\n",
       "      <td>648.0</td>\n",
       "      <td>16203.0</td>\n",
       "      <td>10383.0</td>\n",
       "      <td>14965.0</td>\n",
       "      <td>8799.0</td>\n",
       "    </tr>\n",
       "    <tr>\n",
       "      <th>...</th>\n",
       "      <td>...</td>\n",
       "      <td>...</td>\n",
       "      <td>...</td>\n",
       "      <td>...</td>\n",
       "      <td>...</td>\n",
       "      <td>...</td>\n",
       "      <td>...</td>\n",
       "      <td>...</td>\n",
       "    </tr>\n",
       "    <tr>\n",
       "      <th>2022-11-08</th>\n",
       "      <td>67171.0</td>\n",
       "      <td>533343.0</td>\n",
       "      <td>29964.0</td>\n",
       "      <td>65150.0</td>\n",
       "      <td>70330.0</td>\n",
       "      <td>46224.0</td>\n",
       "      <td>23091.0</td>\n",
       "      <td>20323.0</td>\n",
       "    </tr>\n",
       "    <tr>\n",
       "      <th>2022-11-09</th>\n",
       "      <td>21563.0</td>\n",
       "      <td>67171.0</td>\n",
       "      <td>533343.0</td>\n",
       "      <td>29964.0</td>\n",
       "      <td>65150.0</td>\n",
       "      <td>70330.0</td>\n",
       "      <td>46224.0</td>\n",
       "      <td>23091.0</td>\n",
       "    </tr>\n",
       "    <tr>\n",
       "      <th>2022-11-10</th>\n",
       "      <td>9669.0</td>\n",
       "      <td>21563.0</td>\n",
       "      <td>67171.0</td>\n",
       "      <td>533343.0</td>\n",
       "      <td>29964.0</td>\n",
       "      <td>65150.0</td>\n",
       "      <td>70330.0</td>\n",
       "      <td>46224.0</td>\n",
       "    </tr>\n",
       "    <tr>\n",
       "      <th>2022-11-11</th>\n",
       "      <td>33551.0</td>\n",
       "      <td>9669.0</td>\n",
       "      <td>21563.0</td>\n",
       "      <td>67171.0</td>\n",
       "      <td>533343.0</td>\n",
       "      <td>29964.0</td>\n",
       "      <td>65150.0</td>\n",
       "      <td>70330.0</td>\n",
       "    </tr>\n",
       "    <tr>\n",
       "      <th>2022-11-12</th>\n",
       "      <td>483.0</td>\n",
       "      <td>33551.0</td>\n",
       "      <td>9669.0</td>\n",
       "      <td>21563.0</td>\n",
       "      <td>67171.0</td>\n",
       "      <td>533343.0</td>\n",
       "      <td>29964.0</td>\n",
       "      <td>65150.0</td>\n",
       "    </tr>\n",
       "  </tbody>\n",
       "</table>\n",
       "<p>2900 rows × 8 columns</p>\n",
       "</div>"
      ],
      "text/plain": [
       "            hourly_sum  hourly_sum(t-1)  hourly_sum(t-2)  hourly_sum(t-3)  \\\n",
       "date                                                                        \n",
       "2014-11-08     16203.0          10383.0          14965.0           8799.0   \n",
       "2014-11-09       648.0          16203.0          10383.0          14965.0   \n",
       "2014-11-10     34740.0            648.0          16203.0          10383.0   \n",
       "2014-11-11      4249.0          34740.0            648.0          16203.0   \n",
       "2014-11-12     11275.0           4249.0          34740.0            648.0   \n",
       "...                ...              ...              ...              ...   \n",
       "2022-11-08     67171.0         533343.0          29964.0          65150.0   \n",
       "2022-11-09     21563.0          67171.0         533343.0          29964.0   \n",
       "2022-11-10      9669.0          21563.0          67171.0         533343.0   \n",
       "2022-11-11     33551.0           9669.0          21563.0          67171.0   \n",
       "2022-11-12       483.0          33551.0           9669.0          21563.0   \n",
       "\n",
       "            hourly_sum(t-4)  hourly_sum(t-5)  hourly_sum(t-6)  hourly_sum(t-7)  \n",
       "date                                                                            \n",
       "2014-11-08           7409.0           5513.0           5471.0          65732.0  \n",
       "2014-11-09           8799.0           7409.0           5513.0           5471.0  \n",
       "2014-11-10          14965.0           8799.0           7409.0           5513.0  \n",
       "2014-11-11          10383.0          14965.0           8799.0           7409.0  \n",
       "2014-11-12          16203.0          10383.0          14965.0           8799.0  \n",
       "...                     ...              ...              ...              ...  \n",
       "2022-11-08          70330.0          46224.0          23091.0          20323.0  \n",
       "2022-11-09          65150.0          70330.0          46224.0          23091.0  \n",
       "2022-11-10          29964.0          65150.0          70330.0          46224.0  \n",
       "2022-11-11         533343.0          29964.0          65150.0          70330.0  \n",
       "2022-11-12          67171.0         533343.0          29964.0          65150.0  \n",
       "\n",
       "[2900 rows x 8 columns]"
      ]
     },
     "execution_count": 75,
     "metadata": {},
     "output_type": "execute_result"
    }
   ],
   "source": [
    "from copy import deepcopy as dc\n",
    "\n",
    "def prepare_dataframe_for_lstm(df, n_steps):\n",
    "    df = dc(df)\n",
    "    \n",
    "    df.set_index('date', inplace=True)\n",
    "    \n",
    "    for i in range(1, n_steps+1):\n",
    "        df[f'hourly_sum(t-{i})'] = df['hourly_sum'].shift(i)\n",
    "        \n",
    "    df.dropna(inplace=True)\n",
    "    \n",
    "    return df\n",
    "\n",
    "lookback = 7\n",
    "shifted_df = prepare_dataframe_for_lstm(df1, lookback)\n",
    "shifted_df"
   ]
  },
  {
   "cell_type": "code",
   "execution_count": 73,
   "id": "aa4dd941",
   "metadata": {},
   "outputs": [
    {
     "data": {
      "text/html": [
       "<div>\n",
       "<style scoped>\n",
       "    .dataframe tbody tr th:only-of-type {\n",
       "        vertical-align: middle;\n",
       "    }\n",
       "\n",
       "    .dataframe tbody tr th {\n",
       "        vertical-align: top;\n",
       "    }\n",
       "\n",
       "    .dataframe thead th {\n",
       "        text-align: right;\n",
       "    }\n",
       "</style>\n",
       "<table border=\"1\" class=\"dataframe\">\n",
       "  <thead>\n",
       "    <tr style=\"text-align: right;\">\n",
       "      <th></th>\n",
       "      <th>date</th>\n",
       "      <th>hourly_sum</th>\n",
       "    </tr>\n",
       "  </thead>\n",
       "  <tbody>\n",
       "    <tr>\n",
       "      <th>0</th>\n",
       "      <td>2014-11-01</td>\n",
       "      <td>65732.0</td>\n",
       "    </tr>\n",
       "    <tr>\n",
       "      <th>1</th>\n",
       "      <td>2014-11-02</td>\n",
       "      <td>5471.0</td>\n",
       "    </tr>\n",
       "    <tr>\n",
       "      <th>2</th>\n",
       "      <td>2014-11-03</td>\n",
       "      <td>5513.0</td>\n",
       "    </tr>\n",
       "    <tr>\n",
       "      <th>3</th>\n",
       "      <td>2014-11-04</td>\n",
       "      <td>7409.0</td>\n",
       "    </tr>\n",
       "    <tr>\n",
       "      <th>4</th>\n",
       "      <td>2014-11-05</td>\n",
       "      <td>8799.0</td>\n",
       "    </tr>\n",
       "    <tr>\n",
       "      <th>...</th>\n",
       "      <td>...</td>\n",
       "      <td>...</td>\n",
       "    </tr>\n",
       "    <tr>\n",
       "      <th>2902</th>\n",
       "      <td>2022-11-08</td>\n",
       "      <td>67171.0</td>\n",
       "    </tr>\n",
       "    <tr>\n",
       "      <th>2903</th>\n",
       "      <td>2022-11-09</td>\n",
       "      <td>21563.0</td>\n",
       "    </tr>\n",
       "    <tr>\n",
       "      <th>2904</th>\n",
       "      <td>2022-11-10</td>\n",
       "      <td>9669.0</td>\n",
       "    </tr>\n",
       "    <tr>\n",
       "      <th>2905</th>\n",
       "      <td>2022-11-11</td>\n",
       "      <td>33551.0</td>\n",
       "    </tr>\n",
       "    <tr>\n",
       "      <th>2906</th>\n",
       "      <td>2022-11-12</td>\n",
       "      <td>483.0</td>\n",
       "    </tr>\n",
       "  </tbody>\n",
       "</table>\n",
       "<p>2907 rows × 2 columns</p>\n",
       "</div>"
      ],
      "text/plain": [
       "           date  hourly_sum\n",
       "0    2014-11-01     65732.0\n",
       "1    2014-11-02      5471.0\n",
       "2    2014-11-03      5513.0\n",
       "3    2014-11-04      7409.0\n",
       "4    2014-11-05      8799.0\n",
       "...         ...         ...\n",
       "2902 2022-11-08     67171.0\n",
       "2903 2022-11-09     21563.0\n",
       "2904 2022-11-10      9669.0\n",
       "2905 2022-11-11     33551.0\n",
       "2906 2022-11-12       483.0\n",
       "\n",
       "[2907 rows x 2 columns]"
      ]
     },
     "execution_count": 73,
     "metadata": {},
     "output_type": "execute_result"
    }
   ],
   "source": [
    "df1"
   ]
  },
  {
   "cell_type": "code",
   "execution_count": 76,
   "id": "6d74b39c",
   "metadata": {},
   "outputs": [
    {
     "data": {
      "text/plain": [
       "array([[1.62030e+04, 1.03830e+04, 1.49650e+04, ..., 5.51300e+03,\n",
       "        5.47100e+03, 6.57320e+04],\n",
       "       [6.48000e+02, 1.62030e+04, 1.03830e+04, ..., 7.40900e+03,\n",
       "        5.51300e+03, 5.47100e+03],\n",
       "       [3.47400e+04, 6.48000e+02, 1.62030e+04, ..., 8.79900e+03,\n",
       "        7.40900e+03, 5.51300e+03],\n",
       "       ...,\n",
       "       [9.66900e+03, 2.15630e+04, 6.71710e+04, ..., 6.51500e+04,\n",
       "        7.03300e+04, 4.62240e+04],\n",
       "       [3.35510e+04, 9.66900e+03, 2.15630e+04, ..., 2.99640e+04,\n",
       "        6.51500e+04, 7.03300e+04],\n",
       "       [4.83000e+02, 3.35510e+04, 9.66900e+03, ..., 5.33343e+05,\n",
       "        2.99640e+04, 6.51500e+04]])"
      ]
     },
     "execution_count": 76,
     "metadata": {},
     "output_type": "execute_result"
    }
   ],
   "source": [
    "shifted_df_as_np = shifted_df.to_numpy()\n",
    "\n",
    "shifted_df_as_np"
   ]
  },
  {
   "cell_type": "code",
   "execution_count": 77,
   "id": "b9687f1a",
   "metadata": {},
   "outputs": [
    {
     "data": {
      "text/plain": [
       "(2900, 8)"
      ]
     },
     "execution_count": 77,
     "metadata": {},
     "output_type": "execute_result"
    }
   ],
   "source": [
    "shifted_df_as_np.shape"
   ]
  },
  {
   "cell_type": "code",
   "execution_count": 78,
   "id": "9993887a",
   "metadata": {},
   "outputs": [
    {
     "data": {
      "text/plain": [
       "array([[-0.99355003, -0.99586681, -0.99404284, ..., -0.99780543,\n",
       "        -0.99782215, -0.9738339 ],\n",
       "       [-0.99974205, -0.99355003, -0.99586681, ..., -0.99705068,\n",
       "        -0.99780543, -0.99782215],\n",
       "       [-0.98617096, -0.99974205, -0.99355003, ..., -0.99649736,\n",
       "        -0.99705068, -0.99780543],\n",
       "       ...,\n",
       "       [-0.99615104, -0.99141636, -0.97326107, ..., -0.97406557,\n",
       "        -0.97200356, -0.9815995 ],\n",
       "       [-0.98664427, -0.99615104, -0.99141636, ..., -0.98807215,\n",
       "        -0.97406557, -0.97200356],\n",
       "       [-0.99980773, -0.98664427, -0.99615104, ..., -0.7876908 ,\n",
       "        -0.98807215, -0.97406557]])"
      ]
     },
     "execution_count": 78,
     "metadata": {},
     "output_type": "execute_result"
    }
   ],
   "source": [
    "from sklearn.preprocessing import MinMaxScaler\n",
    "\n",
    "scaler = MinMaxScaler(feature_range=(-1, 1))\n",
    "shifted_df_as_np = scaler.fit_transform(shifted_df_as_np)\n",
    "\n",
    "shifted_df_as_np"
   ]
  },
  {
   "cell_type": "code",
   "execution_count": 79,
   "id": "676903d8",
   "metadata": {},
   "outputs": [
    {
     "data": {
      "text/plain": [
       "((2900, 7), (2900,))"
      ]
     },
     "execution_count": 79,
     "metadata": {},
     "output_type": "execute_result"
    }
   ],
   "source": [
    "X = shifted_df_as_np[:, 1:]\n",
    "y = shifted_df_as_np[:, 0]\n",
    "\n",
    "X.shape, y.shape"
   ]
  },
  {
   "cell_type": "code",
   "execution_count": 80,
   "id": "f108c8fd",
   "metadata": {},
   "outputs": [
    {
     "data": {
      "text/plain": [
       "array([[-0.9738339 , -0.99782215, -0.99780543, ..., -0.99649736,\n",
       "        -0.99404284, -0.99586681],\n",
       "       [-0.99782215, -0.99780543, -0.99705068, ..., -0.99404284,\n",
       "        -0.99586681, -0.99355003],\n",
       "       [-0.99780543, -0.99705068, -0.99649736, ..., -0.99586681,\n",
       "        -0.99355003, -0.99974205],\n",
       "       ...,\n",
       "       [-0.9815995 , -0.97200356, -0.97406557, ..., -0.7876908 ,\n",
       "        -0.97326107, -0.99141636],\n",
       "       [-0.97200356, -0.97406557, -0.98807215, ..., -0.97326107,\n",
       "        -0.99141636, -0.99615104],\n",
       "       [-0.97406557, -0.98807215, -0.7876908 , ..., -0.99141636,\n",
       "        -0.99615104, -0.98664427]])"
      ]
     },
     "execution_count": 80,
     "metadata": {},
     "output_type": "execute_result"
    }
   ],
   "source": [
    "X = dc(np.flip(X, axis=1))\n",
    "X"
   ]
  },
  {
   "cell_type": "code",
   "execution_count": 81,
   "id": "de28342f",
   "metadata": {},
   "outputs": [
    {
     "data": {
      "text/plain": [
       "2755"
      ]
     },
     "execution_count": 81,
     "metadata": {},
     "output_type": "execute_result"
    }
   ],
   "source": [
    "split_index = int(len(X) * 0.95)\n",
    "\n",
    "split_index"
   ]
  },
  {
   "cell_type": "code",
   "execution_count": 82,
   "id": "d4d817ff",
   "metadata": {},
   "outputs": [
    {
     "data": {
      "text/plain": [
       "((2755, 7), (145, 7), (2755,), (145,))"
      ]
     },
     "execution_count": 82,
     "metadata": {},
     "output_type": "execute_result"
    }
   ],
   "source": [
    "X_train = X[:split_index]\n",
    "X_test = X[split_index:]\n",
    "\n",
    "y_train = y[:split_index]\n",
    "y_test = y[split_index:]\n",
    "\n",
    "X_train.shape, X_test.shape, y_train.shape, y_test.shape"
   ]
  },
  {
   "cell_type": "code",
   "execution_count": 83,
   "id": "f1c24e4a",
   "metadata": {},
   "outputs": [
    {
     "data": {
      "text/plain": [
       "((2755, 7, 1), (145, 7, 1), (2755, 1), (145, 1))"
      ]
     },
     "execution_count": 83,
     "metadata": {},
     "output_type": "execute_result"
    }
   ],
   "source": [
    "X_train = X_train.reshape((-1, lookback, 1))\n",
    "X_test = X_test.reshape((-1, lookback, 1))\n",
    "\n",
    "y_train = y_train.reshape((-1, 1))\n",
    "y_test = y_test.reshape((-1, 1))\n",
    "\n",
    "X_train.shape, X_test.shape, y_train.shape, y_test.shape"
   ]
  },
  {
   "cell_type": "code",
   "execution_count": 84,
   "id": "d8cdf7eb",
   "metadata": {},
   "outputs": [
    {
     "data": {
      "text/plain": [
       "(torch.Size([2755, 7, 1]),\n",
       " torch.Size([145, 7, 1]),\n",
       " torch.Size([2755, 1]),\n",
       " torch.Size([145, 1]))"
      ]
     },
     "execution_count": 84,
     "metadata": {},
     "output_type": "execute_result"
    }
   ],
   "source": [
    "X_train = torch.tensor(X_train).float()\n",
    "y_train = torch.tensor(y_train).float()\n",
    "X_test = torch.tensor(X_test).float()\n",
    "y_test = torch.tensor(y_test).float()\n",
    "\n",
    "X_train.shape, X_test.shape, y_train.shape, y_test.shape"
   ]
  },
  {
   "cell_type": "code",
   "execution_count": 85,
   "id": "4c448823",
   "metadata": {},
   "outputs": [],
   "source": [
    "from torch.utils.data import Dataset\n",
    "\n",
    "class TimeSeriesDataset(Dataset):\n",
    "    def __init__(self, X, y):\n",
    "        self.X = X\n",
    "        self.y = y\n",
    "\n",
    "    def __len__(self):\n",
    "        return len(self.X)\n",
    "\n",
    "    def __getitem__(self, i):\n",
    "        return self.X[i], self.y[i]\n",
    "    \n",
    "train_dataset = TimeSeriesDataset(X_train, y_train)\n",
    "test_dataset = TimeSeriesDataset(X_test, y_test)"
   ]
  },
  {
   "cell_type": "code",
   "execution_count": 86,
   "id": "915def30",
   "metadata": {},
   "outputs": [
    {
     "data": {
      "text/plain": [
       "<__main__.TimeSeriesDataset at 0x2b786a1d8d0>"
      ]
     },
     "execution_count": 86,
     "metadata": {},
     "output_type": "execute_result"
    }
   ],
   "source": [
    "train_dataset"
   ]
  },
  {
   "cell_type": "code",
   "execution_count": 87,
   "id": "1b8feef8",
   "metadata": {},
   "outputs": [],
   "source": [
    "from torch.utils.data import DataLoader\n",
    "\n",
    "batch_size = 16\n",
    "\n",
    "train_loader = DataLoader(train_dataset, batch_size=batch_size, shuffle=True)\n",
    "test_loader = DataLoader(test_dataset, batch_size=batch_size, shuffle=False)"
   ]
  },
  {
   "cell_type": "code",
   "execution_count": 88,
   "id": "aa7db893",
   "metadata": {},
   "outputs": [
    {
     "ename": "NameError",
     "evalue": "name 'device' is not defined",
     "output_type": "error",
     "traceback": [
      "\u001b[1;31m---------------------------------------------------------------------------\u001b[0m",
      "\u001b[1;31mNameError\u001b[0m                                 Traceback (most recent call last)",
      "Cell \u001b[1;32mIn[88], line 2\u001b[0m\n\u001b[0;32m      1\u001b[0m \u001b[38;5;28;01mfor\u001b[39;00m _, batch \u001b[38;5;129;01min\u001b[39;00m \u001b[38;5;28menumerate\u001b[39m(train_loader):\n\u001b[1;32m----> 2\u001b[0m     x_batch, y_batch \u001b[38;5;241m=\u001b[39m batch[\u001b[38;5;241m0\u001b[39m]\u001b[38;5;241m.\u001b[39mto(device), batch[\u001b[38;5;241m1\u001b[39m]\u001b[38;5;241m.\u001b[39mto(device)\n\u001b[0;32m      3\u001b[0m     \u001b[38;5;28mprint\u001b[39m(x_batch\u001b[38;5;241m.\u001b[39mshape, y_batch\u001b[38;5;241m.\u001b[39mshape)\n\u001b[0;32m      4\u001b[0m     \u001b[38;5;28;01mbreak\u001b[39;00m\n",
      "\u001b[1;31mNameError\u001b[0m: name 'device' is not defined"
     ]
    }
   ],
   "source": [
    "for _, batch in enumerate(train_loader):\n",
    "    x_batch, y_batch = batch[0].to(device), batch[1].to(device)\n",
    "    print(x_batch.shape, y_batch.shape)\n",
    "    break"
   ]
  },
  {
   "cell_type": "code",
   "execution_count": 89,
   "id": "9df93c53",
   "metadata": {},
   "outputs": [
    {
     "name": "stdout",
     "output_type": "stream",
     "text": [
      "torch.Size([16, 7, 1]) torch.Size([16, 1])\n"
     ]
    }
   ],
   "source": [
    "import torch\n",
    "\n",
    "# Check if a GPU is available, and if so, use it; otherwise, use the CPU\n",
    "device = torch.device('cuda' if torch.cuda.is_available() else 'cpu')\n",
    "\n",
    "# Assuming your train_loader is already defined, you can now use the device as follows:\n",
    "for _, batch in enumerate(train_loader):\n",
    "    x_batch, y_batch = batch[0].to(device), batch[1].to(device)\n",
    "    print(x_batch.shape, y_batch.shape)\n",
    "    break"
   ]
  },
  {
   "cell_type": "code",
   "execution_count": 90,
   "id": "c85d644a",
   "metadata": {},
   "outputs": [
    {
     "data": {
      "text/plain": [
       "LSTM(\n",
       "  (lstm): LSTM(1, 4, batch_first=True)\n",
       "  (fc): Linear(in_features=4, out_features=1, bias=True)\n",
       ")"
      ]
     },
     "execution_count": 90,
     "metadata": {},
     "output_type": "execute_result"
    }
   ],
   "source": [
    "class LSTM(nn.Module):\n",
    "    def __init__(self, input_size, hidden_size, num_stacked_layers):\n",
    "        super().__init__()\n",
    "        self.hidden_size = hidden_size\n",
    "        self.num_stacked_layers = num_stacked_layers\n",
    "\n",
    "        self.lstm = nn.LSTM(input_size, hidden_size, num_stacked_layers, \n",
    "                            batch_first=True)\n",
    "        \n",
    "        self.fc = nn.Linear(hidden_size, 1)\n",
    "\n",
    "    def forward(self, x):\n",
    "        batch_size = x.size(0)\n",
    "        h0 = torch.zeros(self.num_stacked_layers, batch_size, self.hidden_size).to(device)\n",
    "        c0 = torch.zeros(self.num_stacked_layers, batch_size, self.hidden_size).to(device)\n",
    "        \n",
    "        out, _ = self.lstm(x, (h0, c0))\n",
    "        out = self.fc(out[:, -1, :])\n",
    "        return out\n",
    "\n",
    "model = LSTM(1, 4, 1)\n",
    "model.to(device)\n",
    "model"
   ]
  },
  {
   "cell_type": "code",
   "execution_count": 91,
   "id": "c247141f",
   "metadata": {},
   "outputs": [],
   "source": [
    "def train_one_epoch():\n",
    "    model.train(True)\n",
    "    print(f'Epoch: {epoch + 1}')\n",
    "    running_loss = 0.0\n",
    "    \n",
    "    for batch_index, batch in enumerate(train_loader):\n",
    "        x_batch, y_batch = batch[0].to(device), batch[1].to(device)\n",
    "        \n",
    "        output = model(x_batch)\n",
    "        loss = loss_function(output, y_batch)\n",
    "        running_loss += loss.item()\n",
    "        \n",
    "        optimizer.zero_grad()\n",
    "        loss.backward()\n",
    "        optimizer.step()\n",
    "\n",
    "        if batch_index % 100 == 99:  # print every 100 batches\n",
    "            avg_loss_across_batches = running_loss / 100\n",
    "            print('Batch {0}, Loss: {1:.3f}'.format(batch_index+1,\n",
    "                                                    avg_loss_across_batches))\n",
    "            running_loss = 0.0\n",
    "    print()"
   ]
  },
  {
   "cell_type": "code",
   "execution_count": 92,
   "id": "b03afd50",
   "metadata": {},
   "outputs": [],
   "source": [
    "def validate_one_epoch():\n",
    "    model.train(False)\n",
    "    running_loss = 0.0\n",
    "    \n",
    "    for batch_index, batch in enumerate(test_loader):\n",
    "        x_batch, y_batch = batch[0].to(device), batch[1].to(device)\n",
    "        \n",
    "        with torch.no_grad():\n",
    "            output = model(x_batch)\n",
    "            loss = loss_function(output, y_batch)\n",
    "            running_loss += loss.item()\n",
    "\n",
    "    avg_loss_across_batches = running_loss / len(test_loader)\n",
    "    \n",
    "    print('Val Loss: {0:.3f}'.format(avg_loss_across_batches))\n",
    "    print('***************************************************')\n",
    "    print()"
   ]
  },
  {
   "cell_type": "code",
   "execution_count": 93,
   "id": "05f8f9a3",
   "metadata": {},
   "outputs": [
    {
     "name": "stdout",
     "output_type": "stream",
     "text": [
      "Epoch: 1\n",
      "Batch 100, Loss: 1.312\n",
      "\n",
      "Val Loss: 0.161\n",
      "***************************************************\n",
      "\n",
      "Epoch: 2\n",
      "Batch 100, Loss: 0.063\n",
      "\n",
      "Val Loss: 0.001\n",
      "***************************************************\n",
      "\n",
      "Epoch: 3\n",
      "Batch 100, Loss: 0.006\n",
      "\n",
      "Val Loss: 0.001\n",
      "***************************************************\n",
      "\n",
      "Epoch: 4\n",
      "Batch 100, Loss: 0.003\n",
      "\n",
      "Val Loss: 0.001\n",
      "***************************************************\n",
      "\n",
      "Epoch: 5\n",
      "Batch 100, Loss: 0.006\n",
      "\n",
      "Val Loss: 0.001\n",
      "***************************************************\n",
      "\n",
      "Epoch: 6\n",
      "Batch 100, Loss: 0.001\n",
      "\n",
      "Val Loss: 0.001\n",
      "***************************************************\n",
      "\n",
      "Epoch: 7\n",
      "Batch 100, Loss: 0.003\n",
      "\n",
      "Val Loss: 0.001\n",
      "***************************************************\n",
      "\n",
      "Epoch: 8\n",
      "Batch 100, Loss: 0.006\n",
      "\n",
      "Val Loss: 0.001\n",
      "***************************************************\n",
      "\n",
      "Epoch: 9\n",
      "Batch 100, Loss: 0.004\n",
      "\n",
      "Val Loss: 0.001\n",
      "***************************************************\n",
      "\n",
      "Epoch: 10\n",
      "Batch 100, Loss: 0.004\n",
      "\n",
      "Val Loss: 0.001\n",
      "***************************************************\n",
      "\n"
     ]
    }
   ],
   "source": [
    "learning_rate = 0.001\n",
    "num_epochs = 10\n",
    "loss_function = nn.MSELoss()\n",
    "optimizer = torch.optim.Adam(model.parameters(), lr=learning_rate)\n",
    "\n",
    "for epoch in range(num_epochs):\n",
    "    train_one_epoch()\n",
    "    validate_one_epoch()"
   ]
  },
  {
   "cell_type": "code",
   "execution_count": 94,
   "id": "a9ccab5e",
   "metadata": {},
   "outputs": [
    {
     "data": {
      "image/png": "[encoded data removed]",
      "text/plain": [
       "<Figure size 640x480 with 1 Axes>"
      ]
     },
     "metadata": {},
     "output_type": "display_data"
    }
   ],
   "source": [
    "with torch.no_grad():\n",
    "    predicted = model(X_train.to(device)).to('cpu').numpy()\n",
    "\n",
    "plt.plot(y_train, label='Actual Close')\n",
    "plt.plot(predicted, label='Predicted Close')\n",
    "plt.xlabel('Day')\n",
    "plt.ylabel('Close')\n",
    "plt.legend()\n",
    "plt.show()"
   ]
  },
  {
   "cell_type": "code",
   "execution_count": 95,
   "id": "630ff37a",
   "metadata": {},
   "outputs": [
    {
     "data": {
      "text/plain": [
       "array([50538.97287458, 50359.29312319, 50759.9789688 , ...,\n",
       "       48039.02860016, 50228.72583717, 50511.72144562])"
      ]
     },
     "execution_count": 95,
     "metadata": {},
     "output_type": "execute_result"
    }
   ],
   "source": [
    "train_predictions = predicted.flatten()\n",
    "\n",
    "dummies = np.zeros((X_train.shape[0], lookback+1))\n",
    "dummies[:, 0] = train_predictions\n",
    "dummies = scaler.inverse_transform(dummies)\n",
    "\n",
    "train_predictions = dc(dummies[:, 0])\n",
    "train_predictions"
   ]
  },
  {
   "cell_type": "code",
   "execution_count": 96,
   "id": "31736534",
   "metadata": {},
   "outputs": [
    {
     "data": {
      "text/plain": [
       "array([16203.07078153,   648.04497004, 34740.03180057, ...,\n",
       "       31411.01520658, 16442.04485089,  7863.98378611])"
      ]
     },
     "execution_count": 96,
     "metadata": {},
     "output_type": "execute_result"
    }
   ],
   "source": [
    "dummies = np.zeros((X_train.shape[0], lookback+1))\n",
    "dummies[:, 0] = y_train.flatten()\n",
    "dummies = scaler.inverse_transform(dummies)\n",
    "\n",
    "new_y_train = dc(dummies[:, 0])\n",
    "new_y_train"
   ]
  },
  {
   "cell_type": "code",
   "execution_count": 97,
   "id": "1a5c7371",
   "metadata": {},
   "outputs": [
    {
     "data": {
      "image/png": "[encoded data removed]",
      "text/plain": [
       "<Figure size 640x480 with 1 Axes>"
      ]
     },
     "metadata": {},
     "output_type": "display_data"
    }
   ],
   "source": [
    "plt.plot(new_y_train, label='Actual Close')\n",
    "plt.plot(train_predictions, label='Predicted Close')\n",
    "plt.xlabel('Day')\n",
    "plt.ylabel('Close')\n",
    "plt.legend()\n",
    "plt.show()"
   ]
  },
  {
   "cell_type": "code",
   "execution_count": 98,
   "id": "0e5d667d",
   "metadata": {},
   "outputs": [
    {
     "data": {
      "text/plain": [
       "array([50660.25670677, 49222.51922935, 49063.20318311, 48034.83607262,\n",
       "       49285.70660859, 50229.92370218, 50770.16082138, 50086.77883357,\n",
       "       49064.99998063, 50450.33086389, 48906.2828669 , 50576.40615612,\n",
       "       50578.50241989, 50720.44942349, 50682.7166757 , 50102.65054494,\n",
       "       49736.40331835, 49240.48720449, 50627.01595277, 50244.8970148 ,\n",
       "       50689.90386575, 50509.62518185, 49708.85242313, 49481.25807136,\n",
       "       49785.51578373, 49056.61492556, 49471.07621878, 50549.15472716,\n",
       "       48671.50132507, 48675.99331886, 50197.28188068, 50673.13375562,\n",
       "       48506.19595379, 50251.48527235, 50856.1076358 , 49260.85090965,\n",
       "       49013.79125148, 49632.78799504, 49873.55886191, 48829.02057379,\n",
       "       50647.37965792, 50078.3937785 , 50356.59792691, 50461.71058148,\n",
       "       49888.83164078, 50275.14310628, 50293.71001393, 49619.01254743,\n",
       "       50823.46581429, 48372.63400525, 49762.75634855, 49811.26988143,\n",
       "       50385.04722089, 50645.58286041, 49520.78761667, 49889.73003954,\n",
       "       49815.46240896, 50585.9890762 , 49974.7784552 , 47828.50382477,\n",
       "       50128.10517639, 50325.15397042, 49755.56915849, 49997.53789037,\n",
       "       49527.67534047, 47398.76975268, 49867.27007061, 49817.25920647,\n",
       "       48057.5955078 , 51007.03862697, 50791.12345904, 49577.08727211,\n",
       "       49129.08575863, 48875.13837665, 49087.45994955, 49707.95402437,\n",
       "       43450.30721575, 50429.96715873, 47965.06043583, 48830.81737131,\n",
       "       50643.18713039, 49233.59948069, 50689.30493325, 50550.65205842,\n",
       "       50818.67435426, 50518.60916942, 50185.60269684, 49510.00683159,\n",
       "       50361.0899207 , 50592.2778675 , 50365.28244823, 49748.98090094,\n",
       "       50119.12118882, 49510.00683159, 50457.8175202 , 50114.92866129,\n",
       "       50046.94982201, 50804.29997414, 50477.2828266 , 50467.99937278,\n",
       "       49938.24357241, 48798.47501606, 50262.26605743, 49353.68544787,\n",
       "       50775.25174767, 49754.97022599, 44982.0770964 , 51093.88384014,\n",
       "       50272.44791001, 50103.5489437 , 50429.96715873, 49666.92714781,\n",
       "       49791.50510877, 50641.68979913, 49969.98699516, 48993.72701257,\n",
       "       50266.45858496, 50678.52414817, 50595.57199627, 49971.78379267,\n",
       "       50475.78549534, 50498.54493052, 49726.82039827, 49199.46032792,\n",
       "       50371.57123953, 46745.3343901 , 50337.13262051, 50300.89720398,\n",
       "       50003.52721542, 49864.57487434, 47048.99316996, 50694.09639329,\n",
       "       50161.64539665, 50581.79654866, 50358.09525818, 50303.59240025,\n",
       "       49734.30705458, 49104.52952594, 49297.98472494, 50188.59735936,\n",
       "       37997.62569338, 50247.29274482, 50892.64251858, 50918.09715003,\n",
       "       50224.53330964])"
      ]
     },
     "execution_count": 98,
     "metadata": {},
     "output_type": "execute_result"
    }
   ],
   "source": [
    "test_predictions = model(X_test.to(device)).detach().cpu().numpy().flatten()\n",
    "\n",
    "dummies = np.zeros((X_test.shape[0], lookback+1))\n",
    "dummies[:, 0] = test_predictions\n",
    "dummies = scaler.inverse_transform(dummies)\n",
    "\n",
    "test_predictions = dc(dummies[:, 0])\n",
    "test_predictions"
   ]
  },
  {
   "cell_type": "code",
   "execution_count": 99,
   "id": "4542c604",
   "metadata": {},
   "outputs": [
    {
     "data": {
      "text/plain": [
       "array([6.45159613e+04, 7.52810244e+04, 1.18967012e+05, 7.08600041e+04,\n",
       "       3.11560197e+04, 6.71493178e+03, 3.21420123e+04, 7.40470737e+04,\n",
       "       2.16539555e+04, 7.93209739e+04, 1.46829801e+04, 1.12919740e+04,\n",
       "       4.83293611e+03, 5.45702378e+03, 2.75239433e+04, 4.37719340e+04,\n",
       "       6.40809865e+04, 1.07430523e+04, 2.30900459e+04, 5.45298099e+03,\n",
       "       1.19130670e+04, 4.40760419e+04, 5.51980688e+04, 4.38150571e+04,\n",
       "       7.30859367e+04, 5.85750000e+04, 1.59030056e+04, 8.87749737e+04,\n",
       "       9.29119502e+04, 3.38570556e+04, 1.15240603e+04, 9.48689622e+04,\n",
       "       2.98400152e+04, 3.99502954e+03, 6.39119378e+04, 7.58780103e+04,\n",
       "       5.35909832e+04, 4.38420091e+04, 8.34660360e+04, 1.35279387e+04,\n",
       "       3.33530539e+04, 2.18289935e+04, 1.61710279e+04, 3.82389955e+04,\n",
       "       2.39249578e+04, 2.14440297e+04, 4.83010616e+04, 1.78407020e+03,\n",
       "       9.75550248e+04, 4.79159480e+04, 4.45760009e+04, 2.10789803e+04,\n",
       "       9.01198766e+03, 5.24389365e+04, 4.12020643e+04, 4.31050226e+04,\n",
       "       1.21180516e+04, 3.39769918e+04, 1.21442999e+05, 3.64369573e+04,\n",
       "       2.47040193e+04, 4.50479597e+04, 3.60079719e+04, 5.55710540e+04,\n",
       "       1.43276933e+05, 4.90049570e+04, 4.70160519e+04, 1.16613955e+05,\n",
       "       3.16505882e+03, 6.34299469e+03, 5.27920072e+04, 7.13210324e+04,\n",
       "       8.42400065e+04, 7.74919837e+04, 5.09080650e+04, 3.05596027e+05,\n",
       "       4.17890182e+04, 1.29320009e+05, 9.61219290e+04, 2.21600535e+04,\n",
       "       7.41999512e+04, 1.88199566e+04, 1.53459984e+04, 3.79498608e+03,\n",
       "       1.25429942e+04, 2.47050674e+04, 5.28550449e+04, 2.00119820e+04,\n",
       "       9.25395640e+03, 1.69860253e+04, 4.20970192e+04, 2.95600143e+04,\n",
       "       5.38179786e+04, 1.68810624e+04, 2.86590701e+04, 3.18729419e+04,\n",
       "       2.27893818e+03, 1.31510605e+04, 1.34599599e+04, 3.40129277e+04,\n",
       "       8.14149916e+04, 2.65759828e+04, 6.02879470e+04, 5.37002884e+03,\n",
       "       4.32559536e+04, 2.39369065e+05, 7.99005908e+03, 2.89660230e+04,\n",
       "       3.30820369e+04, 1.94160442e+04, 5.07990593e+04, 4.81890612e+04,\n",
       "       9.74897411e+03, 3.44739560e+04, 7.44690216e+04, 2.68440051e+04,\n",
       "       8.61294888e+03, 9.27506877e+03, 3.30850316e+04, 1.50649493e+04,\n",
       "       1.33650291e+04, 4.25749674e+04, 6.55209700e+04, 2.13540401e+04,\n",
       "       1.65725972e+05, 3.06840609e+04, 2.66700152e+04, 3.66220275e+04,\n",
       "       4.22419609e+04, 1.56595994e+05, 1.93709745e+04, 3.11060088e+04,\n",
       "       1.27270163e+04, 2.03229777e+04, 2.30909443e+04, 4.62239636e+04,\n",
       "       7.03299488e+04, 6.51499313e+04, 2.99639943e+04, 5.33342957e+05,\n",
       "       6.71710291e+04, 2.15630675e+04, 9.66901662e+03, 3.35510010e+04,\n",
       "       4.83039065e+02])"
      ]
     },
     "execution_count": 99,
     "metadata": {},
     "output_type": "execute_result"
    }
   ],
   "source": [
    "dummies = np.zeros((X_test.shape[0], lookback+1))\n",
    "dummies[:, 0] = y_test.flatten()\n",
    "dummies = scaler.inverse_transform(dummies)\n",
    "\n",
    "new_y_test = dc(dummies[:, 0])\n",
    "new_y_test"
   ]
  },
  {
   "cell_type": "code",
   "execution_count": 100,
   "id": "251230d0",
   "metadata": {},
   "outputs": [
    {
     "data": {
      "image/png": "[encoded data removed]",
      "text/plain": [
       "<Figure size 640x480 with 1 Axes>"
      ]
     },
     "metadata": {},
     "output_type": "display_data"
    }
   ],
   "source": [
    "plt.plot(new_y_test, label='Actual Close')\n",
    "plt.plot(test_predictions, label='Predicted Close')\n",
    "plt.xlabel('Day')\n",
    "plt.ylabel('Close')\n",
    "plt.legend()\n",
    "plt.show()"
   ]
  },
  {
   "cell_type": "code",
   "execution_count": 101,
   "id": "643620e5",
   "metadata": {},
   "outputs": [],
   "source": [
    "from darts.datasets import AirPassengersDataset, MonthlyMilkDataset\n",
    "from darts.dataprocessing.transformers import Scaler\n",
    "from darts import TimeSeries\n",
    "from darts.utils.timeseries_generation import gaussian_timeseries, linear_timeseries, sine_timeseries\n",
    "from darts.models import RNNModel, TCNModel, TransformerModel, NBEATSModel, BlockRNNModel\n",
    "from darts.metrics import mape, smape"
   ]
  },
  {
   "cell_type": "code",
   "execution_count": 102,
   "id": "1b4bad3b",
   "metadata": {},
   "outputs": [],
   "source": [
    "#darts"
   ]
  },
  {
   "cell_type": "code",
   "execution_count": 103,
   "id": "97de0203",
   "metadata": {},
   "outputs": [
    {
     "data": {
      "text/html": [
       "<div>\n",
       "<style scoped>\n",
       "    .dataframe tbody tr th:only-of-type {\n",
       "        vertical-align: middle;\n",
       "    }\n",
       "\n",
       "    .dataframe tbody tr th {\n",
       "        vertical-align: top;\n",
       "    }\n",
       "\n",
       "    .dataframe thead th {\n",
       "        text-align: right;\n",
       "    }\n",
       "</style>\n",
       "<table border=\"1\" class=\"dataframe\">\n",
       "  <thead>\n",
       "    <tr style=\"text-align: right;\">\n",
       "      <th></th>\n",
       "      <th>date</th>\n",
       "      <th>hourly_sum</th>\n",
       "    </tr>\n",
       "  </thead>\n",
       "  <tbody>\n",
       "    <tr>\n",
       "      <th>0</th>\n",
       "      <td>2014-11-01</td>\n",
       "      <td>65732.0</td>\n",
       "    </tr>\n",
       "    <tr>\n",
       "      <th>1</th>\n",
       "      <td>2014-11-02</td>\n",
       "      <td>5471.0</td>\n",
       "    </tr>\n",
       "    <tr>\n",
       "      <th>2</th>\n",
       "      <td>2014-11-03</td>\n",
       "      <td>5513.0</td>\n",
       "    </tr>\n",
       "    <tr>\n",
       "      <th>3</th>\n",
       "      <td>2014-11-04</td>\n",
       "      <td>7409.0</td>\n",
       "    </tr>\n",
       "    <tr>\n",
       "      <th>4</th>\n",
       "      <td>2014-11-05</td>\n",
       "      <td>8799.0</td>\n",
       "    </tr>\n",
       "    <tr>\n",
       "      <th>...</th>\n",
       "      <td>...</td>\n",
       "      <td>...</td>\n",
       "    </tr>\n",
       "    <tr>\n",
       "      <th>2902</th>\n",
       "      <td>2022-11-08</td>\n",
       "      <td>67171.0</td>\n",
       "    </tr>\n",
       "    <tr>\n",
       "      <th>2903</th>\n",
       "      <td>2022-11-09</td>\n",
       "      <td>21563.0</td>\n",
       "    </tr>\n",
       "    <tr>\n",
       "      <th>2904</th>\n",
       "      <td>2022-11-10</td>\n",
       "      <td>9669.0</td>\n",
       "    </tr>\n",
       "    <tr>\n",
       "      <th>2905</th>\n",
       "      <td>2022-11-11</td>\n",
       "      <td>33551.0</td>\n",
       "    </tr>\n",
       "    <tr>\n",
       "      <th>2906</th>\n",
       "      <td>2022-11-12</td>\n",
       "      <td>483.0</td>\n",
       "    </tr>\n",
       "  </tbody>\n",
       "</table>\n",
       "<p>2907 rows × 2 columns</p>\n",
       "</div>"
      ],
      "text/plain": [
       "           date  hourly_sum\n",
       "0    2014-11-01     65732.0\n",
       "1    2014-11-02      5471.0\n",
       "2    2014-11-03      5513.0\n",
       "3    2014-11-04      7409.0\n",
       "4    2014-11-05      8799.0\n",
       "...         ...         ...\n",
       "2902 2022-11-08     67171.0\n",
       "2903 2022-11-09     21563.0\n",
       "2904 2022-11-10      9669.0\n",
       "2905 2022-11-11     33551.0\n",
       "2906 2022-11-12       483.0\n",
       "\n",
       "[2907 rows x 2 columns]"
      ]
     },
     "execution_count": 103,
     "metadata": {},
     "output_type": "execute_result"
    }
   ],
   "source": [
    "df1"
   ]
  },
  {
   "cell_type": "code",
   "execution_count": 104,
   "id": "73dced8e",
   "metadata": {},
   "outputs": [
    {
     "name": "stderr",
     "output_type": "stream",
     "text": [
      "C:\\Users\\halee\\AppData\\Local\\Temp\\ipykernel_27864\\4173309574.py:2: MatplotlibDeprecationWarning: The seaborn styles shipped by Matplotlib are deprecated since 3.6, as they no longer correspond to the styles shipped by seaborn. However, they will remain available as 'seaborn-v0_8-<style>'. Alternatively, directly use the seaborn API instead.\n",
      "  plt.style.use('seaborn')\n"
     ]
    }
   ],
   "source": [
    "import matplotlib.pyplot as plt\n",
    "plt.style.use('seaborn')\n",
    "plt.rcParams[\"figure.figsize\"] = (20,15)"
   ]
  },
  {
   "cell_type": "code",
   "execution_count": 107,
   "id": "a07ed8c8",
   "metadata": {},
   "outputs": [],
   "source": [
    "# Convert the \"run_start_time\" column to a datetime type\n",
    "df1['date'] = pd.to_datetime(df1['date'])\n",
    "                             # Set the run_start_time column as the DataFrame index\n",
    "df1.set_index('date', inplace=True)"
   ]
  },
  {
   "cell_type": "code",
   "execution_count": 108,
   "id": "27fbe3e9",
   "metadata": {},
   "outputs": [
    {
     "data": {
      "text/html": [
       "<div>\n",
       "<style scoped>\n",
       "    .dataframe tbody tr th:only-of-type {\n",
       "        vertical-align: middle;\n",
       "    }\n",
       "\n",
       "    .dataframe tbody tr th {\n",
       "        vertical-align: top;\n",
       "    }\n",
       "\n",
       "    .dataframe thead th {\n",
       "        text-align: right;\n",
       "    }\n",
       "</style>\n",
       "<table border=\"1\" class=\"dataframe\">\n",
       "  <thead>\n",
       "    <tr style=\"text-align: right;\">\n",
       "      <th></th>\n",
       "      <th>hourly_sum</th>\n",
       "    </tr>\n",
       "    <tr>\n",
       "      <th>date</th>\n",
       "      <th></th>\n",
       "    </tr>\n",
       "  </thead>\n",
       "  <tbody>\n",
       "    <tr>\n",
       "      <th>2014-11-01</th>\n",
       "      <td>65732.0</td>\n",
       "    </tr>\n",
       "    <tr>\n",
       "      <th>2014-11-02</th>\n",
       "      <td>5471.0</td>\n",
       "    </tr>\n",
       "    <tr>\n",
       "      <th>2014-11-03</th>\n",
       "      <td>5513.0</td>\n",
       "    </tr>\n",
       "    <tr>\n",
       "      <th>2014-11-04</th>\n",
       "      <td>7409.0</td>\n",
       "    </tr>\n",
       "    <tr>\n",
       "      <th>2014-11-05</th>\n",
       "      <td>8799.0</td>\n",
       "    </tr>\n",
       "    <tr>\n",
       "      <th>...</th>\n",
       "      <td>...</td>\n",
       "    </tr>\n",
       "    <tr>\n",
       "      <th>2022-11-08</th>\n",
       "      <td>67171.0</td>\n",
       "    </tr>\n",
       "    <tr>\n",
       "      <th>2022-11-09</th>\n",
       "      <td>21563.0</td>\n",
       "    </tr>\n",
       "    <tr>\n",
       "      <th>2022-11-10</th>\n",
       "      <td>9669.0</td>\n",
       "    </tr>\n",
       "    <tr>\n",
       "      <th>2022-11-11</th>\n",
       "      <td>33551.0</td>\n",
       "    </tr>\n",
       "    <tr>\n",
       "      <th>2022-11-12</th>\n",
       "      <td>483.0</td>\n",
       "    </tr>\n",
       "  </tbody>\n",
       "</table>\n",
       "<p>2907 rows × 1 columns</p>\n",
       "</div>"
      ],
      "text/plain": [
       "            hourly_sum\n",
       "date                  \n",
       "2014-11-01     65732.0\n",
       "2014-11-02      5471.0\n",
       "2014-11-03      5513.0\n",
       "2014-11-04      7409.0\n",
       "2014-11-05      8799.0\n",
       "...                ...\n",
       "2022-11-08     67171.0\n",
       "2022-11-09     21563.0\n",
       "2022-11-10      9669.0\n",
       "2022-11-11     33551.0\n",
       "2022-11-12       483.0\n",
       "\n",
       "[2907 rows x 1 columns]"
      ]
     },
     "execution_count": 108,
     "metadata": {},
     "output_type": "execute_result"
    }
   ],
   "source": [
    "df1"
   ]
  },
  {
   "cell_type": "code",
   "execution_count": 109,
   "id": "c9f74d6c",
   "metadata": {},
   "outputs": [
    {
     "data": {
      "text/plain": [
       "<matplotlib.legend.Legend at 0x2b790458c10>"
      ]
     },
     "execution_count": 109,
     "metadata": {},
     "output_type": "execute_result"
    },
    {
     "data": {
      "image/png": "[encoded data removed]",
      "text/plain": [
       "<Figure size 2000x1500 with 1 Axes>"
      ]
     },
     "metadata": {},
     "output_type": "display_data"
    }
   ],
   "source": [
    "series_power = df1\n",
    "\n",
    "series_power.plot(label='Number of outages')\n",
    "\n",
    "plt.legend()"
   ]
  },
  {
   "cell_type": "code",
   "execution_count": 112,
   "id": "2b260455",
   "metadata": {},
   "outputs": [
    {
     "data": {
      "text/html": [
       "<div>\n",
       "<style scoped>\n",
       "    .dataframe tbody tr th:only-of-type {\n",
       "        vertical-align: middle;\n",
       "    }\n",
       "\n",
       "    .dataframe tbody tr th {\n",
       "        vertical-align: top;\n",
       "    }\n",
       "\n",
       "    .dataframe thead th {\n",
       "        text-align: right;\n",
       "    }\n",
       "</style>\n",
       "<table border=\"1\" class=\"dataframe\">\n",
       "  <thead>\n",
       "    <tr style=\"text-align: right;\">\n",
       "      <th></th>\n",
       "      <th>hourly_sum</th>\n",
       "    </tr>\n",
       "    <tr>\n",
       "      <th>date</th>\n",
       "      <th></th>\n",
       "    </tr>\n",
       "  </thead>\n",
       "  <tbody>\n",
       "    <tr>\n",
       "      <th>2014-11-01</th>\n",
       "      <td>65732.0</td>\n",
       "    </tr>\n",
       "    <tr>\n",
       "      <th>2014-11-02</th>\n",
       "      <td>5471.0</td>\n",
       "    </tr>\n",
       "    <tr>\n",
       "      <th>2014-11-03</th>\n",
       "      <td>5513.0</td>\n",
       "    </tr>\n",
       "    <tr>\n",
       "      <th>2014-11-04</th>\n",
       "      <td>7409.0</td>\n",
       "    </tr>\n",
       "    <tr>\n",
       "      <th>2014-11-05</th>\n",
       "      <td>8799.0</td>\n",
       "    </tr>\n",
       "    <tr>\n",
       "      <th>...</th>\n",
       "      <td>...</td>\n",
       "    </tr>\n",
       "    <tr>\n",
       "      <th>2022-11-08</th>\n",
       "      <td>67171.0</td>\n",
       "    </tr>\n",
       "    <tr>\n",
       "      <th>2022-11-09</th>\n",
       "      <td>21563.0</td>\n",
       "    </tr>\n",
       "    <tr>\n",
       "      <th>2022-11-10</th>\n",
       "      <td>9669.0</td>\n",
       "    </tr>\n",
       "    <tr>\n",
       "      <th>2022-11-11</th>\n",
       "      <td>33551.0</td>\n",
       "    </tr>\n",
       "    <tr>\n",
       "      <th>2022-11-12</th>\n",
       "      <td>483.0</td>\n",
       "    </tr>\n",
       "  </tbody>\n",
       "</table>\n",
       "<p>2907 rows × 1 columns</p>\n",
       "</div>"
      ],
      "text/plain": [
       "            hourly_sum\n",
       "date                  \n",
       "2014-11-01     65732.0\n",
       "2014-11-02      5471.0\n",
       "2014-11-03      5513.0\n",
       "2014-11-04      7409.0\n",
       "2014-11-05      8799.0\n",
       "...                ...\n",
       "2022-11-08     67171.0\n",
       "2022-11-09     21563.0\n",
       "2022-11-10      9669.0\n",
       "2022-11-11     33551.0\n",
       "2022-11-12       483.0\n",
       "\n",
       "[2907 rows x 1 columns]"
      ]
     },
     "execution_count": 112,
     "metadata": {},
     "output_type": "execute_result"
    }
   ],
   "source": [
    "df1"
   ]
  },
  {
   "cell_type": "code",
   "execution_count": 114,
   "id": "7fe67c9f",
   "metadata": {},
   "outputs": [
    {
     "data": {
      "text/plain": [
       "[<matplotlib.lines.Line2D at 0x2b790580250>]"
      ]
     },
     "execution_count": 114,
     "metadata": {},
     "output_type": "execute_result"
    },
    {
     "data": {
      "image/png": "[encoded data removed]",
      "text/plain": [
       "<Figure size 2000x1500 with 1 Axes>"
      ]
     },
     "metadata": {},
     "output_type": "display_data"
    }
   ],
   "source": [
    "import matplotlib.pyplot as plt\n",
    "\n",
    "plt.plot(df1.index, df1['hourly_sum'])"
   ]
  },
  {
   "cell_type": "code",
   "execution_count": 120,
   "id": "66775abf",
   "metadata": {},
   "outputs": [
    {
     "data": {
      "text/plain": [
       "datetime.datetime(1986, 3, 19, 0, 0)"
      ]
     },
     "execution_count": 120,
     "metadata": {},
     "output_type": "execute_result"
    }
   ],
   "source": [
    "import numpy as np\n",
    "import datetime\n",
    "def str_to_datetime(s):\n",
    "  split = s.split('-')\n",
    "  year, month, day = int(split[0]), int(split[1]), int(split[2])\n",
    "  return datetime.datetime(year=year, month=month, day=day)\n",
    "datetime_object = str_to_datetime('1986-03-19')\n",
    "datetime_object"
   ]
  },
  {
   "cell_type": "code",
   "execution_count": 125,
   "id": "d737e27c",
   "metadata": {},
   "outputs": [
    {
     "ename": "KeyboardInterrupt",
     "evalue": "",
     "output_type": "error",
     "traceback": [
      "\u001b[1;31m---------------------------------------------------------------------------\u001b[0m",
      "\u001b[1;31mKeyboardInterrupt\u001b[0m                         Traceback (most recent call last)",
      "Cell \u001b[1;32mIn[125], line 55\u001b[0m\n\u001b[0;32m     52\u001b[0m   \u001b[38;5;28;01mreturn\u001b[39;00m ret_df1\n\u001b[0;32m     54\u001b[0m \u001b[38;5;66;03m# Start day second time around: '2021-03-25'\u001b[39;00m\n\u001b[1;32m---> 55\u001b[0m windowed_df1 \u001b[38;5;241m=\u001b[39m df1_to_windowed_df1(df1, \n\u001b[0;32m     56\u001b[0m                                 \u001b[38;5;124m'\u001b[39m\u001b[38;5;124m2021-11-25\u001b[39m\u001b[38;5;124m'\u001b[39m, \n\u001b[0;32m     57\u001b[0m                                 \u001b[38;5;124m'\u001b[39m\u001b[38;5;124m2022-12-23\u001b[39m\u001b[38;5;124m'\u001b[39m, \n\u001b[0;32m     58\u001b[0m                                 n\u001b[38;5;241m=\u001b[39m\u001b[38;5;241m3\u001b[39m)\n\u001b[0;32m     59\u001b[0m windowed_df1\n",
      "Cell \u001b[1;32mIn[125], line 28\u001b[0m, in \u001b[0;36mdf1_to_windowed_df1\u001b[1;34m(dataframe, first_date_str, last_date_str, n)\u001b[0m\n\u001b[0;32m     25\u001b[0m Y\u001b[38;5;241m.\u001b[39mappend(y)\n\u001b[0;32m     27\u001b[0m next_week \u001b[38;5;241m=\u001b[39m dataframe\u001b[38;5;241m.\u001b[39mloc[target_date:target_date\u001b[38;5;241m+\u001b[39mdatetime\u001b[38;5;241m.\u001b[39mtimedelta(days\u001b[38;5;241m=\u001b[39m\u001b[38;5;241m7\u001b[39m)]\n\u001b[1;32m---> 28\u001b[0m next_datetime_str \u001b[38;5;241m=\u001b[39m \u001b[38;5;28mstr\u001b[39m(next_week\u001b[38;5;241m.\u001b[39mhead(\u001b[38;5;241m2\u001b[39m)\u001b[38;5;241m.\u001b[39mtail(\u001b[38;5;241m1\u001b[39m)\u001b[38;5;241m.\u001b[39mindex\u001b[38;5;241m.\u001b[39mvalues[\u001b[38;5;241m0\u001b[39m])\n\u001b[0;32m     29\u001b[0m next_date_str \u001b[38;5;241m=\u001b[39m next_datetime_str\u001b[38;5;241m.\u001b[39msplit(\u001b[38;5;124m'\u001b[39m\u001b[38;5;124mT\u001b[39m\u001b[38;5;124m'\u001b[39m)[\u001b[38;5;241m0\u001b[39m]\n\u001b[0;32m     30\u001b[0m year_month_day \u001b[38;5;241m=\u001b[39m next_date_str\u001b[38;5;241m.\u001b[39msplit(\u001b[38;5;124m'\u001b[39m\u001b[38;5;124m-\u001b[39m\u001b[38;5;124m'\u001b[39m)\n",
      "File \u001b[1;32m~\\anaconda\\Lib\\site-packages\\pandas\\core\\generic.py:5624\u001b[0m, in \u001b[0;36mNDFrame.tail\u001b[1;34m(self, n)\u001b[0m\n\u001b[0;32m   5622\u001b[0m \u001b[38;5;28;01mif\u001b[39;00m n \u001b[38;5;241m==\u001b[39m \u001b[38;5;241m0\u001b[39m:\n\u001b[0;32m   5623\u001b[0m     \u001b[38;5;28;01mreturn\u001b[39;00m \u001b[38;5;28mself\u001b[39m\u001b[38;5;241m.\u001b[39miloc[\u001b[38;5;241m0\u001b[39m:\u001b[38;5;241m0\u001b[39m]\n\u001b[1;32m-> 5624\u001b[0m \u001b[38;5;28;01mreturn\u001b[39;00m \u001b[38;5;28mself\u001b[39m\u001b[38;5;241m.\u001b[39miloc[\u001b[38;5;241m-\u001b[39mn:]\n",
      "File \u001b[1;32m~\\anaconda\\Lib\\site-packages\\pandas\\core\\indexing.py:1073\u001b[0m, in \u001b[0;36m_LocationIndexer.__getitem__\u001b[1;34m(self, key)\u001b[0m\n\u001b[0;32m   1070\u001b[0m axis \u001b[38;5;241m=\u001b[39m \u001b[38;5;28mself\u001b[39m\u001b[38;5;241m.\u001b[39maxis \u001b[38;5;129;01mor\u001b[39;00m \u001b[38;5;241m0\u001b[39m\n\u001b[0;32m   1072\u001b[0m maybe_callable \u001b[38;5;241m=\u001b[39m com\u001b[38;5;241m.\u001b[39mapply_if_callable(key, \u001b[38;5;28mself\u001b[39m\u001b[38;5;241m.\u001b[39mobj)\n\u001b[1;32m-> 1073\u001b[0m \u001b[38;5;28;01mreturn\u001b[39;00m \u001b[38;5;28mself\u001b[39m\u001b[38;5;241m.\u001b[39m_getitem_axis(maybe_callable, axis\u001b[38;5;241m=\u001b[39maxis)\n",
      "File \u001b[1;32m~\\anaconda\\Lib\\site-packages\\pandas\\core\\indexing.py:1602\u001b[0m, in \u001b[0;36m_iLocIndexer._getitem_axis\u001b[1;34m(self, key, axis)\u001b[0m\n\u001b[0;32m   1596\u001b[0m     \u001b[38;5;28;01mraise\u001b[39;00m \u001b[38;5;167;01mIndexError\u001b[39;00m(\n\u001b[0;32m   1597\u001b[0m         \u001b[38;5;124m\"\u001b[39m\u001b[38;5;124mDataFrame indexer is not allowed for .iloc\u001b[39m\u001b[38;5;130;01m\\n\u001b[39;00m\u001b[38;5;124m\"\u001b[39m\n\u001b[0;32m   1598\u001b[0m         \u001b[38;5;124m\"\u001b[39m\u001b[38;5;124mConsider using .loc for automatic alignment.\u001b[39m\u001b[38;5;124m\"\u001b[39m\n\u001b[0;32m   1599\u001b[0m     )\n\u001b[0;32m   1601\u001b[0m \u001b[38;5;28;01mif\u001b[39;00m \u001b[38;5;28misinstance\u001b[39m(key, \u001b[38;5;28mslice\u001b[39m):\n\u001b[1;32m-> 1602\u001b[0m     \u001b[38;5;28;01mreturn\u001b[39;00m \u001b[38;5;28mself\u001b[39m\u001b[38;5;241m.\u001b[39m_get_slice_axis(key, axis\u001b[38;5;241m=\u001b[39maxis)\n\u001b[0;32m   1604\u001b[0m \u001b[38;5;28;01mif\u001b[39;00m is_iterator(key):\n\u001b[0;32m   1605\u001b[0m     key \u001b[38;5;241m=\u001b[39m \u001b[38;5;28mlist\u001b[39m(key)\n",
      "File \u001b[1;32m~\\anaconda\\Lib\\site-packages\\pandas\\core\\indexing.py:1638\u001b[0m, in \u001b[0;36m_iLocIndexer._get_slice_axis\u001b[1;34m(self, slice_obj, axis)\u001b[0m\n\u001b[0;32m   1636\u001b[0m labels \u001b[38;5;241m=\u001b[39m obj\u001b[38;5;241m.\u001b[39m_get_axis(axis)\n\u001b[0;32m   1637\u001b[0m labels\u001b[38;5;241m.\u001b[39m_validate_positional_slice(slice_obj)\n\u001b[1;32m-> 1638\u001b[0m \u001b[38;5;28;01mreturn\u001b[39;00m \u001b[38;5;28mself\u001b[39m\u001b[38;5;241m.\u001b[39mobj\u001b[38;5;241m.\u001b[39m_slice(slice_obj, axis\u001b[38;5;241m=\u001b[39maxis)\n",
      "File \u001b[1;32m~\\anaconda\\Lib\\site-packages\\pandas\\core\\generic.py:4105\u001b[0m, in \u001b[0;36mNDFrame._slice\u001b[1;34m(self, slobj, axis)\u001b[0m\n\u001b[0;32m   4103\u001b[0m \u001b[38;5;28;01massert\u001b[39;00m \u001b[38;5;28misinstance\u001b[39m(slobj, \u001b[38;5;28mslice\u001b[39m), \u001b[38;5;28mtype\u001b[39m(slobj)\n\u001b[0;32m   4104\u001b[0m axis \u001b[38;5;241m=\u001b[39m \u001b[38;5;28mself\u001b[39m\u001b[38;5;241m.\u001b[39m_get_block_manager_axis(axis)\n\u001b[1;32m-> 4105\u001b[0m result \u001b[38;5;241m=\u001b[39m \u001b[38;5;28mself\u001b[39m\u001b[38;5;241m.\u001b[39m_constructor(\u001b[38;5;28mself\u001b[39m\u001b[38;5;241m.\u001b[39m_mgr\u001b[38;5;241m.\u001b[39mget_slice(slobj, axis\u001b[38;5;241m=\u001b[39maxis))\n\u001b[0;32m   4106\u001b[0m result \u001b[38;5;241m=\u001b[39m result\u001b[38;5;241m.\u001b[39m__finalize__(\u001b[38;5;28mself\u001b[39m)\n\u001b[0;32m   4108\u001b[0m \u001b[38;5;66;03m# this could be a view\u001b[39;00m\n\u001b[0;32m   4109\u001b[0m \u001b[38;5;66;03m# but only in a single-dtyped view sliceable case\u001b[39;00m\n",
      "\u001b[1;31mKeyboardInterrupt\u001b[0m: "
     ]
    }
   ],
   "source": [
    "import numpy as np\n",
    "\n",
    "def df1_to_windowed_df1(dataframe, first_date_str, last_date_str, n=3):\n",
    "  first_date = str_to_datetime(first_date_str)\n",
    "  last_date  = str_to_datetime(last_date_str)\n",
    "\n",
    "  target_date = first_date\n",
    "  \n",
    "  dates = []\n",
    "  X, Y = [], []\n",
    "\n",
    "  last_time = False\n",
    "  while True:\n",
    "    df1_subset = dataframe.loc[:target_date].tail(n+1)\n",
    "    \n",
    "    if len(df1_subset) != n+1:\n",
    "      print(f'Error: Window of size {n} is too large for date {target_date}')\n",
    "      return\n",
    "\n",
    "    values = df1_subset['hourly_sum'].to_numpy()\n",
    "    x, y = values[:-1], values[-1]\n",
    "\n",
    "    dates.append(target_date)\n",
    "    X.append(x)\n",
    "    Y.append(y)\n",
    "\n",
    "    next_week = dataframe.loc[target_date:target_date+datetime.timedelta(days=7)]\n",
    "    next_datetime_str = str(next_week.head(2).tail(1).index.values[0])\n",
    "    next_date_str = next_datetime_str.split('T')[0]\n",
    "    year_month_day = next_date_str.split('-')\n",
    "    year, month, day = year_month_day\n",
    "    next_date = datetime.datetime(day=int(day), month=int(month), year=int(year))\n",
    "    \n",
    "    if last_time:\n",
    "      break\n",
    "    \n",
    "    target_date = next_date\n",
    "\n",
    "    if target_date == last_date:\n",
    "      last_time = True\n",
    "    \n",
    "  ret_df1 = pd.DataFrame({})\n",
    "  ret_df1['Target Date'] = dates\n",
    "  \n",
    "  X = np.array(X)\n",
    "  for i in range(0, n):\n",
    "    X[:, i]\n",
    "    ret_df1[f'Target-{n-i}'] = X[:, i]\n",
    "  \n",
    "  ret_df1['Target'] = Y\n",
    "\n",
    "  return ret_df1\n",
    "\n",
    "# Start day second time around: '2021-03-25'\n",
    "windowed_df1 = df1_to_windowed_df1(df1, \n",
    "                                '2021-11-25', \n",
    "                                '2022-12-23', \n",
    "                                n=3)\n",
    "windowed_df1"
   ]
  },
  {
   "cell_type": "code",
   "execution_count": 127,
   "id": "43259536",
   "metadata": {},
   "outputs": [],
   "source": [
    "import os\n",
    "import pandas as pd\n",
    "import numpy as np\n",
    "import matplotlib.pyplot as plt\n",
    "import seaborn as sns\n",
    "import statsmodels.api as sm\n",
    "import tensorflow as tf\n",
    "import xgboost as xgb\n",
    "import os\n",
    "import warnings\n",
    "from tensorflow.keras.layers import Dense, LSTM, Conv1D, MaxPooling1D, TimeDistributed, Flatten, Dropout, RepeatVector\n",
    "from statsmodels.graphics.tsaplots import plot_acf, plot_pacf\n",
    "from statsmodels.tsa.stattools import adfuller, kpss, ccf\n",
    "from sklearn.metrics import mean_squared_error, r2_score\n",
    "from sklearn.preprocessing import LabelEncoder, StandardScaler, MinMaxScaler\n",
    "from sklearn.decomposition import PCA\n",
    "from sklearn.model_selection import train_test_split\n",
    "from math import sqrt\n"
   ]
  },
  {
   "cell_type": "code",
   "execution_count": 128,
   "id": "7b631f92",
   "metadata": {},
   "outputs": [
    {
     "ename": "ValueError",
     "evalue": "You must specify a period or x must be a pandas object with a PeriodIndex or a DatetimeIndex with a freq not set to None",
     "output_type": "error",
     "traceback": [
      "\u001b[1;31m---------------------------------------------------------------------------\u001b[0m",
      "\u001b[1;31mValueError\u001b[0m                                Traceback (most recent call last)",
      "Cell \u001b[1;32mIn[128], line 1\u001b[0m\n\u001b[1;32m----> 1\u001b[0m res \u001b[38;5;241m=\u001b[39m sm\u001b[38;5;241m.\u001b[39mtsa\u001b[38;5;241m.\u001b[39mseasonal_decompose(df1[\u001b[38;5;124m'\u001b[39m\u001b[38;5;124mhourly_sum\u001b[39m\u001b[38;5;124m'\u001b[39m], model\u001b[38;5;241m=\u001b[39m\u001b[38;5;124m'\u001b[39m\u001b[38;5;124madditive\u001b[39m\u001b[38;5;124m'\u001b[39m)\n\u001b[0;32m      3\u001b[0m fig, (ax1, ax2, ax3, ax4) \u001b[38;5;241m=\u001b[39m plt\u001b[38;5;241m.\u001b[39msubplots(\u001b[38;5;241m4\u001b[39m, \u001b[38;5;241m1\u001b[39m, figsize\u001b[38;5;241m=\u001b[39m(\u001b[38;5;241m20\u001b[39m, \u001b[38;5;241m12\u001b[39m))\n\u001b[0;32m      4\u001b[0m res\u001b[38;5;241m.\u001b[39mobserved\u001b[38;5;241m.\u001b[39mplot(ax\u001b[38;5;241m=\u001b[39max1, title\u001b[38;5;241m=\u001b[39m\u001b[38;5;124m'\u001b[39m\u001b[38;5;124mObserved\u001b[39m\u001b[38;5;124m'\u001b[39m)\n",
      "File \u001b[1;32m~\\anaconda\\Lib\\site-packages\\statsmodels\\tsa\\seasonal.py:159\u001b[0m, in \u001b[0;36mseasonal_decompose\u001b[1;34m(x, model, filt, period, two_sided, extrapolate_trend)\u001b[0m\n\u001b[0;32m    157\u001b[0m         period \u001b[38;5;241m=\u001b[39m pfreq\n\u001b[0;32m    158\u001b[0m     \u001b[38;5;28;01melse\u001b[39;00m:\n\u001b[1;32m--> 159\u001b[0m         \u001b[38;5;28;01mraise\u001b[39;00m \u001b[38;5;167;01mValueError\u001b[39;00m(\n\u001b[0;32m    160\u001b[0m             \u001b[38;5;124m\"\u001b[39m\u001b[38;5;124mYou must specify a period or x must be a pandas object with \u001b[39m\u001b[38;5;124m\"\u001b[39m\n\u001b[0;32m    161\u001b[0m             \u001b[38;5;124m\"\u001b[39m\u001b[38;5;124ma PeriodIndex or a DatetimeIndex with a freq not set to None\u001b[39m\u001b[38;5;124m\"\u001b[39m\n\u001b[0;32m    162\u001b[0m         )\n\u001b[0;32m    163\u001b[0m \u001b[38;5;28;01mif\u001b[39;00m x\u001b[38;5;241m.\u001b[39mshape[\u001b[38;5;241m0\u001b[39m] \u001b[38;5;241m<\u001b[39m \u001b[38;5;241m2\u001b[39m \u001b[38;5;241m*\u001b[39m pfreq:\n\u001b[0;32m    164\u001b[0m     \u001b[38;5;28;01mraise\u001b[39;00m \u001b[38;5;167;01mValueError\u001b[39;00m(\n\u001b[0;32m    165\u001b[0m         \u001b[38;5;124mf\u001b[39m\u001b[38;5;124m\"\u001b[39m\u001b[38;5;124mx must have 2 complete cycles requires \u001b[39m\u001b[38;5;132;01m{\u001b[39;00m\u001b[38;5;241m2\u001b[39m\u001b[38;5;250m \u001b[39m\u001b[38;5;241m*\u001b[39m\u001b[38;5;250m \u001b[39mpfreq\u001b[38;5;132;01m}\u001b[39;00m\u001b[38;5;124m \u001b[39m\u001b[38;5;124m\"\u001b[39m\n\u001b[0;32m    166\u001b[0m         \u001b[38;5;124mf\u001b[39m\u001b[38;5;124m\"\u001b[39m\u001b[38;5;124mobservations. x only has \u001b[39m\u001b[38;5;132;01m{\u001b[39;00mx\u001b[38;5;241m.\u001b[39mshape[\u001b[38;5;241m0\u001b[39m]\u001b[38;5;132;01m}\u001b[39;00m\u001b[38;5;124m observation(s)\u001b[39m\u001b[38;5;124m\"\u001b[39m\n\u001b[0;32m    167\u001b[0m     )\n",
      "\u001b[1;31mValueError\u001b[0m: You must specify a period or x must be a pandas object with a PeriodIndex or a DatetimeIndex with a freq not set to None"
     ]
    }
   ],
   "source": [
    "\n",
    "res = sm.tsa.seasonal_decompose(df1['hourly_sum'], model='additive')\n",
    "\n",
    "fig, (ax1, ax2, ax3, ax4) = plt.subplots(4, 1, figsize=(20, 12))\n",
    "res.observed.plot(ax=ax1, title='Observed')\n",
    "res.trend.plot(ax=ax2, title='Trend')\n",
    "res.resid.plot(ax=ax3, title='Residual')\n",
    "res.seasonal.plot(ax=ax4, title='Seasonal')\n",
    "plt.tight_layout()\n",
    "plt.show()"
   ]
  },
  {
   "cell_type": "code",
   "execution_count": 133,
   "id": "d8160ad6",
   "metadata": {},
   "outputs": [
    {
     "data": {
      "image/png": "[encoded data removed]",
      "text/plain": [
       "<Figure size 3000x1200 with 1 Axes>"
      ]
     },
     "metadata": {},
     "output_type": "display_data"
    }
   ],
   "source": [
    "%matplotlib inline\n",
    "rolling = df1['hourly_sum'].rolling(24*7, center=True).mean()\n",
    "ax = plot_series(df1, 'hourly_sum', label='Hourly', ylabel='Actual Price (€/MWh)',\n",
    "                 title='Actual Hourly Electricity Price and Weekly rolling mean')\n",
    "ax.plot(rolling, linestyle='-', linewidth=2, label='Weekly rolling mean')\n",
    "plt.show()"
   ]
  },
  {
   "cell_type": "code",
   "execution_count": 132,
   "id": "7e279e48",
   "metadata": {},
   "outputs": [
    {
     "name": "stderr",
     "output_type": "stream",
     "text": [
      "C:\\Users\\halee\\AppData\\Local\\Temp\\ipykernel_27864\\1224047559.py:3: FutureWarning: The default dtype for empty Series will be 'object' instead of 'float64' in a future version. Specify a dtype explicitly to silence this warning.\n",
      "  def plot_series(df=None, column=None, series=pd.Series([]),\n"
     ]
    }
   ],
   "source": [
    "# Define a function to plot different types of time-series\n",
    "\n",
    "def plot_series(df=None, column=None, series=pd.Series([]), \n",
    "                label=None, ylabel=None, title=None, start=0, end=None):\n",
    "    \"\"\"\n",
    "    Plots a certain time-series which has either been loaded in a dataframe\n",
    "    and which constitutes one of its columns or it a custom pandas series \n",
    "    created by the user. The user can define either the 'df' and the 'column' \n",
    "    or the 'series' and additionally, can also define the 'label', the \n",
    "    'ylabel', the 'title', the 'start' and the 'end' of the plot.\n",
    "    \"\"\"\n",
    "    sns.set()\n",
    "    fig, ax = plt.subplots(figsize=(30, 12))\n",
    "    ax.set_xlabel('Time', fontsize=16)\n",
    "    if column:\n",
    "        ax.plot(df[column][start:end], label=label)\n",
    "        ax.set_ylabel(ylabel, fontsize=16)\n",
    "    if series.any():\n",
    "        ax.plot(series, label=label)\n",
    "        ax.set_ylabel(ylabel, fontsize=16)\n",
    "    if label:\n",
    "        ax.legend(fontsize=16)\n",
    "    if title:\n",
    "        ax.set_title(title, fontsize=24)\n",
    "    ax.grid(True)\n",
    "    return ax"
   ]
  },
  {
   "cell_type": "code",
   "execution_count": 149,
   "id": "98095f51",
   "metadata": {},
   "outputs": [
    {
     "data": {
      "image/png": "[encoded data removed]",
      "text/plain": [
       "<Figure size 3000x1200 with 1 Axes>"
      ]
     },
     "metadata": {},
     "output_type": "display_data"
    }
   ],
   "source": [
    "# Zoom into the plot of the hourly (actual) total load\n",
    "\n",
    "ax = plot_series(df=df3, column='hourly_sum',ylabel='hourly_sum',\n",
    "                 title='Actual Total Load (First 2 weeks - Original)', end=24*7*2)\n",
    "plt.show()\n"
   ]
  },
  {
   "cell_type": "code",
   "execution_count": 150,
   "id": "1bf90141",
   "metadata": {},
   "outputs": [
    {
     "data": {
      "text/html": [
       "<div>\n",
       "<style scoped>\n",
       "    .dataframe tbody tr th:only-of-type {\n",
       "        vertical-align: middle;\n",
       "    }\n",
       "\n",
       "    .dataframe tbody tr th {\n",
       "        vertical-align: top;\n",
       "    }\n",
       "\n",
       "    .dataframe thead th {\n",
       "        text-align: right;\n",
       "    }\n",
       "</style>\n",
       "<table border=\"1\" class=\"dataframe\">\n",
       "  <thead>\n",
       "    <tr style=\"text-align: right;\">\n",
       "      <th></th>\n",
       "      <th>hourly_sum</th>\n",
       "    </tr>\n",
       "    <tr>\n",
       "      <th>run_start_time</th>\n",
       "      <th></th>\n",
       "    </tr>\n",
       "  </thead>\n",
       "  <tbody>\n",
       "  </tbody>\n",
       "</table>\n",
       "</div>"
      ],
      "text/plain": [
       "Empty DataFrame\n",
       "Columns: [hourly_sum]\n",
       "Index: []"
      ]
     },
     "execution_count": 150,
     "metadata": {},
     "output_type": "execute_result"
    }
   ],
   "source": [
    "# Display the rows with null values\n",
    "\n",
    "df3[df3.isnull().any(axis=1)].tail()"
   ]
  },
  {
   "cell_type": "code",
   "execution_count": 151,
   "id": "c74bc5bc",
   "metadata": {},
   "outputs": [
    {
     "name": "stdout",
     "output_type": "stream",
     "text": [
      "Non-zero values in each column:\n",
      "\n",
      "hourly_sum    63511\n",
      "dtype: int64\n"
     ]
    }
   ],
   "source": [
    "print('Non-zero values in each column:\\n', df3.astype(bool).sum(axis=0), sep='\\n')"
   ]
  },
  {
   "cell_type": "code",
   "execution_count": 152,
   "id": "dc190561",
   "metadata": {},
   "outputs": [],
   "source": [
    "X = df3[df3.columns.drop('hourly_sum')].values\n",
    "y = df3['hourly_sum'].values\n",
    "\n",
    "y = y.reshape(-1, 1)"
   ]
  },
  {
   "cell_type": "code",
   "execution_count": 153,
   "id": "28c73cb3",
   "metadata": {},
   "outputs": [],
   "source": [
    "scaler_X = MinMaxScaler(feature_range=(0, 1))\n",
    "scaler_y = MinMaxScaler(feature_range=(0, 1))"
   ]
  },
  {
   "cell_type": "code",
   "execution_count": 154,
   "id": "93b09007",
   "metadata": {},
   "outputs": [
    {
     "ename": "NameError",
     "evalue": "name 'train_end_idx' is not defined",
     "output_type": "error",
     "traceback": [
      "\u001b[1;31m---------------------------------------------------------------------------\u001b[0m",
      "\u001b[1;31mNameError\u001b[0m                                 Traceback (most recent call last)",
      "Cell \u001b[1;32mIn[154], line 1\u001b[0m\n\u001b[1;32m----> 1\u001b[0m scaler_X\u001b[38;5;241m.\u001b[39mfit(X[:train_end_idx])\n\u001b[0;32m      2\u001b[0m scaler_y\u001b[38;5;241m.\u001b[39mfit(y[:train_end_idx])\n",
      "\u001b[1;31mNameError\u001b[0m: name 'train_end_idx' is not defined"
     ]
    }
   ],
   "source": [
    "scaler_X.fit(X[:train_end_idx])\n",
    "scaler_y.fit(y[:train_end_idx])"
   ]
  },
  {
   "cell_type": "code",
   "execution_count": null,
   "id": "4aa90a67",
   "metadata": {},
   "outputs": [],
   "source": []
  }
 ],
 "metadata": {
  "kernelspec": {
   "display_name": "Python 3 (ipykernel)",
   "language": "python",
   "name": "python3"
  },
  "language_info": {
   "codemirror_mode": {
    "name": "ipython",
    "version": 3
   },
   "file_extension": ".py",
   "mimetype": "text/x-python",
   "name": "python",
   "nbconvert_exporter": "python",
   "pygments_lexer": "ipython3",
   "version": "3.11.3"
  }
 },
 "nbformat": 4,
 "nbformat_minor": 5
}
