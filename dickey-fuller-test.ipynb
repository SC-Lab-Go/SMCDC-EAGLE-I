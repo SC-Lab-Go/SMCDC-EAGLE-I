{
 "cells": [
  {
   "cell_type": "markdown",
   "metadata": {},
   "source": [
    "Run the Dickey-Fuller test on a sample of 10% of US counties in the year 2022."
   ]
  },
  {
   "cell_type": "code",
   "execution_count": 1,
   "metadata": {},
   "outputs": [],
   "source": [
    "%%capture\n",
    "!pip install statsmodels vaex"
   ]
  },
  {
   "cell_type": "code",
   "execution_count": 16,
   "metadata": {},
   "outputs": [],
   "source": [
    "from pathlib import Path\n",
    "import math\n",
    "\n",
    "import numpy as np\n",
    "import pandas as pd\n",
    "import vaex as vx\n",
    "import matplotlib.pylab as plt\n",
    "import seaborn as sns\n",
    "from tqdm import tqdm\n",
    "from statsmodels.tsa.stattools import adfuller\n",
    "\n",
    "# HOME = Path(os.environ['HOME'])\n",
    "HOME = Path(\"/notebooks\")\n",
    "# HOME = Path(\"/mnt/c/Users/isabe\")\n",
    "# PROJECT = HOME / \"Documents/repos/eagle-comp\"\n",
    "PROJECT = HOME / \"eagle-comp\"\n",
    "DATA = PROJECT / \"data\"\n",
    "EAGLE_DATA = Path(\"/datasets/eagle-comp\")"
   ]
  },
  {
   "cell_type": "code",
   "execution_count": 3,
   "metadata": {},
   "outputs": [],
   "source": [
    "def add_zeroes(outage_df):\n",
    "    outage_df = outage_df.reset_index()\n",
    "    outage_df['run_start_time'] = pd.to_datetime(outage_df['run_start_time'])\n",
    "    outage_df['run_start_time'] = outage_df['run_start_time'].dt.round('15min')\n",
    "    outage_df = outage_df.set_index([\"fips_code\", \"run_start_time\"]).sort_index()\n",
    "    na_rows = outage_df[outage_df['sum'].isna()].index\n",
    "    outage_df = outage_df.groupby('fips_code').apply(lambda g: g.loc[g.index.get_level_values(0)[0]].resample('15T').first().fillna(0))\n",
    "    outage_df.loc[na_rows] = np.nan\n",
    "    outage_df.reset_index(inplace=True)\n",
    "    return outage_df"
   ]
  },
  {
   "cell_type": "code",
   "execution_count": 20,
   "metadata": {},
   "outputs": [],
   "source": [
    "df_2022 = pd.read_csv(EAGLE_DATA / \"eaglei_outages_2022.csv\", parse_dates=[\"run_start_time\"], index_col=[\"fips_code\", \"run_start_time\"]).sort_index()"
   ]
  },
  {
   "cell_type": "code",
   "execution_count": 21,
   "metadata": {},
   "outputs": [
    {
     "data": {
      "text/plain": [
       "array([53013, 25017, 26085, 55057,  8045, 46017, 12101, 20101, 53019,\n",
       "       48299])"
      ]
     },
     "execution_count": 21,
     "metadata": {},
     "output_type": "execute_result"
    }
   ],
   "source": [
    "# Since there are 3044 FIPS codes, we can sample 10% of them to get a sense of the data\n",
    "all_fips = df_2022.index.get_level_values(0).unique()\n",
    "sample_size = math.ceil(all_fips.size * 0.1) # get 10% of values\n",
    "# set seed\n",
    "np.random.seed(123)\n",
    "fips_sample = np.random.choice(all_fips, size=sample_size, replace=False)\n",
    "fips_sample[:10]"
   ]
  },
  {
   "cell_type": "code",
   "execution_count": 22,
   "metadata": {},
   "outputs": [],
   "source": [
    "sample = df_2022.loc[fips_sample]\n",
    "sample.sort_index(inplace=True)"
   ]
  },
  {
   "cell_type": "code",
   "execution_count": 8,
   "metadata": {},
   "outputs": [],
   "source": [
    "def dickey_fuller(series):\n",
    "    dftest = adfuller(series.dropna(), autolag='AIC')\n",
    "    dfoutput = pd.Series(dftest[0:4], index=['Test Statistic', 'p-value', 'Number of Lags Used', 'Number of Observations Used'])\n",
    "    for key, value in dftest[4].items():\n",
    "        dfoutput['Critical Value (%s)' %key] = value\n",
    "    return dfoutput"
   ]
  },
  {
   "cell_type": "code",
   "execution_count": 42,
   "metadata": {},
   "outputs": [],
   "source": [
    "def dickey_fuller_df(series, fips):\n",
    "    results = pd.DataFrame(index=fips_sample, columns=['Test Statistic', 'p-value', '# Lags Used', '# Observations Used', 'Critical Value (1%)', 'Critical Value (5%)', 'Critical Value (10%)'])\n",
    "    for fips in tqdm(fips_sample):\n",
    "        if series.loc[fips].dropna().size > 0:\n",
    "            results.loc[fips] = dickey_fuller(series.loc[fips])\n",
    "        else:\n",
    "            results.loc[fips] = np.nan\n",
    "    return results"
   ]
  },
  {
   "cell_type": "code",
   "execution_count": 43,
   "metadata": {},
   "outputs": [
    {
     "name": "stderr",
     "output_type": "stream",
     "text": [
      " 96%|█████████▌| 292/305 [01:23<00:04,  3.21it/s]/opt/conda/envs/rapids/lib/python3.9/site-packages/statsmodels/regression/linear_model.py:924: RuntimeWarning: divide by zero encountered in log\n",
      "  llf = -nobs2*np.log(2*np.pi) - nobs2*np.log(ssr / nobs) - nobs2\n",
      "100%|██████████| 305/305 [01:27<00:00,  3.48it/s]\n"
     ]
    }
   ],
   "source": [
    "dickey_fuller_results = dickey_fuller_df(sample['sum'], fips_sample)"
   ]
  },
  {
   "cell_type": "code",
   "execution_count": null,
   "metadata": {},
   "outputs": [],
   "source": [
    "dickey_fuller_results.to_csv('dickey_fuller_results.csv')"
   ]
  },
  {
   "cell_type": "code",
   "execution_count": 44,
   "metadata": {},
   "outputs": [
    {
     "data": {
      "text/plain": [
       "285"
      ]
     },
     "execution_count": 44,
     "metadata": {},
     "output_type": "execute_result"
    }
   ],
   "source": [
    "(dickey_fuller_results['p-value'] < 0.01).sum()"
   ]
  },
  {
   "cell_type": "code",
   "execution_count": 63,
   "metadata": {},
   "outputs": [
    {
     "data": {
      "text/plain": [
       "292"
      ]
     },
     "execution_count": 63,
     "metadata": {},
     "output_type": "execute_result"
    }
   ],
   "source": [
    "(dickey_fuller_results['p-value'] < 0.1).sum()"
   ]
  },
  {
   "cell_type": "code",
   "execution_count": 61,
   "metadata": {},
   "outputs": [
    {
     "data": {
      "text/plain": [
       "(305, 7)"
      ]
     },
     "execution_count": 61,
     "metadata": {},
     "output_type": "execute_result"
    }
   ],
   "source": [
    "dickey_fuller_results.shape"
   ]
  },
  {
   "cell_type": "code",
   "execution_count": 54,
   "metadata": {},
   "outputs": [],
   "source": [
    "non_stationary = dickey_fuller_results['p-value'] > 0.01\n",
    "non_stationary_fips = dickey_fuller_results[non_stationary].index.values"
   ]
  },
  {
   "cell_type": "code",
   "execution_count": 98,
   "metadata": {},
   "outputs": [],
   "source": [
    "# use groupby to return the number of nan values and number of rows for each fips code\n",
    "num_observations = (~(df_2022.loc[non_stationary_fips][['sum']].isna())).groupby(\"fips_code\").apply(lambda x: pd.DataFrame({\"Number of Observations\": x.sum()})).reset_index().drop(columns=\"level_1\").set_index(\"fips_code\")"
   ]
  },
  {
   "cell_type": "code",
   "execution_count": 128,
   "metadata": {},
   "outputs": [],
   "source": [
    "res = num_observations.merge(dickey_fuller_results['p-value'], left_index=True, right_index=True, how='inner').sort_values('p-value', ascending=False)"
   ]
  },
  {
   "cell_type": "code",
   "execution_count": 129,
   "metadata": {},
   "outputs": [],
   "source": [
    "res.index.name = 'County FIPS Code'"
   ]
  },
  {
   "cell_type": "code",
   "execution_count": 130,
   "metadata": {},
   "outputs": [],
   "source": [
    "res['p-value'] = res['p-value'].astype(float)"
   ]
  },
  {
   "cell_type": "code",
   "execution_count": 132,
   "metadata": {},
   "outputs": [],
   "source": [
    "res['p-value'] = res['p-value'].round(3)"
   ]
  },
  {
   "cell_type": "code",
   "execution_count": 134,
   "metadata": {},
   "outputs": [
    {
     "data": {
      "text/html": [
       "<div>\n",
       "<style scoped>\n",
       "    .dataframe tbody tr th:only-of-type {\n",
       "        vertical-align: middle;\n",
       "    }\n",
       "\n",
       "    .dataframe tbody tr th {\n",
       "        vertical-align: top;\n",
       "    }\n",
       "\n",
       "    .dataframe thead th {\n",
       "        text-align: right;\n",
       "    }\n",
       "</style>\n",
       "<table border=\"1\" class=\"dataframe\">\n",
       "  <thead>\n",
       "    <tr style=\"text-align: right;\">\n",
       "      <th>County FIPS Code</th>\n",
       "      <th>38011</th>\n",
       "      <th>31023</th>\n",
       "      <th>1071</th>\n",
       "      <th>8111</th>\n",
       "      <th>15009</th>\n",
       "      <th>46071</th>\n",
       "      <th>38081</th>\n",
       "      <th>31049</th>\n",
       "      <th>46065</th>\n",
       "      <th>46061</th>\n",
       "      <th>72113</th>\n",
       "      <th>27121</th>\n",
       "      <th>31003</th>\n",
       "    </tr>\n",
       "  </thead>\n",
       "  <tbody>\n",
       "    <tr>\n",
       "      <th>Number of Observations</th>\n",
       "      <td>72.000</td>\n",
       "      <td>305.000</td>\n",
       "      <td>122.00</td>\n",
       "      <td>91.000</td>\n",
       "      <td>282.000</td>\n",
       "      <td>1150.000</td>\n",
       "      <td>4612.000</td>\n",
       "      <td>176.000</td>\n",
       "      <td>175.000</td>\n",
       "      <td>1760.000</td>\n",
       "      <td>28390.000</td>\n",
       "      <td>1533.000</td>\n",
       "      <td>177.000</td>\n",
       "    </tr>\n",
       "    <tr>\n",
       "      <th>p-value</th>\n",
       "      <td>0.746</td>\n",
       "      <td>0.574</td>\n",
       "      <td>0.49</td>\n",
       "      <td>0.252</td>\n",
       "      <td>0.165</td>\n",
       "      <td>0.109</td>\n",
       "      <td>0.096</td>\n",
       "      <td>0.083</td>\n",
       "      <td>0.055</td>\n",
       "      <td>0.033</td>\n",
       "      <td>0.021</td>\n",
       "      <td>0.019</td>\n",
       "      <td>0.011</td>\n",
       "    </tr>\n",
       "  </tbody>\n",
       "</table>\n",
       "</div>"
      ],
      "text/plain": [
       "County FIPS Code         38011    31023   1071    8111     15009     46071  \\\n",
       "Number of Observations  72.000  305.000  122.00  91.000  282.000  1150.000   \n",
       "p-value                  0.746    0.574    0.49   0.252    0.165     0.109   \n",
       "\n",
       "County FIPS Code           38081    31049    46065     46061      72113  \\\n",
       "Number of Observations  4612.000  176.000  175.000  1760.000  28390.000   \n",
       "p-value                    0.096    0.083    0.055     0.033      0.021   \n",
       "\n",
       "County FIPS Code           27121    31003  \n",
       "Number of Observations  1533.000  177.000  \n",
       "p-value                    0.019    0.011  "
      ]
     },
     "execution_count": 134,
     "metadata": {},
     "output_type": "execute_result"
    }
   ],
   "source": [
    "res.T"
   ]
  }
 ],
 "metadata": {
  "kernelspec": {
   "display_name": "Python 3 (ipykernel)",
   "language": "python",
   "name": "python3"
  },
  "orig_nbformat": 4
 },
 "nbformat": 4,
 "nbformat_minor": 2
}
